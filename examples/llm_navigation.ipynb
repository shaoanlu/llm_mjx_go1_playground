{
  "cells": [
    {
      "cell_type": "markdown",
      "metadata": {
        "id": "FPsnZakTrFGS"
      },
      "source": [
        "# LLM-Guided Quadruped Robot Navigation\n",
        "\n",
        "This notebook demonstrates how to use a large language model (Gemini) to guide a quadruped robot (Unitree Go1) through a partially known maze environment. The LLM acts as a path planner that suggests waypoints based on the robot's feedback from failed navigation attempts.\n",
        "\n",
        "## Overview\n",
        "- The environment is a 5x5 grid maze with some untraversable cells\n",
        "- The robot starts at (0,0) and needs to reach (4,4)\n",
        "- The LLM receives feedback from failed attempts to refine its path planning\n",
        "- The simulation uses MuJoCo physics engine with JAX acceleration\n",
        "\n",
        "## Installation and Setup\n",
        "First, let's install the required packages:"
      ]
    },
    {
      "cell_type": "code",
      "execution_count": 1,
      "metadata": {
        "cellView": "form",
        "id": "Xqo7pyX-n72M"
      },
      "outputs": [],
      "source": [
        "%%capture\n",
        "!pip install mujoco mujoco_mjx brax playground\n",
        "!command -v ffmpeg >/dev/null || (apt update && apt install -y ffmpeg)\n",
        "!pip install -q mediapy\n",
        "!apt-get update\n",
        "!apt-get install -y libosmesa6-dev libgl1-mesa-glx libglfw3 patchelf"
      ]
    },
    {
      "cell_type": "code",
      "execution_count": 2,
      "metadata": {
        "id": "gvmLOXS7FWou"
      },
      "outputs": [],
      "source": [
        "%pip install -q -U 'google-generativeai>=0.8.3'"
      ]
    },
    {
      "cell_type": "code",
      "execution_count": 2,
      "metadata": {
        "id": "T5f4w3Kq2X14"
      },
      "outputs": [],
      "source": [
        "import jax\n",
        "import numpy as np\n",
        "import mediapy\n",
        "import os\n",
        "from tqdm import tqdm\n",
        "from matplotlib import pyplot as plt\n",
        "\n",
        "os.environ[\"MUJOCO_GL\"] = \"egl\"\n",
        "\n",
        "# More legible printing from numpy.\n",
        "np.set_printoptions(precision=3, suppress=True, linewidth=100)"
      ]
    },
    {
      "cell_type": "code",
      "execution_count": 2,
      "metadata": {
        "id": "ZcNqx9YUejAy"
      },
      "outputs": [],
      "source": []
    },
    {
      "cell_type": "markdown",
      "metadata": {
        "id": "hssKFDcnrFGW"
      },
      "source": [
        "## Clone the Repository\n",
        "Clone the repository containing the simulation environment and navigation code:"
      ]
    },
    {
      "cell_type": "code",
      "execution_count": 3,
      "metadata": {
        "colab": {
          "base_uri": "https://localhost:8080/"
        },
        "id": "2ZnNqQU0TQvb",
        "outputId": "4eb6c9ef-71d7-48d1-f6e5-ca196d733b16"
      },
      "outputs": [
        {
          "output_type": "stream",
          "name": "stdout",
          "text": [
            "Cloning into 'llm_mjx_go1_playground'...\n",
            "remote: Enumerating objects: 710, done.\u001b[K\n",
            "remote: Counting objects: 100% (223/223), done.\u001b[K\n",
            "remote: Compressing objects: 100% (158/158), done.\u001b[K\n",
            "remote: Total 710 (delta 123), reused 129 (delta 63), pack-reused 487 (from 1)\u001b[K\n",
            "Receiving objects: 100% (710/710), 10.06 MiB | 14.26 MiB/s, done.\n",
            "Resolving deltas: 100% (394/394), done.\n"
          ]
        }
      ],
      "source": [
        "!git clone https://github.com/shaoanlu/llm_mjx_go1_playground.git"
      ]
    },
    {
      "cell_type": "code",
      "execution_count": 4,
      "metadata": {
        "colab": {
          "base_uri": "https://localhost:8080/"
        },
        "id": "pQXZu_W7ExY6",
        "outputId": "b211cc96-56d1-44ac-911b-b5204a84cb2d"
      },
      "outputs": [
        {
          "output_type": "stream",
          "name": "stdout",
          "text": [
            "/content/llm_mjx_go1_playground\n"
          ]
        }
      ],
      "source": [
        "%cd llm_mjx_go1_playground"
      ]
    },
    {
      "cell_type": "markdown",
      "metadata": {
        "id": "1OeVHTE3rFGX"
      },
      "source": [
        "## Simulation Environment Setup\n",
        "\n",
        "### Generate Random Maze\n",
        "We generate a random maze environment with walls and visualize it:\n",
        "- White cells are traversable\n",
        "- Black cells are walls/obstacles\n",
        "- Green dot marks the start position\n",
        "- Red dot marks the goal position"
      ]
    },
    {
      "cell_type": "code",
      "execution_count": 5,
      "metadata": {
        "id": "prshF602X_UN"
      },
      "outputs": [],
      "source": [
        "from src.environment.generate_maze_scene_xml import generate_maze_xml"
      ]
    },
    {
      "cell_type": "code",
      "execution_count": 6,
      "metadata": {
        "colab": {
          "base_uri": "https://localhost:8080/",
          "height": 452
        },
        "id": "dTxlfa0OYVbX",
        "outputId": "6c8bc165-1651-4c9b-90fc-2eed1ded2c92"
      },
      "outputs": [
        {
          "output_type": "display_data",
          "data": {
            "text/plain": [
              "<Figure size 640x480 with 1 Axes>"
            ],
            "image/png": "[encoded data removed]"
          },
          "metadata": {}
        }
      ],
      "source": [
        "grid, random_maze_xml = generate_maze_xml()\n",
        "\n",
        "# flips to have origin at bottom-left and goal top-right\n",
        "im = (np.stack((grid.T[::-1, :],) * 3, axis=-1) * 255).astype(np.uint8)\n",
        "plt.title(\"Generated maze\")\n",
        "plt.imshow(im)\n",
        "plt.plot(0.0, 4.0, \"go\", markersize=10, label=\"Start\")\n",
        "plt.plot(4, 0, \"ro\", markersize=10, label=\"Goal\")\n",
        "plt.legend(loc=\"upper left\")\n",
        "plt.show()\n",
        "\n",
        "!rm -rf scene_mjx_maze_flat_terrain.xml\n",
        "f = open(\"scene_mjx_maze_flat_terrain.xml\", \"a\")\n",
        "f.write(random_maze_xml)\n",
        "f.close()"
      ]
    },
    {
      "cell_type": "code",
      "execution_count": 7,
      "metadata": {
        "id": "SIFpgsUsMP_1"
      },
      "outputs": [],
      "source": []
    },
    {
      "cell_type": "markdown",
      "metadata": {
        "id": "44atRFgL0fej"
      },
      "source": [
        "### Initialize Simulation\n",
        "Set up the MuJoCo simulation environment:\n",
        "- Instantiate the `Go1Env` (which load the maze scene XML)\n",
        "- Create a traversability map based the random generated maze\n",
        "- Configure mujoco camera parameters and rendering options"
      ]
    },
    {
      "cell_type": "code",
      "execution_count": 7,
      "metadata": {
        "colab": {
          "base_uri": "https://localhost:8080/"
        },
        "id": "vl3ZYexzMP_1",
        "outputId": "08846ed9-9ada-4f5c-9906-e04a097e8ef7"
      },
      "outputs": [
        {
          "output_type": "stream",
          "name": "stderr",
          "text": [
            "/usr/local/lib/python3.11/dist-packages/pydantic/_internal/_generate_schema.py:502: UserWarning: <built-in function any> is not a Python type (it may be an instance of an object), Pydantic will allow any object with no validation since we cannot even enforce that the input is an instance of the given type. To get rid of this error wrap the type with `pydantic.SkipValidation`.\n",
            "  warn(\n"
          ]
        }
      ],
      "source": [
        "# import mujoco after setting MUJOCO_GL to prevent errors in video rendering\n",
        "import mujoco\n",
        "from mujoco_playground._src import mjx_env\n",
        "from typing import List\n",
        "\n",
        "from src.environment.custom_go1_env import CustomGo1JoystickEnv\n",
        "from src.environment.env_wrapper import Go1Env\n",
        "from src.environment.traversability_map import TraversabilityMap, TraversabilityMapConfig\n",
        "from src.control.controller_factory import ControllerFactory\n",
        "from src.control.position_controller import PositionController, PositionCommand, PositionControllerParams\n",
        "from src.control.algorithms.mlp import MLPPolicy, MLPPolicyParams\n",
        "from src.mission_executer import EpisodeResult, MissionConfig, MissionExecuter\n",
        "from src.utils import load_yaml_with_jinja"
      ]
    },
    {
      "cell_type": "code",
      "execution_count": 8,
      "metadata": {
        "colab": {
          "base_uri": "https://localhost:8080/"
        },
        "id": "eLMxtDgDbdL9",
        "outputId": "3ad182f6-d19b-41df-8a9a-4f8c31ad564e"
      },
      "outputs": [
        {
          "output_type": "execute_result",
          "data": {
            "text/plain": [
              "{'mission': {'goal': [4, 4],\n",
              "  'max_sim_steps': 1000,\n",
              "  'retry_delay_sec': 5,\n",
              "  'max_attempts': 20},\n",
              " 'control': {'position_controller': {'algorithm_type': 'position_controller',\n",
              "   'command_dim': 3,\n",
              "   'arrival_threshold': 0.1,\n",
              "   'max_linear_velocity': 1.5,\n",
              "   'max_angular_velocity': 1.57,\n",
              "   'primary_controller': {'algorithm_type': 'seq_controller',\n",
              "    'yaw_control_threshold': 0.175,\n",
              "    'yaw_control_gain': 7.0,\n",
              "    'linear_control_gain': 2.0},\n",
              "   'fallback_controller': {'algorithm_type': 'seq_controller',\n",
              "    'yaw_control_threshold': 0.175,\n",
              "    'yaw_control_gain': 7.0,\n",
              "    'linear_control_gain': 2.0}},\n",
              "  'locomotion_controller': {'algorithm_type': 'mlp',\n",
              "   'nn_num_layers': 4,\n",
              "   'npy_path': 'src/control/nn_params/Go1JoystickFlatTerrain'}},\n",
              " 'environment': {'mujoco_playground': {'name': 'Go1JoystickFlatTerrain',\n",
              "   'random_key': 0},\n",
              "  'map': {'grid_size': [5, 5], 'image_size': 50, 'threshold': 125}},\n",
              " 'planning': {'llm_navigator': {'model_name': 'gemini-2.0-flash-thinking-exp'}}}"
            ]
          },
          "metadata": {},
          "execution_count": 8
        }
      ],
      "source": [
        "system_config = load_yaml_with_jinja(\"examples/configs/llm_navigation.yaml\")\n",
        "system_config"
      ]
    },
    {
      "cell_type": "code",
      "execution_count": 10,
      "metadata": {
        "colab": {
          "base_uri": "https://localhost:8080/"
        },
        "id": "XcBqDs8e0fek",
        "outputId": "634052d5-f0e9-4842-8adf-309a23ba6be5"
      },
      "outputs": [
        {
          "output_type": "stream",
          "name": "stdout",
          "text": [
            "Downloaded: examples/xmls/assets/calf.stl\n",
            "Downloaded: examples/xmls/assets/hip.stl\n",
            "Downloaded: examples/xmls/assets/thigh.stl\n",
            "Downloaded: examples/xmls/assets/thigh_mirror.stl\n",
            "Downloaded: examples/xmls/assets/trunk.stl\n"
          ]
        },
        {
          "output_type": "execute_result",
          "data": {
            "text/plain": [
              "array([[1, 1, 1, 0, 1],\n",
              "       [0, 0, 1, 0, 1],\n",
              "       [1, 0, 1, 0, 1],\n",
              "       [1, 0, 1, 0, 1],\n",
              "       [1, 1, 1, 1, 1]], dtype=int32)"
            ]
          },
          "metadata": {},
          "execution_count": 10
        }
      ],
      "source": [
        "# instantiate mujoco Env\n",
        "rng = jax.random.PRNGKey(system_config[\"environment\"][\"mujoco_playground\"][\"random_key\"])\n",
        "mpenv = CustomGo1JoystickEnv(xml_path=\"scene_mjx_maze_flat_terrain.xml\")\n",
        "env = Go1Env(env=mpenv, env_cfg=mpenv.env_cfg)\n",
        "\n",
        "# create traversability map\n",
        "trav_map_config = TraversabilityMapConfig.from_dict(system_config[\"environment\"][\"map\"])\n",
        "trav_map = TraversabilityMap(trav_map_config)\n",
        "trav_map.load_from_grid(grid)  # or trav_map.load_grid(\"assets/floor1.jpg\")"
      ]
    },
    {
      "cell_type": "code",
      "execution_count": 11,
      "metadata": {
        "id": "WFhzEtJfFTwP"
      },
      "outputs": [],
      "source": [
        "def modify_scn_fn(scene):\n",
        "    \"\"\"Modify the rendering scene to change lighting.\"\"\"\n",
        "    light_id = 0  # Adjust this if you have multiple lights\n",
        "    scene.lights[light_id].ambient = [0.0, 0.0, 0.0]\n",
        "    scene.lights[light_id].diffuse = [0.1, 0.1, 0.1]  # Change color\n",
        "    scene.lights[light_id].specular = [0.0, 0.0, 0.0]\n",
        "\n",
        "    light_id = 1  # Adjust this if you have multiple lights\n",
        "    scene.lights[light_id].ambient = [0.0, 0.0, 0.0]\n",
        "    scene.lights[light_id].exponent = 50.0  # Strong falloff at edges\n",
        "    scene.lights[light_id].cutoff = 65.0  # Spotlight effect\n",
        "    scene.lights[light_id].diffuse = [1.0, 1.0, 1.0]  # Change color\n",
        "    scene.lights[light_id].specular = [0.0, 0.0, 0.0]\n",
        "\n",
        "\n",
        "# Set up the camera\n",
        "camera = mujoco.MjvCamera()\n",
        "mujoco.mjv_defaultCamera(camera)\n",
        "\n",
        "# Object is centered at (0,0,1.5) with size 15m x 15m x 3m\n",
        "camera.lookat[:] = np.array([2.0, 1.5, 1.5])  # Center of object\n",
        "\n",
        "# Calculate distance using a safe margin\n",
        "object_size = 6  # Maximum size in X or Y\n",
        "fov = 45  # Default MuJoCo camera FOV\n",
        "safe_margin = 1  # Factor to ensure entire object is in view\n",
        "\n",
        "# Compute required distance using field of view\n",
        "camera.distance = (object_size / 2) / np.tan(np.radians(fov / 2)) * safe_margin\n",
        "\n",
        "# Look directly down\n",
        "camera.azimuth = 90  # No horizontal rotation\n",
        "camera.elevation = -70  # Directly downward\n",
        "\n",
        "scene_option = mujoco.MjvOption()\n",
        "scene_option.geomgroup[2] = True\n",
        "scene_option.geomgroup[3] = False\n",
        "scene_option.flags[mujoco.mjtVisFlag.mjVIS_CONTACTPOINT] = True\n",
        "scene_option.flags[mujoco.mjtVisFlag.mjVIS_CONTACTFORCE] = False\n",
        "scene_option.flags[mujoco.mjtVisFlag.mjVIS_TRANSPARENT] = False"
      ]
    },
    {
      "cell_type": "markdown",
      "metadata": {
        "id": "gt34bGwSDJDS"
      },
      "source": [
        "###  Define Helper Functions"
      ]
    },
    {
      "cell_type": "code",
      "execution_count": 12,
      "metadata": {
        "id": "GB5NorWvGRYp"
      },
      "outputs": [],
      "source": [
        "velocity_kick_range = [0.0, 0.0]  # Disable velocity kick.\n",
        "kick_duration_range = [0.05, 0.2]\n",
        "\n",
        "\n",
        "def sample_pert(rng, env, state):\n",
        "    \"\"\"\n",
        "    Random purterbation to the robot\n",
        "    \"\"\"\n",
        "    rng, key1, key2 = jax.random.split(rng, 3)\n",
        "    pert_mag = jax.random.uniform(key1, minval=velocity_kick_range[0], maxval=velocity_kick_range[1])\n",
        "    duration_seconds = jax.random.uniform(key2, minval=kick_duration_range[0], maxval=kick_duration_range[1])\n",
        "    duration_steps = jax.numpy.round(duration_seconds / env.dt).astype(jax.numpy.int32)\n",
        "    state.info[\"pert_mag\"] = pert_mag\n",
        "    state.info[\"pert_duration\"] = duration_steps\n",
        "    state.info[\"pert_duration_seconds\"] = duration_seconds\n",
        "    return rng\n",
        "\n",
        "\n",
        "def update_position_history(position_history, current_position):\n",
        "    # Only update position_history is the robot enters a new cell (by comparing position in integer)\n",
        "    if len(position_history) == 0:\n",
        "        position_history.append(current_position.astype(np.int32))\n",
        "        return position_history\n",
        "    if np.array_equal(position_history[-1].astype(np.int32), current_position.astype(np.int32)):\n",
        "        return position_history\n",
        "    else:\n",
        "        position_history.append(current_position.astype(np.int32))\n",
        "    return position_history\n",
        "\n",
        "\n",
        "def run_one_episode(\n",
        "    env: Go1Env,\n",
        "    command_generator: PositionController,\n",
        "    # instead of using base class Controller, we use subclass MLPPolicy as this method is very customized\n",
        "    command_follower: MLPPolicy,\n",
        "    traversability_map: TraversabilityMap,\n",
        "    waypoints: List[np.ndarray],\n",
        "    max_sim_steps: int,\n",
        "    rng: jax.Array,\n",
        ") -> EpisodeResult:\n",
        "    rollout: List[mjx_env.State] = []\n",
        "    position_history: List[np.ndarray] = []\n",
        "    waypoint_idx: int = 0\n",
        "\n",
        "    _, rng = jax.random.split(rng)\n",
        "    state = env.reset(rng)\n",
        "\n",
        "    # start closed-loop sim\n",
        "    for i in tqdm(range(max_sim_steps)):\n",
        "        _, rng = jax.random.split(rng)  # this will randomize perturbation\n",
        "        rng = sample_pert(rng, env, state)\n",
        "\n",
        "        # calculate control command\n",
        "        cell_center_offset = 0.5\n",
        "        target_position = waypoints[waypoint_idx] + cell_center_offset\n",
        "        pos_command: PositionCommand = command_generator.compute_command(state, target_position)\n",
        "        state.info[\"command\"] = pos_command.command\n",
        "\n",
        "        ctrl = command_follower.control(state.obs[\"state\"])  # controller step\n",
        "        state = env.step(state, ctrl)  # simulator step\n",
        "\n",
        "        # record\n",
        "        rollout.append(state)\n",
        "        position_history = update_position_history(position_history, pos_command.info.pos[:2])\n",
        "\n",
        "        # check failure\n",
        "        if not traversability_map.is_valid_position(pos_command.info.pos[:2]):\n",
        "            return EpisodeResult(status=\"Stop\", position_history=position_history, rollout=rollout)\n",
        "\n",
        "        # check arrival at current waypoint\n",
        "        if pos_command.info.is_arrived:\n",
        "            waypoint_idx = min(waypoint_idx + 1, len(waypoints))  # proceed to next waypoint\n",
        "\n",
        "            # Check if the arrived at the last waypoint\n",
        "            if waypoint_idx == len(waypoints):\n",
        "                return EpisodeResult(status=\"Success\", position_history=position_history, rollout=rollout)\n",
        "\n",
        "    return EpisodeResult(status=\"Timeout\", position_history=position_history, rollout=rollout)"
      ]
    },
    {
      "cell_type": "markdown",
      "metadata": {
        "id": "FKA1AJnXrn0O"
      },
      "source": [
        "## Demo: Nagivating a go1 quadruped through a maze with Gemini-thinking Model\n",
        "**The main navigation loop:**\n",
        "1. Get waypoints from LLM planner\n",
        "2. Execute waypoints using controllers\n",
        "3. Provide feedback to LLM if attempt fails\n",
        "4. Repeat until goal is reached or max attempts exceeded\n",
        "\n",
        "The following picture illustrates the flowchart of the navigation task.\n",
        "![](https://github.com/shaoanlu/llm_mjx_go1_playground/raw/main/assets/llm_go1_navigation.png)\n"
      ]
    },
    {
      "cell_type": "markdown",
      "metadata": {
        "id": "0sAeW2U5aC7z"
      },
      "source": [
        "### LLM Path Planner\n",
        "A free tier Google API key is required to instantiate the `LLMNavigator` class. You can obtain one from [AU Studio](https://aistudio.google.com/app/apikey) with detailed instructions in [this docs](https://ai.google.dev/gemini-api/docs/api-key).\n",
        "\n",
        "We use the LLM as the path planner:\n",
        "- Takes the current state and failed attempts as input\n",
        "- Outputs a sequence of waypoints for the robot to follow\n",
        "- Adapts the plan based on feedback from failed attempts"
      ]
    },
    {
      "cell_type": "code",
      "execution_count": 13,
      "metadata": {
        "id": "tju8A1hp0fel"
      },
      "outputs": [],
      "source": [
        "from google import genai\n",
        "from google.colab import userdata\n",
        "from src.planning.llm_nagivator import GeminiThinkingNavigator\n",
        "\n",
        "\n",
        "client = genai.Client(api_key=userdata.get(\"GOOGLE_API_KEY\"), http_options={\"api_version\": \"v1alpha\"})\n",
        "llm_navigator = GeminiThinkingNavigator(client, model_name=system_config[\"planning\"][\"llm_navigator\"][\"model_name\"])"
      ]
    },
    {
      "cell_type": "markdown",
      "metadata": {
        "id": "FY5IPFW0aYRd"
      },
      "source": [
        "### Robot Controller\n",
        "We use two levels of control:\n",
        "1. High-level position controller that follows waypoints\n",
        "2. Low-level MLP policy that controls individual joint movements"
      ]
    },
    {
      "cell_type": "code",
      "execution_count": 14,
      "metadata": {
        "id": "eSBEmVijUCLG"
      },
      "outputs": [],
      "source": [
        "# Instantiate controller based on env_name\n",
        "factory = ControllerFactory()\n",
        "mlp_params = MLPPolicyParams.from_dict(system_config[\"control\"][\"locomotion_controller\"])\n",
        "command_follower = factory.build(params=mlp_params)\n",
        "\n",
        "pc_config = PositionControllerParams.from_dict(system_config[\"control\"][\"position_controller\"])\n",
        "command_generator = PositionController(factory=factory, config=pc_config)\n",
        "\n",
        "# Instantiate the ochestrator for mission execution\n",
        "instruction = open(\"examples/prompt.txt\", \"r\").read()\n",
        "mission_config = MissionConfig.from_dict(system_config[\"mission\"])\n",
        "# mission_config.max_attempts = 20\n",
        "# mission_config.max_sim_steps = 1000\n",
        "mission_executer = MissionExecuter(config=mission_config, instruction_prompt=instruction)"
      ]
    },
    {
      "cell_type": "markdown",
      "metadata": {
        "id": "FNrwp58g0fem"
      },
      "source": [
        "### Create a partially applied function with fixed arguments for closed-loop simulation"
      ]
    },
    {
      "cell_type": "code",
      "execution_count": 15,
      "metadata": {
        "id": "guN8dElQMP_3"
      },
      "outputs": [],
      "source": [
        "from functools import partial\n",
        "\n",
        "run_one_episode_func = partial(\n",
        "    run_one_episode,\n",
        "    env=env,\n",
        "    command_generator=command_generator,\n",
        "    command_follower=command_follower,\n",
        "    traversability_map=trav_map,\n",
        ")"
      ]
    },
    {
      "cell_type": "markdown",
      "metadata": {
        "id": "Cwjnm0U7Ujcz"
      },
      "source": [
        "## Start Navigation\n",
        "\n",
        "I takes some time for the first simulation step. During simulation, the intermediate reuslt of attemps will be printed out, including the prompt, the waypoints suggested by LLM, and the result."
      ]
    },
    {
      "cell_type": "code",
      "execution_count": 16,
      "metadata": {
        "colab": {
          "base_uri": "https://localhost:8080/"
        },
        "id": "4Wt_009nF5xy",
        "outputId": "e112c87f-5c1b-494e-d29d-8eef44b20a82"
      },
      "outputs": [
        {
          "output_type": "stream",
          "name": "stderr",
          "text": [
            " 27%|██▋       | 268/1000 [00:39<01:48,  6.76it/s]\n"
          ]
        },
        {
          "output_type": "stream",
          "name": "stdout",
          "text": [
            "[Trial 1]\n",
            "prompt='You are a path planner for a quadruped robot navigating in a partially known 5x5 grid environment. Your task is to guide the robot from the start position (0,0) to the goal position (4,4).\\n\\nEnvironment specifications:\\n- Grid size: 5x5\\n- Start position: (0,0)\\n- Goal position: (4,4)\\n- Some cells are not traversable, but their status is only revealed when the robot attempts to traverse them\\n\\nPath planning constraints:\\n1. Maximum 10 waypoints allowed per path\\n2. Consecutive waypoints moving in the same direction must be simplified\\n   Example: [(0,0), (1,0), (2,0), (2,1)] should be simplified to [(0,0), (2,0), (2,1)]\\n\\nExpected output format:\\nProvide only a list of coordinates in the format:\\n[(x0,y0), (x1,y1), ..., (xn,yn)]\\n\\nPossible execution outcomes:\\n1. Success: Robot reaches the goal\\n2. Failed (Obstacle): \"Failed: stop at (X,Y), traversed cells: [(x0,y0), (x1,y1), ...]\"\\n   - Episode terminates when hitting an untraversable cell\\n   - Remaining waypoints are discarded\\n3. Failed (Timeout): \"Failed: timeout at (X,Y), traversed cells: [(x0,y0), (x1,y1), ...]\"\\n\\nPlanning strategy:\\n- Use the feedback from failed attempts to refine subsequent path planning\\n- Adapt the path based on discovered untraversable cells\\n- Consider alternative routes when previous attempts fail\\n\\nImportant notes:\\n- Respond ONLY with the waypoint list\\n- No additional text or explanations\\n- Each new attempt should incorporate information from previous failures\\n\\nStart. you are at somwwhere near (0, 0).'\n",
            "waypoints=[array([0, 0]), array([0, 4]), array([4, 4])]\n",
            "result.status='Stop'(0, 3) \tresult.position_history=[array([0, 0], dtype=int32), array([0, 1], dtype=int32), array([0, 2], dtype=int32), array([0, 3], dtype=int32)]\n",
            "\n"
          ]
        },
        {
          "output_type": "stream",
          "name": "stderr",
          "text": [
            " 13%|█▎        | 126/1000 [00:01<00:07, 120.44it/s]\n"
          ]
        },
        {
          "output_type": "stream",
          "name": "stdout",
          "text": [
            "[Trial 2]\n",
            "prompt='Failed: Stop at (0, 3), traversed cells: [(0, 0), (0, 1), (0, 2), (0, 3)]'\n",
            "waypoints=[array([0, 0]), array([4, 0]), array([4, 4])]\n",
            "result.status='Stop'(1, 0) \tresult.position_history=[array([0, 0], dtype=int32), array([1, 0], dtype=int32)]\n",
            "\n"
          ]
        },
        {
          "output_type": "stream",
          "name": "stderr",
          "text": [
            " 15%|█▌        | 151/1000 [00:01<00:06, 135.08it/s]\n"
          ]
        },
        {
          "output_type": "stream",
          "name": "stdout",
          "text": [
            "[Trial 3]\n",
            "prompt='Failed: Stop at (1, 0), traversed cells: [(0, 0), (1, 0)]'\n",
            "waypoints=[array([0, 0]), array([2, 0]), array([2, 4]), array([4, 4])]\n",
            "result.status='Stop'(1, 0) \tresult.position_history=[array([0, 0], dtype=int32), array([1, 0], dtype=int32)]\n",
            "\n"
          ]
        },
        {
          "output_type": "stream",
          "name": "stderr",
          "text": [
            " 20%|█▉        | 197/1000 [00:01<00:06, 130.28it/s]\n"
          ]
        },
        {
          "output_type": "stream",
          "name": "stdout",
          "text": [
            "[Trial 4]\n",
            "prompt='Failed: Stop at (1, 0), traversed cells: [(0, 0), (1, 0)]'\n",
            "waypoints=[array([0, 0]), array([0, 1]), array([4, 1]), array([4, 4])]\n",
            "result.status='Stop'(1, 1) \tresult.position_history=[array([0, 0], dtype=int32), array([0, 1], dtype=int32), array([1, 1], dtype=int32)]\n",
            "\n"
          ]
        },
        {
          "output_type": "stream",
          "name": "stderr",
          "text": [
            " 59%|█████▊    | 586/1000 [00:05<00:03, 114.99it/s]"
          ]
        },
        {
          "output_type": "stream",
          "name": "stdout",
          "text": [
            "[Trial 5]\n",
            "prompt='Failed: Stop at (1, 1), traversed cells: [(0, 0), (0, 1), (1, 1)]'\n",
            "waypoints=[array([0, 0]), array([0, 2]), array([4, 2]), array([4, 4])]\n",
            "result.status='Success'(4, 4) \tresult.position_history=[array([0, 0], dtype=int32), array([0, 1], dtype=int32), array([0, 2], dtype=int32), array([1, 2], dtype=int32), array([2, 2], dtype=int32), array([3, 2], dtype=int32), array([4, 2], dtype=int32), array([4, 3], dtype=int32), array([4, 4], dtype=int32)]\n",
            "\n"
          ]
        },
        {
          "output_type": "stream",
          "name": "stderr",
          "text": [
            "\n"
          ]
        }
      ],
      "source": [
        "result = mission_executer.execute_mission(planner=llm_navigator, execute_single_attempt=run_one_episode_func, rng=rng)"
      ]
    },
    {
      "cell_type": "code",
      "execution_count": 16,
      "metadata": {
        "id": "Rvkst6KSSfUI"
      },
      "outputs": [],
      "source": []
    },
    {
      "cell_type": "markdown",
      "metadata": {
        "id": "GK4I7B0p0fem"
      },
      "source": [
        "## Results Visualization\n",
        "\n",
        "### Render Navigation Video\n",
        "Visualize the successful navigation attempt:\n",
        "- Shows the robot's movement through the maze\n",
        "- Includes fog of war effect to highlight explored areas\n",
        "- Demonstrates how the robot avoids discovered obstacles"
      ]
    },
    {
      "cell_type": "code",
      "execution_count": 17,
      "metadata": {
        "colab": {
          "base_uri": "https://localhost:8080/"
        },
        "id": "kcE9T8r2bgFr",
        "outputId": "3cea1443-ea1a-4dd5-b0f3-b4d573ed4136"
      },
      "outputs": [
        {
          "output_type": "stream",
          "name": "stderr",
          "text": [
            "100%|██████████| 134/134 [00:49<00:00,  2.71it/s]\n"
          ]
        }
      ],
      "source": [
        "render_every = 10\n",
        "fps = 3.0 / env.dt / render_every  # 3x realtime\n",
        "traj = result.rollouts[::render_every]\n",
        "\n",
        "\n",
        "frames = env.render(\n",
        "    traj, camera=camera, scene_option=scene_option, height=480, width=640, modify_scene_fns=[modify_scn_fn] * len(traj)\n",
        ")"
      ]
    },
    {
      "cell_type": "code",
      "execution_count": null,
      "metadata": {
        "id": "kiwJRp1FkAdI"
      },
      "outputs": [],
      "source": [
        "from src.visualization import apply_fog_of_war\n",
        "\n",
        "# mediapy.show_video(frames, fps=fps, loop=False)\n",
        "mediapy.show_video(apply_fog_of_war(frames, alpha=0.7, gamma=1.1), fps=fps, loop=False)"
      ]
    },
    {
      "cell_type": "code",
      "execution_count": 19,
      "metadata": {
        "colab": {
          "base_uri": "https://localhost:8080/",
          "height": 520
        },
        "id": "7TKK_h53cKJT",
        "outputId": "133aa53c-7c82-468a-ca8d-ba46d5c14d53"
      },
      "outputs": [
        {
          "output_type": "execute_result",
          "data": {
            "text/plain": [
              "array([[[23, 23, 23],\n",
              "        [23, 23, 23],\n",
              "        [23, 23, 23],\n",
              "        ...,\n",
              "        [23, 23, 23],\n",
              "        [23, 23, 23],\n",
              "        [23, 23, 23]],\n",
              "\n",
              "       [[23, 23, 23],\n",
              "        [23, 23, 23],\n",
              "        [23, 23, 23],\n",
              "        ...,\n",
              "        [23, 23, 23],\n",
              "        [23, 23, 23],\n",
              "        [23, 23, 23]],\n",
              "\n",
              "       [[23, 23, 23],\n",
              "        [23, 23, 23],\n",
              "        [23, 23, 23],\n",
              "        ...,\n",
              "        [23, 23, 23],\n",
              "        [23, 23, 23],\n",
              "        [23, 23, 23]],\n",
              "\n",
              "       ...,\n",
              "\n",
              "       [[45, 45, 45],\n",
              "        [46, 46, 46],\n",
              "        [45, 45, 45],\n",
              "        ...,\n",
              "        [23, 23, 23],\n",
              "        [24, 24, 24],\n",
              "        [24, 24, 24]],\n",
              "\n",
              "       [[45, 45, 45],\n",
              "        [45, 45, 45],\n",
              "        [44, 44, 44],\n",
              "        ...,\n",
              "        [23, 23, 23],\n",
              "        [24, 24, 24],\n",
              "        [24, 24, 24]],\n",
              "\n",
              "       [[45, 45, 45],\n",
              "        [45, 45, 45],\n",
              "        [42, 42, 42],\n",
              "        ...,\n",
              "        [22, 22, 22],\n",
              "        [24, 24, 24],\n",
              "        [24, 24, 24]]], dtype=uint8)"
            ],
            "text/html": [
              "<style>\n",
              "      .ndarray_repr .ndarray_raw_data {\n",
              "        display: none;\n",
              "      }\n",
              "      .ndarray_repr.show_array .ndarray_raw_data {\n",
              "        display: block;\n",
              "      }\n",
              "      .ndarray_repr.show_array .ndarray_image_preview {\n",
              "        display: none;\n",
              "      }\n",
              "      </style>\n",
              "      <div id=\"id-13951a76-95d0-4ac7-8cee-3332a7e924df\" class=\"ndarray_repr\"><pre>ndarray (480, 640, 3) <button style=\"padding: 0 2px;\">show data</button></pre><img src=\"data:image/png;base64,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\" class=\"ndarray_image_preview\" /><pre class=\"ndarray_raw_data\">array([[[23, 23, 23],\n",
              "        [23, 23, 23],\n",
              "        [23, 23, 23],\n",
              "        ...,\n",
              "        [23, 23, 23],\n",
              "        [23, 23, 23],\n",
              "        [23, 23, 23]],\n",
              "\n",
              "       [[23, 23, 23],\n",
              "        [23, 23, 23],\n",
              "        [23, 23, 23],\n",
              "        ...,\n",
              "        [23, 23, 23],\n",
              "        [23, 23, 23],\n",
              "        [23, 23, 23]],\n",
              "\n",
              "       [[23, 23, 23],\n",
              "        [23, 23, 23],\n",
              "        [23, 23, 23],\n",
              "        ...,\n",
              "        [23, 23, 23],\n",
              "        [23, 23, 23],\n",
              "        [23, 23, 23]],\n",
              "\n",
              "       ...,\n",
              "\n",
              "       [[45, 45, 45],\n",
              "        [46, 46, 46],\n",
              "        [45, 45, 45],\n",
              "        ...,\n",
              "        [23, 23, 23],\n",
              "        [24, 24, 24],\n",
              "        [24, 24, 24]],\n",
              "\n",
              "       [[45, 45, 45],\n",
              "        [45, 45, 45],\n",
              "        [44, 44, 44],\n",
              "        ...,\n",
              "        [23, 23, 23],\n",
              "        [24, 24, 24],\n",
              "        [24, 24, 24]],\n",
              "\n",
              "       [[45, 45, 45],\n",
              "        [45, 45, 45],\n",
              "        [42, 42, 42],\n",
              "        ...,\n",
              "        [22, 22, 22],\n",
              "        [24, 24, 24],\n",
              "        [24, 24, 24]]], dtype=uint8)</pre></div><script>\n",
              "      (() => {\n",
              "      const titles = ['show data', 'hide data'];\n",
              "      let index = 0\n",
              "      document.querySelector('#id-13951a76-95d0-4ac7-8cee-3332a7e924df button').onclick = (e) => {\n",
              "        document.querySelector('#id-13951a76-95d0-4ac7-8cee-3332a7e924df').classList.toggle('show_array');\n",
              "        index = (++index) % 2;\n",
              "        document.querySelector('#id-13951a76-95d0-4ac7-8cee-3332a7e924df button').textContent = titles[index];\n",
              "        e.preventDefault();\n",
              "        e.stopPropagation();\n",
              "      }\n",
              "      })();\n",
              "    </script>"
            ]
          },
          "metadata": {},
          "execution_count": 19
        }
      ],
      "source": [
        "frames[0]"
      ]
    },
    {
      "cell_type": "code",
      "execution_count": null,
      "metadata": {
        "id": "Loey4Y_SOxhM"
      },
      "outputs": [],
      "source": []
    },
    {
      "cell_type": "markdown",
      "metadata": {
        "id": "tr6GDI3E5Y7M"
      },
      "source": [
        "## Extra: Ask LLM to infer the map with uncertainty"
      ]
    },
    {
      "cell_type": "code",
      "execution_count": 20,
      "metadata": {
        "colab": {
          "base_uri": "https://localhost:8080/"
        },
        "id": "kRaJ3XfV3Sqe",
        "outputId": "8a00fc97-34b3-4e18-e88b-0d14128e482d"
      },
      "outputs": [
        {
          "output_type": "stream",
          "name": "stdout",
          "text": [
            "Success: reached (4, 4), traversed cells: [(0, 0), (0, 1), (0, 2), (1, 2), (2, 2), (3, 2), (4, 2), (4, 3), (4, 4)]\n",
            "Now, based on all of the attemps, reason about the environment from start to goal and draw a 5x5 grid map using '0', '1', and '?', where '0' repreents a wall, '1' a path cell, and '?' a cell you are uncertain.\n"
          ]
        }
      ],
      "source": [
        "def create_ask_for_map_prompt(result):\n",
        "    x, y = result.position_history[-1].astype(int)\n",
        "    return (\n",
        "        f\"{result.status}: reached ({x}, {y}), traversed cells: {[tuple(np.round(x_, 1)) for x_ in result.position_history]}\"\n",
        "        + f\"\\nNow, based on all of the attemps, reason about the environment from start to goal and draw a 5x5 grid map using '0', '1', and '?', where '0' repreents a wall, '1' a path cell, and '?' a cell you are uncertain.\"\n",
        "    )\n",
        "\n",
        "\n",
        "print(create_ask_for_map_prompt(result))"
      ]
    },
    {
      "cell_type": "code",
      "execution_count": 21,
      "metadata": {
        "id": "K3eaMgA6bRhR"
      },
      "outputs": [],
      "source": [
        "response = llm_navigator.chat.send_message([create_ask_for_map_prompt(result)])"
      ]
    },
    {
      "cell_type": "code",
      "execution_count": 22,
      "metadata": {
        "colab": {
          "base_uri": "https://localhost:8080/"
        },
        "id": "dOO2uupx1DsE",
        "outputId": "ce3c6cab-7d88-4779-807a-f3456a129fe4"
      },
      "outputs": [
        {
          "output_type": "stream",
          "name": "stdout",
          "text": [
            "```\n",
            "1110?\n",
            "001??\n",
            "??1??\n",
            "??1??\n",
            "??111\n",
            "```\n"
          ]
        }
      ],
      "source": [
        "print(response.text)\n",
        "# this does not always match the explored cells of the robot"
      ]
    },
    {
      "cell_type": "markdown",
      "metadata": {
        "id": "fkMnf-lW5ls_"
      },
      "source": [
        "And ask LLM to plan more paths to epxlore the entire map"
      ]
    },
    {
      "cell_type": "code",
      "execution_count": 23,
      "metadata": {
        "id": "jjUK88ri1Duc"
      },
      "outputs": [],
      "source": [
        "response = llm_navigator.chat.send_message([\"Suggest 5 more paths in order for you to fill the unknow cells\"])"
      ]
    },
    {
      "cell_type": "code",
      "execution_count": 24,
      "metadata": {
        "colab": {
          "base_uri": "https://localhost:8080/"
        },
        "id": "nhcLCvXWbRj6",
        "outputId": "6caa8181-5d23-410d-a994-d6b7a111e21f"
      },
      "outputs": [
        {
          "output_type": "stream",
          "name": "stdout",
          "text": [
            "[(0,0), (0,4), (4,4)]\n"
          ]
        }
      ],
      "source": [
        "print(response.text)"
      ]
    },
    {
      "cell_type": "code",
      "execution_count": null,
      "metadata": {
        "id": "Yi3fsxXZbRmm"
      },
      "outputs": [],
      "source": []
    }
  ],
  "metadata": {
    "colab": {
      "provenance": []
    },
    "kernelspec": {
      "display_name": "Python 3",
      "name": "python3"
    },
    "language_info": {
      "codemirror_mode": {
        "name": "ipython",
        "version": 3
      },
      "file_extension": ".py",
      "mimetype": "text/x-python",
      "name": "python",
      "nbconvert_exporter": "python",
      "pygments_lexer": "ipython3",
      "version": "3.12.3"
    }
  },
  "nbformat": 4,
  "nbformat_minor": 0
}