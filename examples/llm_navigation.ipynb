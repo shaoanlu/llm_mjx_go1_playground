{
 "cells": [
  {
   "cell_type": "markdown",
   "metadata": {
    "id": "FPsnZakTrFGS"
   },
   "source": [
    "# Installations and Imports"
   ]
  },
  {
   "cell_type": "code",
   "execution_count": 1,
   "metadata": {
    "cellView": "form",
    "id": "Xqo7pyX-n72M"
   },
   "outputs": [],
   "source": [
    "%%capture\n",
    "!pip install mujoco mujoco_mjx brax playground\n",
    "!command -v ffmpeg >/dev/null || (apt update && apt install -y ffmpeg)\n",
    "!pip install -q mediapy\n",
    "!apt-get update\n",
    "!apt-get install -y libosmesa6-dev libgl1-mesa-glx libglfw3 patchelf"
   ]
  },
  {
   "cell_type": "code",
   "execution_count": 2,
   "metadata": {
    "id": "gvmLOXS7FWou"
   },
   "outputs": [],
   "source": [
    "%pip install -q -U 'google-generativeai>=0.8.3'"
   ]
  },
  {
   "cell_type": "code",
   "execution_count": 1,
   "metadata": {
    "id": "T5f4w3Kq2X14"
   },
   "outputs": [],
   "source": [
    "import jax\n",
    "import numpy as np\n",
    "import mediapy\n",
    "import os\n",
    "from tqdm import tqdm\n",
    "\n",
    "os.environ[\"MUJOCO_GL\"] = \"egl\"\n",
    "\n",
    "# More legible printing from numpy.\n",
    "np.set_printoptions(precision=3, suppress=True, linewidth=100)"
   ]
  },
  {
   "cell_type": "markdown",
   "metadata": {
    "id": "hssKFDcnrFGW"
   },
   "source": [
    "# Clone Repository"
   ]
  },
  {
   "cell_type": "code",
   "execution_count": 2,
   "metadata": {
    "colab": {
     "base_uri": "https://localhost:8080/"
    },
    "id": "2ZnNqQU0TQvb",
    "outputId": "82960ddb-ab8a-442c-8f43-97a67887c41b"
   },
   "outputs": [
    {
     "name": "stdout",
     "output_type": "stream",
     "text": [
      "fatal: destination path 'llm_mjx_go1_playground' already exists and is not an empty directory.\n"
     ]
    }
   ],
   "source": [
    "!git clone https://github.com/shaoanlu/llm_mjx_go1_playground.git"
   ]
  },
  {
   "cell_type": "code",
   "execution_count": 3,
   "metadata": {
    "colab": {
     "base_uri": "https://localhost:8080/"
    },
    "id": "pQXZu_W7ExY6",
    "outputId": "1f3c8678-377d-48fc-a790-96d328640bc0"
   },
   "outputs": [
    {
     "name": "stdout",
     "output_type": "stream",
     "text": [
      "/content/llm_mjx_go1_playground\n"
     ]
    }
   ],
   "source": [
    "%cd llm_mjx_go1_playground"
   ]
  },
  {
   "cell_type": "markdown",
   "metadata": {
    "id": "1OeVHTE3rFGX"
   },
   "source": [
    "# Prepare simulation"
   ]
  },
  {
   "cell_type": "markdown",
   "metadata": {
    "id": "cOVcgGMLMP_1"
   },
   "source": [
    "### !!!!! BEWARE !!!!!\n",
    "The following `mv` command overwrites the xml file installed in the mujoco_playground. The modified xml has wall objects added into the scene."
   ]
  },
  {
   "cell_type": "code",
   "execution_count": 4,
   "metadata": {
    "colab": {
     "base_uri": "https://localhost:8080/"
    },
    "id": "D1d59S-g4EdE",
    "outputId": "f01c024d-0e07-4df0-bb59-af4d4167b710"
   },
   "outputs": [
    {
     "name": "stdout",
     "output_type": "stream",
     "text": [
      "mv: cannot stat 'examples/scene_mjx_flat_terrain_maze.xml': No such file or directory\n"
     ]
    }
   ],
   "source": [
    "!mv examples/scene_mjx_flat_terrain_maze.xml /usr/local/lib/python3.11/dist-packages/mujoco_playground/_src/locomotion/go1/xmls/scene_mjx_feetonly_flat_terrain.xml"
   ]
  },
  {
   "cell_type": "code",
   "execution_count": 4,
   "metadata": {
    "id": "SIFpgsUsMP_1"
   },
   "outputs": [],
   "source": []
  },
  {
   "cell_type": "code",
   "execution_count": 5,
   "metadata": {
    "id": "vl3ZYexzMP_1"
   },
   "outputs": [],
   "source": [
    "# import mujoco after setting MUJOCO_GL to prevent errors in video rendering\n",
    "import mujoco"
   ]
  },
  {
   "cell_type": "code",
   "execution_count": 6,
   "metadata": {
    "id": "Wz09ayKFrg6k"
   },
   "outputs": [],
   "source": [
    "from typing import List\n",
    "from mujoco_playground._src import mjx_env\n",
    "\n",
    "from src.environment.env_wrapper import Go1Env\n",
    "from src.control.controller_factory import ControllerFactory\n",
    "from src.control.position_controller import PositionController, PositionCommand\n",
    "from src.control.algorithms.mlp import MLPPolicy, MLPPolicyParams\n",
    "from src.mission_executer import EpisodeResult, MissionConfig, MissionExecuter\n",
    "from src.control.position_controller import (\n",
    "    create_position_controller,\n",
    "    PositionControllerParams,\n",
    "    SequentialControllerParams,\n",
    "    PolarCoordinateControllerParams,\n",
    ")"
   ]
  },
  {
   "cell_type": "code",
   "execution_count": 7,
   "metadata": {
    "id": "M_a4c1bbHSGi"
   },
   "outputs": [],
   "source": [
    "velocity_kick_range = [0.0, 0.0]  # Disable velocity kick.\n",
    "kick_duration_range = [0.05, 0.2]\n",
    "\n",
    "\n",
    "def sample_pert(rng, env, state):\n",
    "    \"\"\"\n",
    "    Random purterbation to the robot\n",
    "    \"\"\"\n",
    "    rng, key1, key2 = jax.random.split(rng, 3)\n",
    "    pert_mag = jax.random.uniform(key1, minval=velocity_kick_range[0], maxval=velocity_kick_range[1])\n",
    "    duration_seconds = jax.random.uniform(key2, minval=kick_duration_range[0], maxval=kick_duration_range[1])\n",
    "    duration_steps = jax.numpy.round(duration_seconds / env.dt).astype(jax.numpy.int32)\n",
    "    state.info[\"pert_mag\"] = pert_mag\n",
    "    state.info[\"pert_duration\"] = duration_steps\n",
    "    state.info[\"pert_duration_seconds\"] = duration_seconds\n",
    "    return rng"
   ]
  },
  {
   "cell_type": "markdown",
   "metadata": {
    "id": "MFe-Ub8NFQFf"
   },
   "source": [
    "## Setup Gemini Client"
   ]
  },
  {
   "cell_type": "code",
   "execution_count": 8,
   "metadata": {
    "id": "WFhzEtJfFTwP"
   },
   "outputs": [],
   "source": [
    "from google import genai\n",
    "from google.colab import userdata\n",
    "\n",
    "\n",
    "client = genai.Client(api_key=userdata.get(\"GOOGLE_API_KEY\"), http_options={\"api_version\": \"v1alpha\"})"
   ]
  },
  {
   "cell_type": "markdown",
   "metadata": {
    "id": "UaxNwBf4Jr-9"
   },
   "source": [
    "## Create Traversability Map And LLM Navigator"
   ]
  },
  {
   "cell_type": "code",
   "execution_count": 9,
   "metadata": {
    "colab": {
     "base_uri": "https://localhost:8080/"
    },
    "id": "8lJCBwusEBZY",
    "outputId": "ed7709d7-2c37-4989-c664-bf82042e4cb3"
   },
   "outputs": [
    {
     "data": {
      "text/plain": [
       "array([[1., 0., 0., 0., 0.],\n",
       "       [1., 1., 1., 1., 0.],\n",
       "       [1., 1., 0., 1., 0.],\n",
       "       [1., 0., 0., 1., 0.],\n",
       "       [0., 0., 1., 1., 1.]])"
      ]
     },
     "execution_count": 9,
     "metadata": {},
     "output_type": "execute_result"
    }
   ],
   "source": [
    "from src.environment.traversability_map import TraversabilityMap, TraversabilityMapConfig\n",
    "\n",
    "trav_map_config = TraversabilityMapConfig()\n",
    "trav_map = TraversabilityMap(trav_map_config)\n",
    "trav_map.load_from_image(\"assets/floor1.jpg\")"
   ]
  },
  {
   "cell_type": "code",
   "execution_count": 9,
   "metadata": {
    "id": "-q_qrl5JsZCJ"
   },
   "outputs": [],
   "source": []
  },
  {
   "cell_type": "markdown",
   "metadata": {
    "id": "gt34bGwSDJDS"
   },
   "source": [
    "## Position Control Helper Functions"
   ]
  },
  {
   "cell_type": "code",
   "execution_count": 10,
   "metadata": {
    "id": "GB5NorWvGRYp"
   },
   "outputs": [],
   "source": [
    "def update_position_history(position_history, current_position):\n",
    "    # Only update position_history is the robot enters a new cell (by comparing position in integer)\n",
    "    if len(position_history) == 0:\n",
    "        position_history.append(current_position.astype(np.int32))\n",
    "        return position_history\n",
    "    if np.array_equal(position_history[-1].astype(np.int32), current_position.astype(np.int32)):\n",
    "        return position_history\n",
    "    else:\n",
    "        position_history.append(current_position.astype(np.int32))\n",
    "    return position_history\n",
    "\n",
    "\n",
    "def run_one_episode(\n",
    "    env: Go1Env,\n",
    "    command_generator: PositionController,\n",
    "    command_follower: MLPPolicy,\n",
    "    traversability_map: TraversabilityMap,\n",
    "    waypoints: List[np.ndarray],\n",
    "    max_sim_steps: int,\n",
    "    rng: jax.Array,\n",
    ") -> EpisodeResult:\n",
    "    rollout: List[mjx_env.State] = []\n",
    "    position_history: List[np.ndarray] = []\n",
    "    waypoint_idx: int = 0\n",
    "\n",
    "    _, rng = jax.random.split(rng)\n",
    "    state = env.reset(rng)\n",
    "\n",
    "    # start closed-loop sim\n",
    "    for i in tqdm(range(max_sim_steps)):\n",
    "        _, rng = jax.random.split(rng)  # this will randomize perturbation\n",
    "        rng = sample_pert(rng, env, state)\n",
    "\n",
    "        # calculate controll command\n",
    "        cell_center_offset = 0.5\n",
    "        target_position = waypoints[waypoint_idx] + cell_center_offset\n",
    "        pos_command: PositionCommand = command_generator.compute_command(state, target_position)\n",
    "        state.info[\"command\"] = pos_command.command\n",
    "\n",
    "        ctrl = command_follower.control(state.obs[\"state\"])  # controller step\n",
    "        state = env.step(state, ctrl)  # simulator step\n",
    "\n",
    "        # record\n",
    "        rollout.append(state)\n",
    "        position_history = update_position_history(position_history, pos_command.info.pos[:2])\n",
    "\n",
    "        # check failure\n",
    "        if not traversability_map.is_valid_position(pos_command.info.pos[:2]):\n",
    "            return EpisodeResult(status=\"Stop\", position_history=position_history, rollout=rollout)\n",
    "\n",
    "        # check arrival at current waypoint\n",
    "        if pos_command.info.is_arrived:\n",
    "            waypoint_idx = min(waypoint_idx + 1, len(waypoints))  # proceed to next waypoint\n",
    "\n",
    "            # Check if the arrived at the last waypoint\n",
    "            if waypoint_idx == len(waypoints):\n",
    "                return EpisodeResult(status=\"Success\", position_history=position_history, rollout=rollout)\n",
    "\n",
    "    return EpisodeResult(status=\"Timeout\", position_history=position_history, rollout=rollout)"
   ]
  },
  {
   "cell_type": "markdown",
   "metadata": {
    "id": "FKA1AJnXrn0O"
   },
   "source": [
    "## Demo: Nagivating a go1 quadruped through a maze with Gemini-thinking Model\n",
    "\n",
    "The following picture show the flowchart of the navigation task.\n",
    "![](https://github.com/shaoanlu/llm_mjx_go1_playground/raw/main/assets/llm_go1_navigation.png)"
   ]
  },
  {
   "cell_type": "code",
   "execution_count": 11,
   "metadata": {
    "id": "Ac7oEpwbMP_3"
   },
   "outputs": [],
   "source": [
    "class DummyPlanner:\n",
    "    \"\"\"A planner that only returns a fixed list of waypoints, for debugging purpose\"\"\"\n",
    "\n",
    "    def __init__(self):\n",
    "        pass\n",
    "\n",
    "    def plan(self, **kwargs) -> List[np.ndarray]:\n",
    "        return [np.array([0, 0]), np.array([1, 0]), np.array([1, 3]), np.array([4, 3]), np.array([4, 4])]\n",
    "\n",
    "    def reset_chat(self):\n",
    "        pass\n",
    "\n",
    "\n",
    "dummy_navigator = DummyPlanner()"
   ]
  },
  {
   "cell_type": "markdown",
   "metadata": {
    "id": "0sAeW2U5aC7z"
   },
   "source": [
    "### LLM navigator\n",
    "`MissionExecuter` calls the `.plan(prompt=...)` method of the LLM navigator to get the suggest list of waypoints"
   ]
  },
  {
   "cell_type": "code",
   "execution_count": 12,
   "metadata": {
    "id": "xa__DDWVMP_3"
   },
   "outputs": [],
   "source": [
    "from src.planning.llm_nagivator import GeminiThinkingNavigator\n",
    "\n",
    "llm_navigator = GeminiThinkingNavigator(client, model_name=\"gemini-2.0-flash-thinking-exp\")"
   ]
  },
  {
   "cell_type": "code",
   "execution_count": 13,
   "metadata": {
    "id": "CPAZ-oMZrFGY"
   },
   "outputs": [],
   "source": [
    "# instantiate mujoco Env\n",
    "env_name = \"Go1JoystickFlatTerrain\"\n",
    "rng = jax.random.PRNGKey(0)\n",
    "env = Go1Env(env_name=env_name)"
   ]
  },
  {
   "cell_type": "markdown",
   "metadata": {
    "id": "FY5IPFW0aYRd"
   },
   "source": [
    "### Controller instantiations"
   ]
  },
  {
   "cell_type": "code",
   "execution_count": 20,
   "metadata": {
    "colab": {
     "base_uri": "https://localhost:8080/"
    },
    "id": "eSBEmVijUCLG",
    "outputId": "775efd11-25ad-4749-e8e7-362a4066c53d"
   },
   "outputs": [
    {
     "data": {
      "text/plain": [
       "MissionConfig(goal=(4, 4), max_sim_steps=1000, retry_delay_sec=5, max_attempts=20)"
      ]
     },
     "execution_count": 20,
     "metadata": {},
     "output_type": "execute_result"
    }
   ],
   "source": [
    "# Instantiate controller based on env_name\n",
    "factory = ControllerFactory()\n",
    "controller_config = {\"algorithm_type\": \"mlp\", \"npy_path\": f\"src/control/nn_params/{env_name}\"}\n",
    "mlp_params = MLPPolicyParams.from_dict(controller_config)\n",
    "command_follower = factory.build(params=mlp_params)\n",
    "\n",
    "pc_config = PositionControllerParams(\n",
    "    # PolarCoordinateControllerParams() is faster but can deviate from the straight path\n",
    "    primary_controller=SequentialControllerParams(),\n",
    "    fallback_controller=SequentialControllerParams(),\n",
    ")\n",
    "command_generator = create_position_controller(controller_factory=factory, config=pc_config)\n",
    "\n",
    "# Instantiate the ochestrator for mission execution\n",
    "instruction = open(\"examples/prompt.txt\", \"r\").read()\n",
    "mission_config = MissionConfig()\n",
    "mission_config.max_attempts = 20\n",
    "mission_config.max_sim_steps = 1000\n",
    "mission_executer = MissionExecuter(config=mission_config, instruciton_prompt=instruction)\n",
    "mission_config"
   ]
  },
  {
   "cell_type": "code",
   "execution_count": 15,
   "metadata": {
    "id": "guN8dElQMP_3"
   },
   "outputs": [],
   "source": [
    "from functools import partial\n",
    "\n",
    "# Create a partially applied function with fixed arguments for closed-loop simulation\n",
    "run_one_episode_func = partial(\n",
    "    run_one_episode,\n",
    "    env=env,\n",
    "    command_generator=command_generator,\n",
    "    command_follower=command_follower,\n",
    "    traversability_map=trav_map,\n",
    "    rng=rng,\n",
    ")"
   ]
  },
  {
   "cell_type": "markdown",
   "metadata": {
    "id": "Cwjnm0U7Ujcz"
   },
   "source": [
    "## Start Navigation\n",
    "\n",
    "I takes some time for the first simulation step. During simulation, the intermediate reuslt of attemps will be printed out, including the prompt, the waypoints suggested by LLM, and the result."
   ]
  },
  {
   "cell_type": "code",
   "execution_count": 16,
   "metadata": {
    "colab": {
     "base_uri": "https://localhost:8080/"
    },
    "id": "4Wt_009nF5xy",
    "outputId": "67bc8a20-d8c1-4ff1-9227-50b1fbbdafff"
   },
   "outputs": [
    {
     "name": "stderr",
     "output_type": "stream",
     "text": [
      "  8%|▊         | 81/1000 [01:02<11:53,  1.29it/s]\n"
     ]
    },
    {
     "name": "stdout",
     "output_type": "stream",
     "text": [
      "[Trial 1]\n",
      "prompt='You are a path planner for a quadruped robot navigating in a partially known 5x5 grid environment. Your task is to guide the robot from the start position (0,0) to the goal position (4,4).\\n\\nEnvironment specifications:\\n- Grid size: 5x5\\n- Start position: (0,0)\\n- Goal position: (4,4)\\n- Some cells are not traversable, but their status is only revealed when the robot attempts to traverse them\\n- The traversability of a cell is probabilistic - failed attempts don\\'t guarantee the cell is completely untraversable\\n\\nPath planning constraints:\\n1. Maximum 10 waypoints allowed per path\\n2. Consecutive waypoints moving in the same direction must be simplified\\n   Example: [(0,0), (1,0), (2,0), (2,1)] should be simplified to [(0,0), (2,0), (2,1)]\\n\\nExpected output format:\\nProvide only a list of coordinates in the format:\\n[(x0,y0), (x1,y1), ..., (xn,yn)]\\n\\nPossible execution outcomes:\\n1. Success: Robot reaches the goal\\n2. Failed (Obstacle): \"Failed: stop at (X,Y), traversed cells: [(x0,y0), (x1,y1), ...]\"\\n   - Episode terminates when hitting an untraversable cell\\n   - Remaining waypoints are discarded\\n3. Failed (Timeout): \"Failed: timeout at (X,Y), traversed cells: [(x0,y0), (x1,y1), ...]\"\\n\\nPlanning strategy:\\n- Use the feedback from failed attempts to refine subsequent path planning\\n- Adapt the path based on discovered untraversable cells\\n- Consider alternative routes when previous attempts fail\\n\\nImportant notes:\\n- Respond ONLY with the waypoint list\\n- No additional text or explanations\\n- Each new attempt should incorporate information from previous failures\\nStart. you are at somwwhere near (0, 0).'\n",
      "waypoints=[array([0, 0]), array([1, 1]), array([2, 2]), array([3, 3]), array([4, 4]), array([4, 4])]\n",
      "result.status='Stop'(0, 1) \t{result.position_history=}\n",
      "\n"
     ]
    },
    {
     "name": "stderr",
     "output_type": "stream",
     "text": [
      " 20%|██        | 202/1000 [00:04<00:18, 43.20it/s]\n"
     ]
    },
    {
     "name": "stdout",
     "output_type": "stream",
     "text": [
      "[Trial 2]\n",
      "prompt='Failed: Stop at (0, 1), traversed cells: [(0, 0), (0, 1)]'\n",
      "waypoints=[array([0, 0]), array([4, 0]), array([4, 1]), array([4, 2]), array([4, 3]), array([4, 4]), array([4, 4])]\n",
      "result.status='Stop'(4, 0) \t{result.position_history=}\n",
      "\n"
     ]
    },
    {
     "name": "stderr",
     "output_type": "stream",
     "text": [
      " 24%|██▎       | 236/1000 [00:07<00:24, 31.07it/s]\n"
     ]
    },
    {
     "name": "stdout",
     "output_type": "stream",
     "text": [
      "[Trial 3]\n",
      "prompt='Failed: Stop at (4, 0), traversed cells: [(0, 0), (1, 0), (2, 0), (3, 0), (4, 0)]'\n",
      "waypoints=[array([0, 0]), array([3, 0]), array([3, 1]), array([4, 1]), array([4, 4]), array([4, 4])]\n",
      "result.status='Stop'(3, 1) \t{result.position_history=}\n",
      "\n"
     ]
    },
    {
     "name": "stderr",
     "output_type": "stream",
     "text": [
      " 23%|██▎       | 230/1000 [00:04<00:15, 48.19it/s]\n"
     ]
    },
    {
     "name": "stdout",
     "output_type": "stream",
     "text": [
      "[Trial 4]\n",
      "prompt='Failed: Stop at (3, 1), traversed cells: [(0, 0), (1, 0), (2, 0), (3, 0), (3, 1)]'\n",
      "waypoints=[array([0, 0]), array([2, 0]), array([2, 2]), array([2, 4]), array([3, 4]), array([4, 4]), array([4, 4])]\n",
      "result.status='Stop'(2, 2) \t{result.position_history=}\n",
      "\n"
     ]
    },
    {
     "name": "stderr",
     "output_type": "stream",
     "text": [
      " 41%|████      | 409/1000 [00:07<00:11, 51.65it/s]\n"
     ]
    },
    {
     "name": "stdout",
     "output_type": "stream",
     "text": [
      "[Trial 5]\n",
      "prompt='Failed: Stop at (2, 2), traversed cells: [(0, 0), (1, 0), (2, 0), (2, 1), (2, 2)]'\n",
      "waypoints=[array([0, 0]), array([2, 0]), array([2, 1]), array([1, 1]), array([1, 4]), array([4, 4]), array([4, 4])]\n",
      "result.status='Stop'(1, 4) \t{result.position_history=}\n",
      "\n"
     ]
    },
    {
     "name": "stderr",
     "output_type": "stream",
     "text": [
      " 60%|██████    | 603/1000 [00:12<00:08, 47.41it/s]"
     ]
    },
    {
     "name": "stdout",
     "output_type": "stream",
     "text": [
      "[Trial 6]\n",
      "prompt='Failed: Stop at (1, 4), traversed cells: [(0, 0), (1, 0), (2, 0), (2, 1), (1, 1), (1, 2), (1, 3), (1, 4)]'\n",
      "waypoints=[array([0, 0]), array([2, 0]), array([2, 1]), array([1, 1]), array([1, 3]), array([4, 3]), array([4, 4]), array([4, 4])]\n",
      "result.status='Success'(4, 4) \t{result.position_history=}\n",
      "\n"
     ]
    },
    {
     "name": "stderr",
     "output_type": "stream",
     "text": [
      "\n"
     ]
    }
   ],
   "source": [
    "# dummy_navigator for debugging\n",
    "# result = mission_executer.execute_mission(planner=dummy_navigator, execute_single_attempt=run_one_episode_func)\n",
    "\n",
    "result = mission_executer.execute_mission(planner=llm_navigator, execute_single_attempt=run_one_episode_func)"
   ]
  },
  {
   "cell_type": "code",
   "execution_count": 15,
   "metadata": {
    "id": "Rvkst6KSSfUI"
   },
   "outputs": [],
   "source": []
  },
  {
   "cell_type": "code",
   "execution_count": 17,
   "metadata": {
    "id": "7N8bmyie7DPc"
   },
   "outputs": [],
   "source": [
    "# Set up the camera\n",
    "camera = mujoco.MjvCamera()\n",
    "mujoco.mjv_defaultCamera(camera)\n",
    "\n",
    "# Object is centered at (0,0,1.5) with size 15m x 15m x 3m\n",
    "camera.lookat[:] = np.array([2.0, 1.5, 1.5])  # Center of object\n",
    "\n",
    "# Calculate distance using a safe margin\n",
    "object_size = 6  # Maximum size in X or Y\n",
    "fov = 45  # Default MuJoCo camera FOV\n",
    "safe_margin = 1  # Factor to ensure entire object is in view\n",
    "\n",
    "# Compute required distance using field of view\n",
    "camera.distance = (object_size / 2) / np.tan(np.radians(fov / 2)) * safe_margin\n",
    "\n",
    "# Look directly down\n",
    "camera.azimuth = 90  # No horizontal rotation\n",
    "camera.elevation = -70  # Directly downward"
   ]
  },
  {
   "cell_type": "code",
   "execution_count": null,
   "metadata": {
    "id": "kcE9T8r2bgFr"
   },
   "outputs": [],
   "source": [
    "render_every = 5\n",
    "fps = 3.0 / env.dt / render_every  # 3x realtime\n",
    "traj = result.rollouts[::render_every]\n",
    "\n",
    "scene_option = mujoco.MjvOption()\n",
    "scene_option.geomgroup[2] = True\n",
    "scene_option.geomgroup[3] = False\n",
    "scene_option.flags[mujoco.mjtVisFlag.mjVIS_CONTACTPOINT] = True\n",
    "scene_option.flags[mujoco.mjtVisFlag.mjVIS_CONTACTFORCE] = False\n",
    "scene_option.flags[mujoco.mjtVisFlag.mjVIS_TRANSPARENT] = False\n",
    "\n",
    "frames = env.render(\n",
    "    traj,\n",
    "    camera=camera,\n",
    "    scene_option=scene_option,\n",
    "    height=480,\n",
    "    width=640,\n",
    ")\n",
    "mediapy.show_video(frames, fps=fps, loop=False)"
   ]
  },
  {
   "cell_type": "code",
   "execution_count": null,
   "metadata": {
    "id": "edwQI3VVQOtB"
   },
   "outputs": [],
   "source": []
  }
 ],
 "metadata": {
  "colab": {
   "provenance": []
  },
  "kernelspec": {
   "display_name": "Python 3",
   "name": "python3"
  },
  "language_info": {
   "codemirror_mode": {
    "name": "ipython",
    "version": 3
   },
   "file_extension": ".py",
   "mimetype": "text/x-python",
   "name": "python",
   "nbconvert_exporter": "python",
   "pygments_lexer": "ipython3",
   "version": "3.12.3"
  }
 },
 "nbformat": 4,
 "nbformat_minor": 0
}