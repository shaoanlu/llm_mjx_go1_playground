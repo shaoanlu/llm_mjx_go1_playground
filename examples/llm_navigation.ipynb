{
 "cells": [
  {
   "cell_type": "markdown",
   "metadata": {
    "id": "FPsnZakTrFGS"
   },
   "source": [
    "# LLM-Guided Quadruped Robot Navigation\n",
    "\n",
    "This notebook demonstrates how to use a large language model (Gemini) to guide a quadruped robot (Unitree Go1) through a partially known maze environment. The LLM acts as a path planner that suggests waypoints based on the robot's feedback from failed navigation attempts.\n",
    "\n",
    "## Overview\n",
    "- The environment is a 5x5 grid maze with some untraversable cells\n",
    "- The robot starts at (0,0) and needs to reach (4,4)\n",
    "- The LLM receives feedback from failed attempts to refine its path planning\n",
    "- The simulation uses MuJoCo physics engine with JAX acceleration\n",
    "\n",
    "## Installation and Setup\n",
    "First, let's install the required packages:"
   ]
  },
  {
   "cell_type": "code",
   "execution_count": 1,
   "metadata": {
    "cellView": "form",
    "id": "Xqo7pyX-n72M"
   },
   "outputs": [],
   "source": [
    "%%capture\n",
    "!pip install mujoco mujoco_mjx brax playground\n",
    "!command -v ffmpeg >/dev/null || (apt update && apt install -y ffmpeg)\n",
    "!pip install -q mediapy\n",
    "!apt-get update\n",
    "!apt-get install -y libosmesa6-dev libgl1-mesa-glx libglfw3 patchelf"
   ]
  },
  {
   "cell_type": "code",
   "execution_count": 2,
   "metadata": {
    "id": "gvmLOXS7FWou"
   },
   "outputs": [],
   "source": [
    "%pip install -q -U 'google-generativeai>=0.8.3'"
   ]
  },
  {
   "cell_type": "code",
   "execution_count": 1,
   "metadata": {
    "id": "T5f4w3Kq2X14"
   },
   "outputs": [],
   "source": [
    "import jax\n",
    "import numpy as np\n",
    "import mediapy\n",
    "import os\n",
    "from tqdm import tqdm\n",
    "from matplotlib import pyplot as plt\n",
    "\n",
    "os.environ[\"MUJOCO_GL\"] = \"egl\"\n",
    "\n",
    "# More legible printing from numpy.\n",
    "np.set_printoptions(precision=3, suppress=True, linewidth=100)"
   ]
  },
  {
   "cell_type": "code",
   "execution_count": 1,
   "metadata": {
    "id": "ZcNqx9YUejAy"
   },
   "outputs": [],
   "source": []
  },
  {
   "cell_type": "markdown",
   "metadata": {
    "id": "hssKFDcnrFGW"
   },
   "source": [
    "## Clone the Repository \n",
    "Clone the repository containing the simulation environment and navigation code:"
   ]
  },
  {
   "cell_type": "code",
   "execution_count": 2,
   "metadata": {
    "colab": {
     "base_uri": "https://localhost:8080/"
    },
    "id": "2ZnNqQU0TQvb",
    "outputId": "9f35e96e-a5aa-4f72-875c-a14a6b24ab93"
   },
   "outputs": [
    {
     "name": "stdout",
     "output_type": "stream",
     "text": [
      "fatal: destination path 'llm_mjx_go1_playground' already exists and is not an empty directory.\n"
     ]
    }
   ],
   "source": [
    "!git clone https://github.com/shaoanlu/llm_mjx_go1_playground.git"
   ]
  },
  {
   "cell_type": "code",
   "execution_count": 3,
   "metadata": {
    "colab": {
     "base_uri": "https://localhost:8080/"
    },
    "id": "pQXZu_W7ExY6",
    "outputId": "2e86f419-f3b5-46b1-e1c7-086b92153261"
   },
   "outputs": [
    {
     "name": "stdout",
     "output_type": "stream",
     "text": [
      "/content/llm_mjx_go1_playground\n"
     ]
    }
   ],
   "source": [
    "%cd llm_mjx_go1_playground"
   ]
  },
  {
   "cell_type": "markdown",
   "metadata": {
    "id": "1OeVHTE3rFGX"
   },
   "source": [
    "## Simulation Environment Setup\n",
    "\n",
    "### Generate Random Maze\n",
    "We generate a random maze environment with walls and visualize it:\n",
    "- White cells are traversable \n",
    "- Black cells are walls/obstacles\n",
    "- Green dot marks the start position\n",
    "- Red dot marks the goal position"
   ]
  },
  {
   "cell_type": "code",
   "execution_count": 4,
   "metadata": {
    "id": "prshF602X_UN"
   },
   "outputs": [],
   "source": [
    "from src.environment.generate_maze_scene_xml import generate_maze_xml"
   ]
  },
  {
   "cell_type": "code",
   "execution_count": 7,
   "metadata": {
    "colab": {
     "base_uri": "https://localhost:8080/",
     "height": 452
    },
    "id": "dTxlfa0OYVbX",
    "outputId": "3986156d-3ab3-4ff2-8cb9-f7795fbb3f79"
   },
   "outputs": [
    {
     "data": {
      "image/png": "[encoded data removed]",
      "text/plain": [
       "<Figure size 640x480 with 1 Axes>"
      ]
     },
     "metadata": {},
     "output_type": "display_data"
    }
   ],
   "source": [
    "grid, random_maze_xml = generate_maze_xml()\n",
    "\n",
    "# flips to have origin at bottom-left and goal top-right\n",
    "im = (np.stack((grid.T[::-1, :],) * 3, axis=-1) * 255).astype(np.uint8)\n",
    "plt.title(\"Generated maze\")\n",
    "plt.imshow(im)\n",
    "plt.plot(0.0, 4.0, \"go\", markersize=10, label=\"Start\")\n",
    "plt.plot(4, 0, \"ro\", markersize=10, label=\"Goal\")\n",
    "plt.legend(loc=\"upper left\")\n",
    "plt.show()\n",
    "\n",
    "!rm -rf scene_mjx_maze_flat_terrain.xml\n",
    "f = open(\"scene_mjx_maze_flat_terrain.xml\", \"a\")\n",
    "f.write(random_maze_xml)\n",
    "f.close()"
   ]
  },
  {
   "cell_type": "markdown",
   "metadata": {},
   "source": [
    "### ========== !!!!! BEWARE !!!!! ==========\n",
    "The following `mv` command overwrites the xml file installed in the mujoco_playground. The modified xml has wall objects added into the scene."
   ]
  },
  {
   "cell_type": "code",
   "execution_count": 8,
   "metadata": {
    "id": "D1d59S-g4EdE"
   },
   "outputs": [],
   "source": [
    "!mv scene_mjx_maze_flat_terrain.xml /usr/local/lib/python3.11/dist-packages/mujoco_playground/_src/locomotion/go1/xmls/scene_mjx_feetonly_flat_terrain.xml"
   ]
  },
  {
   "cell_type": "markdown",
   "metadata": {
    "id": "qR3mX130Y3jf"
   },
   "source": [
    "### ========== !!!!! BEWARE !!!!! =========="
   ]
  },
  {
   "cell_type": "code",
   "execution_count": 8,
   "metadata": {
    "id": "SIFpgsUsMP_1"
   },
   "outputs": [],
   "source": []
  },
  {
   "cell_type": "markdown",
   "metadata": {},
   "source": [
    "### Initialize Simulation\n",
    "Set up the MuJoCo simulation environment:\n",
    "- Instantiate the `Go1Env` (which load the maze scene XML)\n",
    "- Create a traversability map based the random generated maze\n",
    "- Configure mujoco camera parameters and rendering options"
   ]
  },
  {
   "cell_type": "code",
   "execution_count": 9,
   "metadata": {
    "id": "vl3ZYexzMP_1"
   },
   "outputs": [],
   "source": [
    "# import mujoco after setting MUJOCO_GL to prevent errors in video rendering\n",
    "import mujoco\n",
    "from mujoco_playground._src import mjx_env\n",
    "from typing import List\n",
    "\n",
    "from src.environment.env_wrapper import Go1Env\n",
    "from src.environment.traversability_map import TraversabilityMap, TraversabilityMapConfig\n",
    "from src.control.controller_factory import ControllerFactory\n",
    "from src.control.position_controller import PositionController, PositionCommand\n",
    "from src.control.algorithms.mlp import MLPPolicy, MLPPolicyParams\n",
    "from src.mission_executer import EpisodeResult, MissionConfig, MissionExecuter\n",
    "from src.control.position_controller import (\n",
    "    create_position_controller,\n",
    "    PositionControllerParams,\n",
    "    SequentialControllerParams,\n",
    "    PolarCoordinateControllerParams,\n",
    ")"
   ]
  },
  {
   "cell_type": "code",
   "execution_count": null,
   "metadata": {},
   "outputs": [],
   "source": [
    "# instantiate mujoco Env\n",
    "env_name = \"Go1JoystickFlatTerrain\"\n",
    "rng = jax.random.PRNGKey(0)\n",
    "env = Go1Env(env_name=env_name)\n",
    "\n",
    "# create traversability map\n",
    "trav_map_config = TraversabilityMapConfig()\n",
    "trav_map = TraversabilityMap(trav_map_config)\n",
    "trav_map.load_from_grid(grid)  # or trav_map.load_grid(\"assets/floor1.jpg\")"
   ]
  },
  {
   "cell_type": "code",
   "execution_count": 12,
   "metadata": {
    "id": "WFhzEtJfFTwP"
   },
   "outputs": [],
   "source": [
    "def modify_scn_fn(scene):\n",
    "    \"\"\"Modify the rendering scene to change lighting.\"\"\"\n",
    "    light_id = 0  # Adjust this if you have multiple lights\n",
    "    scene.lights[light_id].ambient = [0.0, 0.0, 0.0]\n",
    "    scene.lights[light_id].diffuse = [0.1, 0.1, 0.1]  # Change color\n",
    "    scene.lights[light_id].specular = [0.0, 0.0, 0.0]\n",
    "\n",
    "    light_id = 1  # Adjust this if you have multiple lights\n",
    "    scene.lights[light_id].ambient = [0.0, 0.0, 0.0]\n",
    "    scene.lights[light_id].exponent = 50.0  # Strong falloff at edges\n",
    "    scene.lights[light_id].cutoff = 65.0  # Spotlight effect\n",
    "    scene.lights[light_id].diffuse = [1.0, 1.0, 1.0]  # Change color\n",
    "    scene.lights[light_id].specular = [0.0, 0.0, 0.0]\n",
    "\n",
    "\n",
    "# Set up the camera\n",
    "camera = mujoco.MjvCamera()\n",
    "mujoco.mjv_defaultCamera(camera)\n",
    "\n",
    "# Object is centered at (0,0,1.5) with size 15m x 15m x 3m\n",
    "camera.lookat[:] = np.array([2.0, 1.5, 1.5])  # Center of object\n",
    "\n",
    "# Calculate distance using a safe margin\n",
    "object_size = 6  # Maximum size in X or Y\n",
    "fov = 45  # Default MuJoCo camera FOV\n",
    "safe_margin = 1  # Factor to ensure entire object is in view\n",
    "\n",
    "# Compute required distance using field of view\n",
    "camera.distance = (object_size / 2) / np.tan(np.radians(fov / 2)) * safe_margin\n",
    "\n",
    "# Look directly down\n",
    "camera.azimuth = 90  # No horizontal rotation\n",
    "camera.elevation = -70  # Directly downward\n",
    "\n",
    "scene_option = mujoco.MjvOption()\n",
    "scene_option.geomgroup[2] = True\n",
    "scene_option.geomgroup[3] = False\n",
    "scene_option.flags[mujoco.mjtVisFlag.mjVIS_CONTACTPOINT] = True\n",
    "scene_option.flags[mujoco.mjtVisFlag.mjVIS_CONTACTFORCE] = False\n",
    "scene_option.flags[mujoco.mjtVisFlag.mjVIS_TRANSPARENT] = False"
   ]
  },
  {
   "cell_type": "markdown",
   "metadata": {
    "id": "gt34bGwSDJDS"
   },
   "source": [
    "###  Define Helper Functions"
   ]
  },
  {
   "cell_type": "code",
   "execution_count": 14,
   "metadata": {
    "id": "GB5NorWvGRYp"
   },
   "outputs": [],
   "source": [
    "velocity_kick_range = [0.0, 0.0]  # Disable velocity kick.\n",
    "kick_duration_range = [0.05, 0.2]\n",
    "\n",
    "\n",
    "def sample_pert(rng, env, state):\n",
    "    \"\"\"\n",
    "    Random purterbation to the robot\n",
    "    \"\"\"\n",
    "    rng, key1, key2 = jax.random.split(rng, 3)\n",
    "    pert_mag = jax.random.uniform(key1, minval=velocity_kick_range[0], maxval=velocity_kick_range[1])\n",
    "    duration_seconds = jax.random.uniform(key2, minval=kick_duration_range[0], maxval=kick_duration_range[1])\n",
    "    duration_steps = jax.numpy.round(duration_seconds / env.dt).astype(jax.numpy.int32)\n",
    "    state.info[\"pert_mag\"] = pert_mag\n",
    "    state.info[\"pert_duration\"] = duration_steps\n",
    "    state.info[\"pert_duration_seconds\"] = duration_seconds\n",
    "    return rng\n",
    "\n",
    "\n",
    "def update_position_history(position_history, current_position):\n",
    "    # Only update position_history is the robot enters a new cell (by comparing position in integer)\n",
    "    if len(position_history) == 0:\n",
    "        position_history.append(current_position.astype(np.int32))\n",
    "        return position_history\n",
    "    if np.array_equal(position_history[-1].astype(np.int32), current_position.astype(np.int32)):\n",
    "        return position_history\n",
    "    else:\n",
    "        position_history.append(current_position.astype(np.int32))\n",
    "    return position_history\n",
    "\n",
    "\n",
    "def run_one_episode(\n",
    "    env: Go1Env,\n",
    "    command_generator: PositionController,\n",
    "    # instead of using base class Controller, we use subclass MLPPolicy as this method is very customized\n",
    "    command_follower: MLPPolicy,\n",
    "    traversability_map: TraversabilityMap,\n",
    "    waypoints: List[np.ndarray],\n",
    "    max_sim_steps: int,\n",
    "    rng: jax.Array,\n",
    ") -> EpisodeResult:\n",
    "    rollout: List[mjx_env.State] = []\n",
    "    position_history: List[np.ndarray] = []\n",
    "    waypoint_idx: int = 0\n",
    "\n",
    "    _, rng = jax.random.split(rng)\n",
    "    state = env.reset(rng)\n",
    "\n",
    "    # start closed-loop sim\n",
    "    for i in tqdm(range(max_sim_steps)):\n",
    "        _, rng = jax.random.split(rng)  # this will randomize perturbation\n",
    "        rng = sample_pert(rng, env, state)\n",
    "\n",
    "        # calculate control command\n",
    "        cell_center_offset = 0.5\n",
    "        target_position = waypoints[waypoint_idx] + cell_center_offset\n",
    "        pos_command: PositionCommand = command_generator.compute_command(state, target_position)\n",
    "        state.info[\"command\"] = pos_command.command\n",
    "\n",
    "        ctrl = command_follower.control(state.obs[\"state\"])  # controller step\n",
    "        state = env.step(state, ctrl)  # simulator step\n",
    "\n",
    "        # record\n",
    "        rollout.append(state)\n",
    "        position_history = update_position_history(position_history, pos_command.info.pos[:2])\n",
    "\n",
    "        # check failure\n",
    "        if not traversability_map.is_valid_position(pos_command.info.pos[:2]):\n",
    "            return EpisodeResult(status=\"Stop\", position_history=position_history, rollout=rollout)\n",
    "\n",
    "        # check arrival at current waypoint\n",
    "        if pos_command.info.is_arrived:\n",
    "            waypoint_idx = min(waypoint_idx + 1, len(waypoints))  # proceed to next waypoint\n",
    "\n",
    "            # Check if the arrived at the last waypoint\n",
    "            if waypoint_idx == len(waypoints):\n",
    "                return EpisodeResult(status=\"Success\", position_history=position_history, rollout=rollout)\n",
    "\n",
    "    return EpisodeResult(status=\"Timeout\", position_history=position_history, rollout=rollout)"
   ]
  },
  {
   "cell_type": "markdown",
   "metadata": {
    "id": "FKA1AJnXrn0O"
   },
   "source": [
    "## Demo: Nagivating a go1 quadruped through a maze with Gemini-thinking Model\n",
    "**The main navigation loop:**\n",
    "1. Get waypoints from LLM planner\n",
    "2. Execute waypoints using controllers\n",
    "3. Provide feedback to LLM if attempt fails\n",
    "4. Repeat until goal is reached or max attempts exceeded\n",
    "\n",
    "The following picture illustrates the flowchart of the navigation task.\n",
    "![](https://github.com/shaoanlu/llm_mjx_go1_playground/raw/main/assets/llm_go1_navigation.png)\n"
   ]
  },
  {
   "cell_type": "markdown",
   "metadata": {
    "id": "0sAeW2U5aC7z"
   },
   "source": [
    "### LLM Path Planner\n",
    "A free tier Google API key is required to instantiate the `LLMNavigator` class. You can obtain one from [AU Studio](https://aistudio.google.com/app/apikey) with detailed instructions in [this docs](https://ai.google.dev/gemini-api/docs/api-key).\n",
    "\n",
    "We use the LLM as the path planner:\n",
    "- Takes the current state and failed attempts as input\n",
    "- Outputs a sequence of waypoints for the robot to follow\n",
    "- Adapts the plan based on feedback from failed attempts"
   ]
  },
  {
   "cell_type": "code",
   "execution_count": null,
   "metadata": {},
   "outputs": [],
   "source": [
    "from google import genai\n",
    "from google.colab import userdata\n",
    "from src.planning.llm_nagivator import GeminiThinkingNavigator\n",
    "\n",
    "\n",
    "client = genai.Client(api_key=userdata.get(\"GOOGLE_API_KEY\"), http_options={\"api_version\": \"v1alpha\"})\n",
    "llm_navigator = GeminiThinkingNavigator(client, model_name=\"gemini-2.0-flash-thinking-exp\")"
   ]
  },
  {
   "cell_type": "markdown",
   "metadata": {
    "id": "FY5IPFW0aYRd"
   },
   "source": [
    "### Robot Controller\n",
    "We use two levels of control:\n",
    "1. High-level position controller that follows waypoints\n",
    "2. Low-level MLP policy that controls individual joint movements"
   ]
  },
  {
   "cell_type": "code",
   "execution_count": 18,
   "metadata": {
    "colab": {
     "base_uri": "https://localhost:8080/"
    },
    "id": "eSBEmVijUCLG",
    "outputId": "2fcbca7d-7f75-4dbb-be75-7fa9ee2a416a"
   },
   "outputs": [
    {
     "data": {
      "text/plain": [
       "MissionConfig(goal=(4, 4), max_sim_steps=1000, retry_delay_sec=5, max_attempts=20)"
      ]
     },
     "execution_count": 18,
     "metadata": {},
     "output_type": "execute_result"
    }
   ],
   "source": [
    "# Instantiate controller based on env_name\n",
    "factory = ControllerFactory()\n",
    "controller_config = {\"algorithm_type\": \"mlp\", \"npy_path\": f\"src/control/nn_params/{env_name}\"}\n",
    "mlp_params = MLPPolicyParams.from_dict(controller_config)\n",
    "command_follower = factory.build(params=mlp_params)\n",
    "\n",
    "pc_config = PositionControllerParams(\n",
    "    # PolarCoordinateControllerParams() is faster but can deviate from the straight path\n",
    "    primary_controller=SequentialControllerParams(),\n",
    "    fallback_controller=SequentialControllerParams(),\n",
    ")\n",
    "command_generator = create_position_controller(controller_factory=factory, config=pc_config)\n",
    "\n",
    "# Instantiate the ochestrator for mission execution\n",
    "instruction = open(\"examples/prompt.txt\", \"r\").read()\n",
    "mission_config = MissionConfig()\n",
    "mission_config.max_attempts = 20\n",
    "mission_config.max_sim_steps = 1000\n",
    "mission_executer = MissionExecuter(config=mission_config, instruciton_prompt=instruction)\n",
    "mission_config"
   ]
  },
  {
   "cell_type": "markdown",
   "metadata": {},
   "source": [
    "### Create a partially applied function with fixed arguments for closed-loop simulation"
   ]
  },
  {
   "cell_type": "code",
   "execution_count": 19,
   "metadata": {
    "id": "guN8dElQMP_3"
   },
   "outputs": [],
   "source": [
    "from functools import partial\n",
    "\n",
    "run_one_episode_func = partial(\n",
    "    run_one_episode,\n",
    "    env=env,\n",
    "    command_generator=command_generator,\n",
    "    command_follower=command_follower,\n",
    "    traversability_map=trav_map,\n",
    ")"
   ]
  },
  {
   "cell_type": "markdown",
   "metadata": {
    "id": "Cwjnm0U7Ujcz"
   },
   "source": [
    "## Start Navigation\n",
    "\n",
    "I takes some time for the first simulation step. During simulation, the intermediate reuslt of attemps will be printed out, including the prompt, the waypoints suggested by LLM, and the result."
   ]
  },
  {
   "cell_type": "code",
   "execution_count": 20,
   "metadata": {
    "colab": {
     "base_uri": "https://localhost:8080/"
    },
    "id": "4Wt_009nF5xy",
    "outputId": "98a75258-9bfd-49a9-9128-26ae90103e35"
   },
   "outputs": [
    {
     "name": "stderr",
     "output_type": "stream",
     "text": [
      " 20%|█▉        | 198/1000 [01:02<04:13,  3.17it/s]\n"
     ]
    },
    {
     "name": "stdout",
     "output_type": "stream",
     "text": [
      "[Trial 1]\n",
      "prompt='You are a path planner for a quadruped robot navigating in a partially known 5x5 grid environment. Your task is to guide the robot from the start position (0,0) to the goal position (4,4).\\n\\nEnvironment specifications:\\n- Grid size: 5x5\\n- Start position: (0,0)\\n- Goal position: (4,4)\\n- Some cells are not traversable, but their status is only revealed when the robot attempts to traverse them\\n\\nPath planning constraints:\\n1. Maximum 10 waypoints allowed per path\\n2. Consecutive waypoints moving in the same direction must be simplified\\n   Example: [(0,0), (1,0), (2,0), (2,1)] should be simplified to [(0,0), (2,0), (2,1)]\\n\\nExpected output format:\\nProvide only a list of coordinates in the format:\\n[(x0,y0), (x1,y1), ..., (xn,yn)]\\n\\nPossible execution outcomes:\\n1. Success: Robot reaches the goal\\n2. Failed (Obstacle): \"Failed: stop at (X,Y), traversed cells: [(x0,y0), (x1,y1), ...]\"\\n   - Episode terminates when hitting an untraversable cell\\n   - Remaining waypoints are discarded\\n3. Failed (Timeout): \"Failed: timeout at (X,Y), traversed cells: [(x0,y0), (x1,y1), ...]\"\\n\\nPlanning strategy:\\n- Use the feedback from failed attempts to refine subsequent path planning\\n- Adapt the path based on discovered untraversable cells\\n- Consider alternative routes when previous attempts fail\\n\\nImportant notes:\\n- Respond ONLY with the waypoint list\\n- No additional text or explanations\\n- Each new attempt should incorporate information from previous failures\\n\\nStart. you are at somwwhere near (0, 0).'\n",
      "waypoints=[array([0, 0]), array([4, 4])]\n",
      "result.status='Stop'(0, 1) \tresult.position_history=[array([0, 0], dtype=int32), array([0, 1], dtype=int32)]\n",
      "\n"
     ]
    },
    {
     "name": "stderr",
     "output_type": "stream",
     "text": [
      " 33%|███▎      | 333/1000 [00:04<00:09, 72.02it/s]\n"
     ]
    },
    {
     "name": "stdout",
     "output_type": "stream",
     "text": [
      "[Trial 2]\n",
      "prompt='Failed: Stop at (0, 1), traversed cells: [(0, 0), (0, 1)]'\n",
      "waypoints=[array([0, 0]), array([4, 0]), array([4, 4])]\n",
      "result.status='Stop'(4, 1) \tresult.position_history=[array([0, 0], dtype=int32), array([1, 0], dtype=int32), array([2, 0], dtype=int32), array([3, 0], dtype=int32), array([4, 0], dtype=int32), array([4, 1], dtype=int32)]\n",
      "\n"
     ]
    },
    {
     "name": "stderr",
     "output_type": "stream",
     "text": [
      " 24%|██▍       | 240/1000 [00:03<00:10, 75.37it/s]\n"
     ]
    },
    {
     "name": "stdout",
     "output_type": "stream",
     "text": [
      "[Trial 3]\n",
      "prompt='Failed: Stop at (4, 1), traversed cells: [(0, 0), (1, 0), (2, 0), (3, 0), (4, 0), (4, 1)]'\n",
      "waypoints=[array([0, 0]), array([1, 0]), array([1, 2]), array([4, 2]), array([4, 4])]\n",
      "result.status='Stop'(1, 1) \tresult.position_history=[array([0, 0], dtype=int32), array([1, 0], dtype=int32), array([1, 1], dtype=int32)]\n",
      "\n"
     ]
    },
    {
     "name": "stderr",
     "output_type": "stream",
     "text": [
      " 54%|█████▍    | 544/1000 [00:09<00:07, 59.99it/s]\n"
     ]
    },
    {
     "name": "stdout",
     "output_type": "stream",
     "text": [
      "[Trial 4]\n",
      "prompt='Failed: Stop at (1, 1), traversed cells: [(0, 0), (1, 0), (1, 1)]'\n",
      "waypoints=[array([0, 0]), array([1, 0]), array([2, 0]), array([2, 1]), array([2, 2]), array([3, 2]), array([3, 3]), array([3, 4]), array([4, 4])]\n",
      "result.status='Stop'(3, 3) \tresult.position_history=[array([0, 0], dtype=int32), array([1, 0], dtype=int32), array([2, 0], dtype=int32), array([2, 1], dtype=int32), array([2, 2], dtype=int32), array([3, 2], dtype=int32), array([3, 3], dtype=int32)]\n",
      "\n"
     ]
    },
    {
     "name": "stderr",
     "output_type": "stream",
     "text": [
      " 62%|██████▏   | 617/1000 [00:10<00:06, 60.80it/s]\n"
     ]
    },
    {
     "name": "stdout",
     "output_type": "stream",
     "text": [
      "[Trial 5]\n",
      "prompt='Failed: Stop at (3, 3), traversed cells: [(0, 0), (1, 0), (2, 0), (2, 1), (2, 2), (3, 2), (3, 3)]'\n",
      "waypoints=[array([0, 0]), array([1, 0]), array([2, 0]), array([2, 1]), array([2, 2]), array([3, 2]), array([4, 2]), array([4, 3]), array([4, 4])]\n",
      "result.status='Stop'(4, 3) \tresult.position_history=[array([0, 0], dtype=int32), array([1, 0], dtype=int32), array([2, 0], dtype=int32), array([2, 1], dtype=int32), array([2, 2], dtype=int32), array([3, 2], dtype=int32), array([4, 2], dtype=int32), array([4, 3], dtype=int32)]\n",
      "\n"
     ]
    },
    {
     "name": "stderr",
     "output_type": "stream",
     "text": [
      " 44%|████▎     | 435/1000 [00:06<00:08, 70.60it/s]\n"
     ]
    },
    {
     "name": "stdout",
     "output_type": "stream",
     "text": [
      "[Trial 6]\n",
      "prompt='Failed: Stop at (4, 3), traversed cells: [(0, 0), (1, 0), (2, 0), (2, 1), (2, 2), (3, 2), (4, 2), (4, 3)]'\n",
      "waypoints=[array([0, 0]), array([1, 0]), array([2, 0]), array([2, 1]), array([2, 2]), array([2, 3]), array([2, 4]), array([3, 4]), array([4, 4])]\n",
      "result.status='Stop'(2, 3) \tresult.position_history=[array([0, 0], dtype=int32), array([1, 0], dtype=int32), array([2, 0], dtype=int32), array([2, 1], dtype=int32), array([2, 2], dtype=int32), array([2, 3], dtype=int32)]\n",
      "\n"
     ]
    },
    {
     "name": "stderr",
     "output_type": "stream",
     "text": [
      " 42%|████▏     | 417/1000 [00:07<00:10, 58.27it/s]\n"
     ]
    },
    {
     "name": "stdout",
     "output_type": "stream",
     "text": [
      "[Trial 7]\n",
      "prompt='Failed: Stop at (2, 3), traversed cells: [(0, 0), (1, 0), (2, 0), (2, 1), (2, 2), (2, 3)]'\n",
      "waypoints=[array([0, 0]), array([1, 0]), array([2, 0]), array([2, 1]), array([2, 2]), array([2, 4]), array([3, 4]), array([4, 4])]\n",
      "result.status='Stop'(2, 3) \tresult.position_history=[array([0, 0], dtype=int32), array([1, 0], dtype=int32), array([2, 0], dtype=int32), array([2, 1], dtype=int32), array([2, 2], dtype=int32), array([2, 3], dtype=int32)]\n",
      "\n"
     ]
    },
    {
     "name": "stderr",
     "output_type": "stream",
     "text": [
      " 42%|████▏     | 418/1000 [00:08<00:11, 50.89it/s]\n"
     ]
    },
    {
     "name": "stdout",
     "output_type": "stream",
     "text": [
      "[Trial 8]\n",
      "prompt='Failed: Stop at (2, 3), traversed cells: [(0, 0), (1, 0), (2, 0), (2, 1), (2, 2), (2, 3)]'\n",
      "waypoints=[array([0, 0]), array([1, 0]), array([2, 0]), array([2, 1]), array([2, 2]), array([2, 4]), array([3, 4]), array([4, 4])]\n",
      "result.status='Stop'(2, 3) \tresult.position_history=[array([0, 0], dtype=int32), array([1, 0], dtype=int32), array([2, 0], dtype=int32), array([2, 1], dtype=int32), array([2, 2], dtype=int32), array([2, 3], dtype=int32)]\n",
      "\n"
     ]
    },
    {
     "name": "stderr",
     "output_type": "stream",
     "text": [
      " 38%|███▊      | 376/1000 [00:06<00:11, 54.11it/s]\n"
     ]
    },
    {
     "name": "stdout",
     "output_type": "stream",
     "text": [
      "[Trial 9]\n",
      "prompt='Failed: Stop at (2, 3), traversed cells: [(0, 0), (1, 0), (2, 0), (2, 1), (2, 2), (2, 3)]'\n",
      "waypoints=[array([0, 0]), array([1, 0]), array([2, 0]), array([3, 0]), array([3, 1]), array([3, 2]), array([3, 4]), array([4, 4])]\n",
      "result.status='Stop'(3, 1) \tresult.position_history=[array([0, 0], dtype=int32), array([1, 0], dtype=int32), array([2, 0], dtype=int32), array([3, 0], dtype=int32), array([3, 1], dtype=int32)]\n",
      "\n"
     ]
    },
    {
     "name": "stderr",
     "output_type": "stream",
     "text": [
      " 40%|████      | 403/1000 [00:07<00:11, 54.25it/s]\n"
     ]
    },
    {
     "name": "stdout",
     "output_type": "stream",
     "text": [
      "[Trial 10]\n",
      "prompt='Failed: Stop at (3, 1), traversed cells: [(0, 0), (1, 0), (2, 0), (3, 0), (3, 1)]'\n",
      "waypoints=[array([0, 0]), array([1, 0]), array([2, 0]), array([3, 0]), array([3, 2]), array([3, 4]), array([4, 4])]\n",
      "result.status='Stop'(3, 1) \tresult.position_history=[array([0, 0], dtype=int32), array([1, 0], dtype=int32), array([2, 0], dtype=int32), array([3, 0], dtype=int32), array([3, 1], dtype=int32)]\n",
      "\n"
     ]
    },
    {
     "name": "stderr",
     "output_type": "stream",
     "text": [
      " 51%|█████     | 506/1000 [00:07<00:07, 69.73it/s]\n"
     ]
    },
    {
     "name": "stdout",
     "output_type": "stream",
     "text": [
      "[Trial 11]\n",
      "prompt='Failed: Stop at (3, 1), traversed cells: [(0, 0), (1, 0), (2, 0), (3, 0), (3, 1)]'\n",
      "waypoints=[array([0, 0]), array([2, 0]), array([2, 2]), array([4, 2]), array([4, 4])]\n",
      "result.status='Stop'(4, 3) \tresult.position_history=[array([0, 0], dtype=int32), array([1, 0], dtype=int32), array([2, 0], dtype=int32), array([2, 1], dtype=int32), array([2, 2], dtype=int32), array([3, 2], dtype=int32), array([4, 2], dtype=int32), array([4, 3], dtype=int32)]\n",
      "\n"
     ]
    },
    {
     "name": "stderr",
     "output_type": "stream",
     "text": [
      " 34%|███▍      | 340/1000 [00:04<00:09, 72.25it/s]\n"
     ]
    },
    {
     "name": "stdout",
     "output_type": "stream",
     "text": [
      "[Trial 12]\n",
      "prompt='Failed: Stop at (4, 3), traversed cells: [(0, 0), (1, 0), (2, 0), (2, 1), (2, 2), (3, 2), (4, 2), (4, 3)]'\n",
      "waypoints=[array([0, 0]), array([4, 0]), array([4, 2]), array([2, 2]), array([2, 4]), array([4, 4])]\n",
      "result.status='Stop'(4, 1) \tresult.position_history=[array([0, 0], dtype=int32), array([1, 0], dtype=int32), array([2, 0], dtype=int32), array([3, 0], dtype=int32), array([4, 0], dtype=int32), array([4, 1], dtype=int32)]\n",
      "\n"
     ]
    },
    {
     "name": "stderr",
     "output_type": "stream",
     "text": [
      " 83%|████████▎ | 827/1000 [00:14<00:02, 58.18it/s]"
     ]
    },
    {
     "name": "stdout",
     "output_type": "stream",
     "text": [
      "[Trial 13]\n",
      "prompt='Failed: Stop at (4, 1), traversed cells: [(0, 0), (1, 0), (2, 0), (3, 0), (4, 0), (4, 1)]'\n",
      "waypoints=[array([0, 0]), array([2, 0]), array([2, 2]), array([0, 2]), array([0, 4]), array([4, 4])]\n",
      "result.status='Success'(4, 4) \tresult.position_history=[array([0, 0], dtype=int32), array([1, 0], dtype=int32), array([2, 0], dtype=int32), array([2, 1], dtype=int32), array([2, 2], dtype=int32), array([1, 2], dtype=int32), array([0, 2], dtype=int32), array([0, 3], dtype=int32), array([0, 4], dtype=int32), array([1, 4], dtype=int32), array([2, 4], dtype=int32), array([3, 4], dtype=int32), array([4, 4], dtype=int32)]\n",
      "\n"
     ]
    },
    {
     "name": "stderr",
     "output_type": "stream",
     "text": [
      "\n"
     ]
    }
   ],
   "source": [
    "result = mission_executer.execute_mission(planner=llm_navigator, execute_single_attempt=run_one_episode_func, rng=rng)"
   ]
  },
  {
   "cell_type": "code",
   "execution_count": 20,
   "metadata": {
    "id": "Rvkst6KSSfUI"
   },
   "outputs": [],
   "source": []
  },
  {
   "cell_type": "markdown",
   "metadata": {},
   "source": [
    "## Results Visualization\n",
    "\n",
    "### Render Navigation Video\n",
    "Visualize the successful navigation attempt:\n",
    "- Shows the robot's movement through the maze\n",
    "- Includes fog of war effect to highlight explored areas\n",
    "- Demonstrates how the robot avoids discovered obstacles"
   ]
  },
  {
   "cell_type": "code",
   "execution_count": 22,
   "metadata": {
    "colab": {
     "base_uri": "https://localhost:8080/"
    },
    "id": "kcE9T8r2bgFr",
    "outputId": "b5775119-9357-4a26-8605-54954483cb5f"
   },
   "outputs": [
    {
     "name": "stderr",
     "output_type": "stream",
     "text": [
      "100%|██████████| 1134/1134 [13:59<00:00,  1.35it/s]\n"
     ]
    }
   ],
   "source": [
    "render_every = 5\n",
    "fps = 3.0 / env.dt / render_every  # 3x realtime\n",
    "traj = result.rollouts[::render_every]\n",
    "\n",
    "\n",
    "frames = env.render(\n",
    "    traj, camera=camera, scene_option=scene_option, height=480, width=640, modify_scene_fns=[modify_scn_fn] * len(traj)\n",
    ")"
   ]
  },
  {
   "cell_type": "code",
   "execution_count": null,
   "metadata": {
    "id": "xTddSQ3-cCIi"
   },
   "outputs": [],
   "source": [
    "from src.visualization import apply_fog_of_war\n",
    "\n",
    "# mediapy.show_video(frames, fps=fps, loop=False)\n",
    "mediapy.show_video(apply_fog_of_war(frames, alpha=0.7, gamma=1.1), fps=fps, loop=False)"
   ]
  },
  {
   "cell_type": "code",
   "execution_count": 24,
   "metadata": {
    "colab": {
     "base_uri": "https://localhost:8080/",
     "height": 520
    },
    "id": "7TKK_h53cKJT",
    "outputId": "6993e901-4ed9-4a33-b48d-82b75d955920"
   },
   "outputs": [
    {
     "data": {
      "text/html": [
       "<style>\n",
       "      .ndarray_repr .ndarray_raw_data {\n",
       "        display: none;\n",
       "      }\n",
       "      .ndarray_repr.show_array .ndarray_raw_data {\n",
       "        display: block;\n",
       "      }\n",
       "      .ndarray_repr.show_array .ndarray_image_preview {\n",
       "        display: none;\n",
       "      }\n",
       "      </style>\n",
       "      <div id=\"id-9d3dd493-5aa6-4848-bd00-b6a9a848018a\" class=\"ndarray_repr\"><pre>ndarray (480, 640, 3) <button style=\"padding: 0 2px;\">show data</button></pre><img src=\"data:image/png;base64,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\" class=\"ndarray_image_preview\" /><pre class=\"ndarray_raw_data\">array([[[23, 23, 23],\n",
       "        [23, 23, 23],\n",
       "        [23, 23, 23],\n",
       "        ...,\n",
       "        [23, 23, 23],\n",
       "        [23, 23, 23],\n",
       "        [23, 23, 23]],\n",
       "\n",
       "       [[23, 23, 23],\n",
       "        [23, 23, 23],\n",
       "        [23, 23, 23],\n",
       "        ...,\n",
       "        [23, 23, 23],\n",
       "        [23, 23, 23],\n",
       "        [23, 23, 23]],\n",
       "\n",
       "       [[23, 23, 23],\n",
       "        [23, 23, 23],\n",
       "        [23, 23, 23],\n",
       "        ...,\n",
       "        [23, 23, 23],\n",
       "        [23, 23, 23],\n",
       "        [23, 23, 23]],\n",
       "\n",
       "       ...,\n",
       "\n",
       "       [[45, 45, 45],\n",
       "        [46, 46, 46],\n",
       "        [45, 45, 45],\n",
       "        ...,\n",
       "        [23, 23, 23],\n",
       "        [24, 24, 24],\n",
       "        [24, 24, 24]],\n",
       "\n",
       "       [[45, 45, 45],\n",
       "        [45, 45, 45],\n",
       "        [44, 44, 44],\n",
       "        ...,\n",
       "        [23, 23, 23],\n",
       "        [24, 24, 24],\n",
       "        [24, 24, 24]],\n",
       "\n",
       "       [[45, 45, 45],\n",
       "        [45, 45, 45],\n",
       "        [42, 42, 42],\n",
       "        ...,\n",
       "        [22, 22, 22],\n",
       "        [24, 24, 24],\n",
       "        [24, 24, 24]]], dtype=uint8)</pre></div><script>\n",
       "      (() => {\n",
       "      const titles = ['show data', 'hide data'];\n",
       "      let index = 0\n",
       "      document.querySelector('#id-9d3dd493-5aa6-4848-bd00-b6a9a848018a button').onclick = (e) => {\n",
       "        document.querySelector('#id-9d3dd493-5aa6-4848-bd00-b6a9a848018a').classList.toggle('show_array');\n",
       "        index = (++index) % 2;\n",
       "        document.querySelector('#id-9d3dd493-5aa6-4848-bd00-b6a9a848018a button').textContent = titles[index];\n",
       "        e.preventDefault();\n",
       "        e.stopPropagation();\n",
       "      }\n",
       "      })();\n",
       "    </script>"
      ],
      "text/plain": [
       "array([[[23, 23, 23],\n",
       "        [23, 23, 23],\n",
       "        [23, 23, 23],\n",
       "        ...,\n",
       "        [23, 23, 23],\n",
       "        [23, 23, 23],\n",
       "        [23, 23, 23]],\n",
       "\n",
       "       [[23, 23, 23],\n",
       "        [23, 23, 23],\n",
       "        [23, 23, 23],\n",
       "        ...,\n",
       "        [23, 23, 23],\n",
       "        [23, 23, 23],\n",
       "        [23, 23, 23]],\n",
       "\n",
       "       [[23, 23, 23],\n",
       "        [23, 23, 23],\n",
       "        [23, 23, 23],\n",
       "        ...,\n",
       "        [23, 23, 23],\n",
       "        [23, 23, 23],\n",
       "        [23, 23, 23]],\n",
       "\n",
       "       ...,\n",
       "\n",
       "       [[45, 45, 45],\n",
       "        [46, 46, 46],\n",
       "        [45, 45, 45],\n",
       "        ...,\n",
       "        [23, 23, 23],\n",
       "        [24, 24, 24],\n",
       "        [24, 24, 24]],\n",
       "\n",
       "       [[45, 45, 45],\n",
       "        [45, 45, 45],\n",
       "        [44, 44, 44],\n",
       "        ...,\n",
       "        [23, 23, 23],\n",
       "        [24, 24, 24],\n",
       "        [24, 24, 24]],\n",
       "\n",
       "       [[45, 45, 45],\n",
       "        [45, 45, 45],\n",
       "        [42, 42, 42],\n",
       "        ...,\n",
       "        [22, 22, 22],\n",
       "        [24, 24, 24],\n",
       "        [24, 24, 24]]], dtype=uint8)"
      ]
     },
     "execution_count": 24,
     "metadata": {},
     "output_type": "execute_result"
    }
   ],
   "source": [
    "frames[0]"
   ]
  },
  {
   "cell_type": "code",
   "execution_count": null,
   "metadata": {
    "id": "Loey4Y_SOxhM"
   },
   "outputs": [],
   "source": []
  },
  {
   "cell_type": "code",
   "execution_count": null,
   "metadata": {
    "id": "K3eaMgA6bRhR"
   },
   "outputs": [],
   "source": []
  },
  {
   "cell_type": "code",
   "execution_count": null,
   "metadata": {
    "id": "nhcLCvXWbRj6"
   },
   "outputs": [],
   "source": []
  },
  {
   "cell_type": "code",
   "execution_count": null,
   "metadata": {
    "id": "Yi3fsxXZbRmm"
   },
   "outputs": [],
   "source": []
  }
 ],
 "metadata": {
  "colab": {
   "provenance": []
  },
  "kernelspec": {
   "display_name": "Python 3",
   "name": "python3"
  },
  "language_info": {
   "codemirror_mode": {
    "name": "ipython",
    "version": 3
   },
   "file_extension": ".py",
   "mimetype": "text/x-python",
   "name": "python",
   "nbconvert_exporter": "python",
   "pygments_lexer": "ipython3",
   "version": "3.12.3"
  }
 },
 "nbformat": 4,
 "nbformat_minor": 0
}
