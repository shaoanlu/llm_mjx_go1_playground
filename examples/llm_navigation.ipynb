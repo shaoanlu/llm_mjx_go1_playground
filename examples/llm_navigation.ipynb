{
  "cells": [
    {
      "cell_type": "markdown",
      "metadata": {
        "id": "FPsnZakTrFGS"
      },
      "source": [
        "# LLM-Guided Quadruped Robot Navigation\n",
        "\n",
        "This notebook demonstrates how to use a large language model (Gemini) to guide a quadruped robot (Unitree Go1) through a partially known maze environment. The LLM acts as a path planner that suggests waypoints based on the robot's feedback from failed navigation attempts.\n",
        "\n",
        "## Overview\n",
        "- The environment is a 5x5 grid maze with some untraversable cells\n",
        "- The robot starts at (0,0) and needs to reach (4,4)\n",
        "- The LLM receives feedback from failed attempts to refine its path planning\n",
        "- The simulation uses MuJoCo physics engine with JAX acceleration\n",
        "\n",
        "## Installation and Setup\n",
        "First, let's install the required packages:"
      ]
    },
    {
      "cell_type": "code",
      "execution_count": 1,
      "metadata": {
        "cellView": "form",
        "id": "Xqo7pyX-n72M"
      },
      "outputs": [],
      "source": [
        "%%capture\n",
        "!pip install mujoco mujoco_mjx brax playground\n",
        "!command -v ffmpeg >/dev/null || (apt update && apt install -y ffmpeg)\n",
        "!pip install -q mediapy\n",
        "!apt-get update\n",
        "!apt-get install -y libosmesa6-dev libgl1-mesa-glx libglfw3 patchelf"
      ]
    },
    {
      "cell_type": "code",
      "execution_count": 2,
      "metadata": {
        "id": "gvmLOXS7FWou"
      },
      "outputs": [],
      "source": [
        "%pip install -q -U 'google-generativeai>=0.8.3'"
      ]
    },
    {
      "cell_type": "code",
      "execution_count": 3,
      "metadata": {
        "id": "T5f4w3Kq2X14"
      },
      "outputs": [],
      "source": [
        "import jax\n",
        "import numpy as np\n",
        "import mediapy\n",
        "import os\n",
        "from tqdm import tqdm\n",
        "from matplotlib import pyplot as plt\n",
        "\n",
        "os.environ[\"MUJOCO_GL\"] = \"egl\"\n",
        "\n",
        "# More legible printing from numpy.\n",
        "np.set_printoptions(precision=3, suppress=True, linewidth=100)"
      ]
    },
    {
      "cell_type": "code",
      "execution_count": 3,
      "metadata": {
        "id": "ZcNqx9YUejAy"
      },
      "outputs": [],
      "source": []
    },
    {
      "cell_type": "markdown",
      "metadata": {
        "id": "hssKFDcnrFGW"
      },
      "source": [
        "## Clone the Repository\n",
        "Clone the repository containing the simulation environment and navigation code:"
      ]
    },
    {
      "cell_type": "code",
      "execution_count": 4,
      "metadata": {
        "colab": {
          "base_uri": "https://localhost:8080/"
        },
        "id": "2ZnNqQU0TQvb",
        "outputId": "f000ff93-fb71-41ee-b5ea-8870ed7d2654"
      },
      "outputs": [
        {
          "output_type": "stream",
          "name": "stdout",
          "text": [
            "Cloning into 'llm_mjx_go1_playground'...\n",
            "remote: Enumerating objects: 1002, done.\u001b[K\n",
            "remote: Counting objects: 100% (43/43), done.\u001b[K\n",
            "remote: Compressing objects: 100% (35/35), done.\u001b[K\n",
            "remote: Total 1002 (delta 17), reused 8 (delta 8), pack-reused 959 (from 1)\u001b[K\n",
            "Receiving objects: 100% (1002/1002), 13.08 MiB | 26.15 MiB/s, done.\n",
            "Resolving deltas: 100% (648/648), done.\n"
          ]
        }
      ],
      "source": [
        "!git clone https://github.com/shaoanlu/llm_mjx_go1_playground.git"
      ]
    },
    {
      "cell_type": "code",
      "execution_count": 5,
      "metadata": {
        "colab": {
          "base_uri": "https://localhost:8080/"
        },
        "id": "pQXZu_W7ExY6",
        "outputId": "df04713f-7a59-4f1a-a3f2-8247401948e7"
      },
      "outputs": [
        {
          "output_type": "stream",
          "name": "stdout",
          "text": [
            "/content/llm_mjx_go1_playground\n"
          ]
        }
      ],
      "source": [
        "%cd llm_mjx_go1_playground"
      ]
    },
    {
      "cell_type": "markdown",
      "metadata": {
        "id": "1OeVHTE3rFGX"
      },
      "source": [
        "## Simulation Environment Setup\n",
        "\n",
        "### Generate Random Maze\n",
        "We generate a random maze environment with walls and visualize it:\n",
        "- White cells are traversable\n",
        "- Black cells are walls/obstacles\n",
        "- Green dot marks the start position\n",
        "- Red dot marks the goal position"
      ]
    },
    {
      "cell_type": "code",
      "execution_count": 6,
      "metadata": {
        "id": "prshF602X_UN"
      },
      "outputs": [],
      "source": [
        "from src.environment.generate_maze_scene_xml import generate_maze_xml"
      ]
    },
    {
      "cell_type": "code",
      "execution_count": 7,
      "metadata": {
        "colab": {
          "base_uri": "https://localhost:8080/",
          "height": 452
        },
        "id": "dTxlfa0OYVbX",
        "outputId": "f00d4602-b9fb-478e-f35f-318c21ad0aeb"
      },
      "outputs": [
        {
          "output_type": "display_data",
          "data": {
            "text/plain": [
              "<Figure size 640x480 with 1 Axes>"
            ],
            "image/png": "[encoded data removed]"
          },
          "metadata": {}
        }
      ],
      "source": [
        "grid, random_maze_xml = generate_maze_xml()\n",
        "\n",
        "# flips to have origin at bottom-left and goal top-right\n",
        "im = (np.stack((grid.T[::-1, :],) * 3, axis=-1) * 255).astype(np.uint8)\n",
        "plt.title(\"Generated maze\")\n",
        "plt.imshow(im)\n",
        "plt.plot(0.0, 4.0, \"go\", markersize=10, label=\"Start\")\n",
        "plt.plot(4, 0, \"ro\", markersize=10, label=\"Goal\")\n",
        "plt.legend(loc=\"upper left\")\n",
        "plt.show()\n",
        "\n",
        "!rm -rf scene_mjx_maze_flat_terrain.xml\n",
        "f = open(\"scene_mjx_maze_flat_terrain.xml\", \"a\")\n",
        "f.write(random_maze_xml)\n",
        "f.close()"
      ]
    },
    {
      "cell_type": "code",
      "execution_count": 7,
      "metadata": {
        "id": "SIFpgsUsMP_1"
      },
      "outputs": [],
      "source": []
    },
    {
      "cell_type": "markdown",
      "metadata": {
        "id": "44atRFgL0fej"
      },
      "source": [
        "### Initialize Simulation\n",
        "Set up the MuJoCo simulation environment:\n",
        "- Instantiate the `Go1Env` (which load the maze scene XML)\n",
        "- Create a traversability map based the random generated maze\n",
        "- Configure mujoco camera parameters and rendering options"
      ]
    },
    {
      "cell_type": "code",
      "execution_count": 8,
      "metadata": {
        "colab": {
          "base_uri": "https://localhost:8080/"
        },
        "id": "vl3ZYexzMP_1",
        "outputId": "5767a606-0837-42a2-e9d7-88e83fa5a0d5"
      },
      "outputs": [
        {
          "output_type": "stream",
          "name": "stdout",
          "text": [
            "mujoco_menagerie not found. Downloading...\n"
          ]
        },
        {
          "output_type": "stream",
          "name": "stderr",
          "text": [
            "Cloning mujoco_menagerie: ██████████| 100/100 [00:33<00:00]\n"
          ]
        },
        {
          "output_type": "stream",
          "name": "stdout",
          "text": [
            "Checking out commit 14ceccf557cc47240202f2354d684eca58ff8de4\n",
            "Successfully downloaded mujoco_menagerie\n"
          ]
        }
      ],
      "source": [
        "# import mujoco after setting MUJOCO_GL to prevent errors in video rendering\n",
        "import mujoco\n",
        "from mujoco_playground._src import mjx_env\n",
        "from typing import List\n",
        "\n",
        "from src.environment.custom_go1_env import CustomGo1JoystickEnv\n",
        "from src.environment.env_wrapper import Go1Env\n",
        "from src.environment.traversability_map import TraversabilityMap, TraversabilityMapConfig\n",
        "from src.control.controller_factory import ControllerFactory\n",
        "from src.control.position_controller import PositionController, PositionControllerParams\n",
        "from src.control.algorithms.mlp import MLPPolicy, MLPPolicyParams\n",
        "from src.mission_executer import EpisodeResult, MissionConfig, MissionExecuter\n",
        "from src.utils import load_yaml_with_jinja"
      ]
    },
    {
      "cell_type": "code",
      "execution_count": 9,
      "metadata": {
        "colab": {
          "base_uri": "https://localhost:8080/"
        },
        "id": "eLMxtDgDbdL9",
        "outputId": "01b9b920-06db-40bc-eb1f-ddf1fdbefd53"
      },
      "outputs": [
        {
          "output_type": "execute_result",
          "data": {
            "text/plain": [
              "{'mission': {'goal': [4, 4],\n",
              "  'max_sim_steps': 1000,\n",
              "  'retry_delay_sec': 5,\n",
              "  'max_attempts': 20},\n",
              " 'control': {'position_controller': {'algorithm_type': 'position_controller',\n",
              "   'command_dim': 3,\n",
              "   'arrival_threshold': 0.1,\n",
              "   'max_linear_velocity': 1.5,\n",
              "   'max_angular_velocity': 1.57,\n",
              "   'primary_controller': {'algorithm_type': 'seq_controller',\n",
              "    'yaw_control_threshold': 0.175,\n",
              "    'yaw_control_gain': 7.0,\n",
              "    'linear_control_gain': 2.0},\n",
              "   'fallback_controller': {'algorithm_type': 'seq_controller',\n",
              "    'yaw_control_threshold': 0.175,\n",
              "    'yaw_control_gain': 7.0,\n",
              "    'linear_control_gain': 2.0}},\n",
              "  'locomotion_controller': {'algorithm_type': 'mlp',\n",
              "   'nn_num_layers': 4,\n",
              "   'npy_path': 'src/control/nn_params/Go1JoystickFlatTerrain'}},\n",
              " 'environment': {'mujoco_playground': {'name': 'Go1JoystickFlatTerrain',\n",
              "   'random_key': 0},\n",
              "  'map': {'grid_size': [5, 5], 'image_size': 50, 'threshold': 125}},\n",
              " 'planning': {'llm_navigator': {'model_name': 'gemini-2.0-flash-thinking-exp'}}}"
            ]
          },
          "metadata": {},
          "execution_count": 9
        }
      ],
      "source": [
        "system_config = load_yaml_with_jinja(\"examples/configs/llm_navigation.yaml\")\n",
        "system_config"
      ]
    },
    {
      "cell_type": "code",
      "source": [
        "system_config[\"planning\"][\"llm_navigator\"][\"model_name\"] = \"gemini-2.5-pro-exp-03-25\""
      ],
      "metadata": {
        "id": "MpN9M2DoxruB"
      },
      "execution_count": 10,
      "outputs": []
    },
    {
      "cell_type": "code",
      "execution_count": 11,
      "metadata": {
        "colab": {
          "base_uri": "https://localhost:8080/"
        },
        "id": "XcBqDs8e0fek",
        "outputId": "e7f4a77e-8247-44ab-c866-a1e5fcdf71f5"
      },
      "outputs": [
        {
          "output_type": "stream",
          "name": "stdout",
          "text": [
            "Downloaded: xmls/assets/calf.stl\n",
            "Downloaded: xmls/assets/hip.stl\n",
            "Downloaded: xmls/assets/thigh.stl\n",
            "Downloaded: xmls/assets/thigh_mirror.stl\n",
            "Downloaded: xmls/assets/trunk.stl\n"
          ]
        },
        {
          "output_type": "execute_result",
          "data": {
            "text/plain": [
              "array([[1, 0, 1, 1, 1],\n",
              "       [1, 0, 1, 0, 0],\n",
              "       [1, 1, 1, 1, 1],\n",
              "       [0, 0, 1, 0, 1],\n",
              "       [1, 1, 1, 0, 1]], dtype=int32)"
            ]
          },
          "metadata": {},
          "execution_count": 11
        }
      ],
      "source": [
        "# instantiate mujoco Env\n",
        "rng = jax.random.PRNGKey(system_config[\"environment\"][\"mujoco_playground\"][\"random_key\"])\n",
        "mpenv = CustomGo1JoystickEnv(xml_path=\"scene_mjx_maze_flat_terrain.xml\")\n",
        "env = Go1Env(env=mpenv, env_cfg=mpenv.env_cfg)\n",
        "\n",
        "# create traversability map\n",
        "trav_map_config = TraversabilityMapConfig.from_dict(system_config[\"environment\"][\"map\"])\n",
        "trav_map = TraversabilityMap(trav_map_config)\n",
        "trav_map.load_from_grid(grid)  # or trav_map.load_grid(\"assets/floor1.jpg\")"
      ]
    },
    {
      "cell_type": "code",
      "execution_count": 12,
      "metadata": {
        "id": "WFhzEtJfFTwP"
      },
      "outputs": [],
      "source": [
        "def modify_scn_fn(scene):\n",
        "    \"\"\"Modify the rendering scene to change lighting.\"\"\"\n",
        "    light_id = 0  # Adjust this if you have multiple lights\n",
        "    scene.lights[light_id].ambient = [0.0, 0.0, 0.0]\n",
        "    scene.lights[light_id].diffuse = [0.1, 0.1, 0.1]  # Change color\n",
        "    scene.lights[light_id].specular = [0.0, 0.0, 0.0]\n",
        "\n",
        "    light_id = 1  # Adjust this if you have multiple lights\n",
        "    scene.lights[light_id].ambient = [0.0, 0.0, 0.0]\n",
        "    scene.lights[light_id].exponent = 50.0  # Strong falloff at edges\n",
        "    scene.lights[light_id].cutoff = 65.0  # Spotlight effect\n",
        "    scene.lights[light_id].diffuse = [1.0, 1.0, 1.0]  # Change color\n",
        "    scene.lights[light_id].specular = [0.0, 0.0, 0.0]\n",
        "\n",
        "\n",
        "# Set up the camera\n",
        "camera = mujoco.MjvCamera()\n",
        "mujoco.mjv_defaultCamera(camera)\n",
        "\n",
        "# Object is centered at (0,0,1.5) with size 15m x 15m x 3m\n",
        "camera.lookat[:] = np.array([2.0, 1.5, 1.5])  # Center of object\n",
        "\n",
        "# Calculate distance using a safe margin\n",
        "object_size = 6  # Maximum size in X or Y\n",
        "fov = 45  # Default MuJoCo camera FOV\n",
        "safe_margin = 1  # Factor to ensure entire object is in view\n",
        "\n",
        "# Compute required distance using field of view\n",
        "camera.distance = (object_size / 2) / np.tan(np.radians(fov / 2)) * safe_margin\n",
        "\n",
        "# Look directly down\n",
        "camera.azimuth = 90  # No horizontal rotation\n",
        "camera.elevation = -70  # Directly downward\n",
        "\n",
        "scene_option = mujoco.MjvOption()\n",
        "scene_option.geomgroup[2] = True\n",
        "scene_option.geomgroup[3] = False\n",
        "scene_option.flags[mujoco.mjtVisFlag.mjVIS_CONTACTPOINT] = True\n",
        "scene_option.flags[mujoco.mjtVisFlag.mjVIS_CONTACTFORCE] = False\n",
        "scene_option.flags[mujoco.mjtVisFlag.mjVIS_TRANSPARENT] = False"
      ]
    },
    {
      "cell_type": "markdown",
      "metadata": {
        "id": "gt34bGwSDJDS"
      },
      "source": [
        "###  Define Helper Functions"
      ]
    },
    {
      "cell_type": "code",
      "execution_count": 13,
      "metadata": {
        "id": "GB5NorWvGRYp"
      },
      "outputs": [],
      "source": [
        "velocity_kick_range = [0.0, 0.0]  # Disable velocity kick.\n",
        "kick_duration_range = [0.05, 0.2]\n",
        "\n",
        "\n",
        "def sample_pert(rng, env, state):\n",
        "    \"\"\"\n",
        "    Random purterbation to the robot\n",
        "    \"\"\"\n",
        "    rng, key1, key2 = jax.random.split(rng, 3)\n",
        "    pert_mag = jax.random.uniform(key1, minval=velocity_kick_range[0], maxval=velocity_kick_range[1])\n",
        "    duration_seconds = jax.random.uniform(key2, minval=kick_duration_range[0], maxval=kick_duration_range[1])\n",
        "    duration_steps = jax.numpy.round(duration_seconds / env.dt).astype(jax.numpy.int32)\n",
        "    state.info[\"pert_mag\"] = pert_mag\n",
        "    state.info[\"pert_duration\"] = duration_steps\n",
        "    state.info[\"pert_duration_seconds\"] = duration_seconds\n",
        "    return rng\n",
        "\n",
        "\n",
        "def update_position_history(position_history, current_position):\n",
        "    # Only update position_history is the robot enters a new cell (by comparing position in integer)\n",
        "    if len(position_history) == 0:\n",
        "        position_history.append(current_position.astype(np.int32))\n",
        "        return position_history\n",
        "    if np.array_equal(position_history[-1].astype(np.int32), current_position.astype(np.int32)):\n",
        "        return position_history\n",
        "    else:\n",
        "        position_history.append(current_position.astype(np.int32))\n",
        "    return position_history\n",
        "\n",
        "\n",
        "def run_one_episode(\n",
        "    env: Go1Env,\n",
        "    command_generator: PositionController,\n",
        "    # instead of using base class Controller, we use subclass MLPPolicy as this method is very customized\n",
        "    command_follower: MLPPolicy,\n",
        "    traversability_map: TraversabilityMap,\n",
        "    waypoints: List[np.ndarray],\n",
        "    max_sim_steps: int,\n",
        "    rng: jax.Array,\n",
        ") -> EpisodeResult:\n",
        "    rollout: List[mjx_env.State] = []\n",
        "    position_history: List[np.ndarray] = []\n",
        "    waypoint_idx: int = 0\n",
        "\n",
        "    _, rng = jax.random.split(rng)\n",
        "    state = env.reset(rng)\n",
        "\n",
        "    # start closed-loop sim\n",
        "    for i in tqdm(range(max_sim_steps)):\n",
        "        _, rng = jax.random.split(rng)  # this will randomize perturbation\n",
        "        rng = sample_pert(rng, env, state)\n",
        "\n",
        "        # calculate control command\n",
        "        cell_center_offset = 0.5\n",
        "        target_position = waypoints[waypoint_idx] + cell_center_offset\n",
        "        pos_command = command_generator.compute_command(state, target_position)\n",
        "        state.info[\"command\"] = pos_command.value\n",
        "\n",
        "        ctrl = command_follower.control(state.obs[\"state\"])  # controller step\n",
        "        state = env.step(state, ctrl)  # simulator step\n",
        "\n",
        "        # record\n",
        "        rollout.append(state)\n",
        "        position_history = update_position_history(position_history, pos_command.info.pos[:2])\n",
        "\n",
        "        # check failure\n",
        "        if not traversability_map.is_valid_position(pos_command.info.pos[:2]):\n",
        "            return EpisodeResult(status=\"Stop\", position_history=position_history, rollout=rollout)\n",
        "\n",
        "        # check arrival at current waypoint\n",
        "        if pos_command.info.is_arrived:\n",
        "            waypoint_idx = min(waypoint_idx + 1, len(waypoints))  # proceed to next waypoint\n",
        "\n",
        "            # Check if the arrived at the last waypoint\n",
        "            if waypoint_idx == len(waypoints):\n",
        "                return EpisodeResult(status=\"Success\", position_history=position_history, rollout=rollout)\n",
        "\n",
        "    return EpisodeResult(status=\"Timeout\", position_history=position_history, rollout=rollout)"
      ]
    },
    {
      "cell_type": "markdown",
      "metadata": {
        "id": "FKA1AJnXrn0O"
      },
      "source": [
        "## Demo: Nagivating a go1 quadruped through a maze with Gemini-thinking Model\n",
        "**The main navigation loop:**\n",
        "1. Get waypoints from LLM planner\n",
        "2. Execute waypoints using controllers\n",
        "3. Provide feedback to LLM if attempt fails\n",
        "4. Repeat until goal is reached or max attempts exceeded\n",
        "\n",
        "The following picture illustrates the flowchart of the navigation task.\n",
        "![](https://github.com/shaoanlu/llm_mjx_go1_playground/raw/main/assets/llm_go1_navigation.png)\n"
      ]
    },
    {
      "cell_type": "markdown",
      "metadata": {
        "id": "0sAeW2U5aC7z"
      },
      "source": [
        "### LLM Path Planner\n",
        "A free tier Google API key is required to instantiate the `LLMNavigator` class. You can obtain one from [AU Studio](https://aistudio.google.com/app/apikey) with detailed instructions in [this docs](https://ai.google.dev/gemini-api/docs/api-key).\n",
        "\n",
        "We use the LLM as the path planner:\n",
        "- Takes the current state and failed attempts as input\n",
        "- Outputs a sequence of waypoints for the robot to follow\n",
        "- Adapts the plan based on feedback from failed attempts"
      ]
    },
    {
      "cell_type": "code",
      "execution_count": 14,
      "metadata": {
        "id": "tju8A1hp0fel"
      },
      "outputs": [],
      "source": [
        "from google import genai\n",
        "from google.colab import userdata\n",
        "from src.planning.llm_nagivator import GeminiThinkingNavigator\n",
        "\n",
        "\n",
        "client = genai.Client(api_key=userdata.get(\"GOOGLE_API_KEY\"), http_options={\"api_version\": \"v1alpha\"})\n",
        "llm_navigator = GeminiThinkingNavigator(client, model_name=system_config[\"planning\"][\"llm_navigator\"][\"model_name\"])"
      ]
    },
    {
      "cell_type": "markdown",
      "metadata": {
        "id": "FY5IPFW0aYRd"
      },
      "source": [
        "### Robot Controller\n",
        "We use two levels of control:\n",
        "1. High-level position controller that follows waypoints\n",
        "2. Low-level MLP policy that controls individual joint movements"
      ]
    },
    {
      "cell_type": "code",
      "execution_count": 15,
      "metadata": {
        "id": "eSBEmVijUCLG"
      },
      "outputs": [],
      "source": [
        "# Instantiate controller based on env_name\n",
        "factory = ControllerFactory()\n",
        "mlp_params = MLPPolicyParams.from_dict(system_config[\"control\"][\"locomotion_controller\"])\n",
        "command_follower = factory.build(params=mlp_params)\n",
        "\n",
        "pc_config = PositionControllerParams.from_dict(system_config[\"control\"][\"position_controller\"])\n",
        "command_generator = PositionController(factory=factory, config=pc_config)\n",
        "\n",
        "# Instantiate the ochestrator for mission execution\n",
        "instruction = open(\"examples/prompt.txt\", \"r\").read()\n",
        "mission_config = MissionConfig.from_dict(system_config[\"mission\"])\n",
        "# mission_config.max_attempts = 20\n",
        "# mission_config.max_sim_steps = 1000\n",
        "mission_executer = MissionExecuter(config=mission_config, instruction_prompt=instruction)"
      ]
    },
    {
      "cell_type": "markdown",
      "metadata": {
        "id": "FNrwp58g0fem"
      },
      "source": [
        "### Create a partially applied function with fixed arguments for closed-loop simulation"
      ]
    },
    {
      "cell_type": "code",
      "execution_count": 16,
      "metadata": {
        "id": "guN8dElQMP_3"
      },
      "outputs": [],
      "source": [
        "from functools import partial\n",
        "\n",
        "run_one_episode_func = partial(\n",
        "    run_one_episode,\n",
        "    env=env,\n",
        "    command_generator=command_generator,\n",
        "    command_follower=command_follower,\n",
        "    traversability_map=trav_map,\n",
        ")"
      ]
    },
    {
      "cell_type": "markdown",
      "metadata": {
        "id": "Cwjnm0U7Ujcz"
      },
      "source": [
        "## Start Navigation\n",
        "\n",
        "I takes some time for the first simulation step. During simulation, the intermediate reuslt of attemps will be printed out, including the prompt, the waypoints suggested by LLM, and the result."
      ]
    },
    {
      "cell_type": "code",
      "execution_count": 17,
      "metadata": {
        "colab": {
          "base_uri": "https://localhost:8080/"
        },
        "id": "4Wt_009nF5xy",
        "outputId": "e0b09173-7381-4af8-b0fa-68927e1fd983"
      },
      "outputs": [
        {
          "output_type": "stream",
          "name": "stderr",
          "text": [
            " 20%|█▉        | 198/1000 [01:05<04:25,  3.02it/s]\n"
          ]
        },
        {
          "output_type": "stream",
          "name": "stdout",
          "text": [
            "[Trial 1]\n",
            "prompt='You are a path planner for a quadruped robot navigating in a partially known 5x5 grid environment. Your task is to guide the robot from the start position (0,0) to the goal position (4,4).\\n\\nEnvironment specifications:\\n- Grid size: 5x5\\n- Start position: (0,0)\\n- Goal position: (4,4)\\n- Some cells are not traversable, but their status is only revealed when the robot attempts to traverse them\\n\\nPath planning constraints:\\n1. Maximum 10 waypoints allowed per path\\n2. Consecutive waypoints moving in the same direction must be simplified\\n   Example: [(0,0), (1,0), (2,0), (2,1)] should be simplified to [(0,0), (2,0), (2,1)]\\n\\nExpected output format:\\nProvide only a list of coordinates in the format:\\n[(x0,y0), (x1,y1), ..., (xn,yn)]\\n\\nPossible execution outcomes:\\n1. Success: Robot reaches the goal\\n2. Failed (Obstacle): \"Failed: stop at (X,Y), traversed cells: [(x0,y0), (x1,y1), ...]\"\\n   - Episode terminates when hitting an untraversable cell\\n   - Remaining waypoints are discarded\\n3. Failed (Timeout): \"Failed: timeout at (X,Y), traversed cells: [(x0,y0), (x1,y1), ...]\"\\n\\nPlanning strategy:\\n- Use the feedback from failed attempts to refine subsequent path planning\\n- Adapt the path based on discovered untraversable cells\\n- Consider alternative routes when previous attempts fail\\n\\nImportant notes:\\n- Respond ONLY with the waypoint list\\n- No additional text or explanations\\n- Each new attempt should incorporate information from previous failures\\n\\nStart. you are at somwwhere near (0, 0).'\n",
            "waypoints=[array([0, 0]), array([4, 0]), array([4, 4])]\n",
            "result.status='Stop'(np.int32(3), np.int32(0)) \tresult.position_history=[array([0, 0], dtype=int32), array([1, 0], dtype=int32), array([2, 0], dtype=int32), array([3, 0], dtype=int32)]\n",
            "\n"
          ]
        },
        {
          "output_type": "stream",
          "name": "stderr",
          "text": [
            " 41%|████      | 410/1000 [00:03<00:04, 128.25it/s]\n"
          ]
        },
        {
          "output_type": "stream",
          "name": "stdout",
          "text": [
            "[Trial 2]\n",
            "prompt='Failed: Stop at (3, 0), traversed cells: [(np.int32(0), np.int32(0)), (np.int32(1), np.int32(0)), (np.int32(2), np.int32(0)), (np.int32(3), np.int32(0))]'\n",
            "waypoints=[array([0, 0]), array([2, 0]), array([2, 1]), array([4, 1]), array([4, 4])]\n",
            "result.status='Stop'(np.int32(3), np.int32(1)) \tresult.position_history=[array([0, 0], dtype=int32), array([1, 0], dtype=int32), array([2, 0], dtype=int32), array([2, 1], dtype=int32), array([3, 1], dtype=int32)]\n",
            "\n"
          ]
        },
        {
          "output_type": "stream",
          "name": "stderr",
          "text": [
            " 55%|█████▍    | 549/1000 [00:04<00:03, 117.19it/s]\n"
          ]
        },
        {
          "output_type": "stream",
          "name": "stdout",
          "text": [
            "[Trial 3]\n",
            "prompt='Failed: Stop at (3, 1), traversed cells: [(np.int32(0), np.int32(0)), (np.int32(1), np.int32(0)), (np.int32(2), np.int32(0)), (np.int32(2), np.int32(1)), (np.int32(3), np.int32(1))]'\n",
            "waypoints=[array([0, 0]), array([2, 0]), array([2, 2]), array([4, 2]), array([4, 4])]\n",
            "result.status='Stop'(np.int32(4), np.int32(3)) \tresult.position_history=[array([0, 0], dtype=int32), array([1, 0], dtype=int32), array([2, 0], dtype=int32), array([2, 1], dtype=int32), array([2, 2], dtype=int32), array([3, 2], dtype=int32), array([4, 2], dtype=int32), array([4, 3], dtype=int32)]\n",
            "\n"
          ]
        },
        {
          "output_type": "stream",
          "name": "stderr",
          "text": [
            " 59%|█████▉    | 588/1000 [00:04<00:02, 142.38it/s]"
          ]
        },
        {
          "output_type": "stream",
          "name": "stdout",
          "text": [
            "[Trial 4]\n",
            "prompt='Failed: Stop at (4, 3), traversed cells: [(np.int32(0), np.int32(0)), (np.int32(1), np.int32(0)), (np.int32(2), np.int32(0)), (np.int32(2), np.int32(1)), (np.int32(2), np.int32(2)), (np.int32(3), np.int32(2)), (np.int32(4), np.int32(2)), (np.int32(4), np.int32(3))]'\n",
            "waypoints=[array([0, 0]), array([2, 0]), array([2, 4]), array([4, 4])]\n",
            "result.status='Success'(np.int32(4), np.int32(4)) \tresult.position_history=[array([0, 0], dtype=int32), array([1, 0], dtype=int32), array([2, 0], dtype=int32), array([2, 1], dtype=int32), array([2, 2], dtype=int32), array([2, 3], dtype=int32), array([2, 4], dtype=int32), array([3, 4], dtype=int32), array([4, 4], dtype=int32)]\n",
            "\n"
          ]
        },
        {
          "output_type": "stream",
          "name": "stderr",
          "text": [
            "\n"
          ]
        }
      ],
      "source": [
        "result = mission_executer.execute_mission(planner=llm_navigator, execute_single_attempt=run_one_episode_func, rng=rng)"
      ]
    },
    {
      "cell_type": "code",
      "execution_count": 17,
      "metadata": {
        "id": "Rvkst6KSSfUI"
      },
      "outputs": [],
      "source": []
    },
    {
      "cell_type": "markdown",
      "metadata": {
        "id": "GK4I7B0p0fem"
      },
      "source": [
        "## Results Visualization\n",
        "\n",
        "### Render Navigation Video\n",
        "Visualize the successful navigation attempt:\n",
        "- Shows the robot's movement through the maze\n",
        "- Includes fog of war effect to highlight explored areas\n",
        "- Demonstrates how the robot avoids discovered obstacles"
      ]
    },
    {
      "cell_type": "code",
      "execution_count": 18,
      "metadata": {
        "colab": {
          "base_uri": "https://localhost:8080/"
        },
        "id": "kcE9T8r2bgFr",
        "outputId": "70c68485-7cb1-45ba-da65-d36968fdccb7"
      },
      "outputs": [
        {
          "output_type": "stream",
          "name": "stderr",
          "text": [
            "100%|██████████| 175/175 [02:53<00:00,  1.01it/s]\n"
          ]
        }
      ],
      "source": [
        "render_every = 10\n",
        "fps = 3.0 / env.dt / render_every  # 3x realtime\n",
        "traj = result.rollouts[::render_every]\n",
        "\n",
        "\n",
        "frames = env.render(\n",
        "    traj, camera=camera, scene_option=scene_option, height=480, width=640, modify_scene_fns=[modify_scn_fn] * len(traj)\n",
        ")"
      ]
    },
    {
      "cell_type": "code",
      "source": [
        "from src.visualization import apply_fog_of_war\n",
        "\n",
        "# mediapy.show_video(frames, fps=fps, loop=False)\n",
        "mediapy.show_video(apply_fog_of_war(frames, alpha=0.7, gamma=1.1), fps=fps, loop=False)"
      ],
      "metadata": {
        "id": "X30zcREE6Dn1"
      },
      "execution_count": null,
      "outputs": []
    },
    {
      "cell_type": "code",
      "execution_count": 20,
      "metadata": {
        "colab": {
          "base_uri": "https://localhost:8080/",
          "height": 521
        },
        "id": "7TKK_h53cKJT",
        "outputId": "04e19623-923d-49a3-e524-ff6733fd481b"
      },
      "outputs": [
        {
          "output_type": "execute_result",
          "data": {
            "text/plain": [
              "array([[[23, 23, 23],\n",
              "        [23, 23, 23],\n",
              "        [23, 23, 23],\n",
              "        ...,\n",
              "        [23, 23, 23],\n",
              "        [23, 23, 23],\n",
              "        [23, 23, 23]],\n",
              "\n",
              "       [[23, 23, 23],\n",
              "        [23, 23, 23],\n",
              "        [23, 23, 23],\n",
              "        ...,\n",
              "        [23, 23, 23],\n",
              "        [23, 23, 23],\n",
              "        [23, 23, 23]],\n",
              "\n",
              "       [[23, 23, 23],\n",
              "        [23, 23, 23],\n",
              "        [23, 23, 23],\n",
              "        ...,\n",
              "        [23, 23, 23],\n",
              "        [23, 23, 23],\n",
              "        [23, 23, 23]],\n",
              "\n",
              "       ...,\n",
              "\n",
              "       [[27, 27, 27],\n",
              "        [27, 27, 27],\n",
              "        [26, 26, 26],\n",
              "        ...,\n",
              "        [23, 23, 23],\n",
              "        [24, 24, 24],\n",
              "        [24, 24, 24]],\n",
              "\n",
              "       [[27, 27, 27],\n",
              "        [27, 27, 27],\n",
              "        [26, 26, 26],\n",
              "        ...,\n",
              "        [23, 23, 23],\n",
              "        [24, 24, 24],\n",
              "        [24, 24, 24]],\n",
              "\n",
              "       [[27, 27, 27],\n",
              "        [27, 27, 27],\n",
              "        [25, 25, 25],\n",
              "        ...,\n",
              "        [22, 22, 22],\n",
              "        [24, 24, 24],\n",
              "        [24, 24, 24]]], dtype=uint8)"
            ],
            "text/html": [
              "<style>\n",
              "      .ndarray_repr .ndarray_raw_data {\n",
              "        display: none;\n",
              "      }\n",
              "      .ndarray_repr.show_array .ndarray_raw_data {\n",
              "        display: block;\n",
              "      }\n",
              "      .ndarray_repr.show_array .ndarray_image_preview {\n",
              "        display: none;\n",
              "      }\n",
              "      </style>\n",
              "      <div id=\"id-30e9e358-3207-42eb-99c9-72847777cadf\" class=\"ndarray_repr\"><pre>ndarray (480, 640, 3) <button style=\"padding: 0 2px;\">show data</button></pre><img src=\"data:image/png;base64,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\" class=\"ndarray_image_preview\" /><pre class=\"ndarray_raw_data\">array([[[23, 23, 23],\n",
              "        [23, 23, 23],\n",
              "        [23, 23, 23],\n",
              "        ...,\n",
              "        [23, 23, 23],\n",
              "        [23, 23, 23],\n",
              "        [23, 23, 23]],\n",
              "\n",
              "       [[23, 23, 23],\n",
              "        [23, 23, 23],\n",
              "        [23, 23, 23],\n",
              "        ...,\n",
              "        [23, 23, 23],\n",
              "        [23, 23, 23],\n",
              "        [23, 23, 23]],\n",
              "\n",
              "       [[23, 23, 23],\n",
              "        [23, 23, 23],\n",
              "        [23, 23, 23],\n",
              "        ...,\n",
              "        [23, 23, 23],\n",
              "        [23, 23, 23],\n",
              "        [23, 23, 23]],\n",
              "\n",
              "       ...,\n",
              "\n",
              "       [[27, 27, 27],\n",
              "        [27, 27, 27],\n",
              "        [26, 26, 26],\n",
              "        ...,\n",
              "        [23, 23, 23],\n",
              "        [24, 24, 24],\n",
              "        [24, 24, 24]],\n",
              "\n",
              "       [[27, 27, 27],\n",
              "        [27, 27, 27],\n",
              "        [26, 26, 26],\n",
              "        ...,\n",
              "        [23, 23, 23],\n",
              "        [24, 24, 24],\n",
              "        [24, 24, 24]],\n",
              "\n",
              "       [[27, 27, 27],\n",
              "        [27, 27, 27],\n",
              "        [25, 25, 25],\n",
              "        ...,\n",
              "        [22, 22, 22],\n",
              "        [24, 24, 24],\n",
              "        [24, 24, 24]]], dtype=uint8)</pre></div><script>\n",
              "      (() => {\n",
              "      const titles = ['show data', 'hide data'];\n",
              "      let index = 0\n",
              "      document.querySelector('#id-30e9e358-3207-42eb-99c9-72847777cadf button').onclick = (e) => {\n",
              "        document.querySelector('#id-30e9e358-3207-42eb-99c9-72847777cadf').classList.toggle('show_array');\n",
              "        index = (++index) % 2;\n",
              "        document.querySelector('#id-30e9e358-3207-42eb-99c9-72847777cadf button').textContent = titles[index];\n",
              "        e.preventDefault();\n",
              "        e.stopPropagation();\n",
              "      }\n",
              "      })();\n",
              "    </script>"
            ]
          },
          "metadata": {},
          "execution_count": 20
        }
      ],
      "source": [
        "frames[0]"
      ]
    },
    {
      "cell_type": "code",
      "execution_count": 20,
      "metadata": {
        "id": "Loey4Y_SOxhM"
      },
      "outputs": [],
      "source": []
    },
    {
      "cell_type": "markdown",
      "metadata": {
        "id": "tr6GDI3E5Y7M"
      },
      "source": [
        "## Extra: Ask LLM to infer the map with uncertainty"
      ]
    },
    {
      "cell_type": "code",
      "execution_count": 21,
      "metadata": {
        "colab": {
          "base_uri": "https://localhost:8080/"
        },
        "id": "kRaJ3XfV3Sqe",
        "outputId": "d76b4ad2-e3b9-4a0c-ddf0-d36a1a1dfaea"
      },
      "outputs": [
        {
          "output_type": "stream",
          "name": "stdout",
          "text": [
            "Success: reached (4, 4), traversed cells: [(np.int32(0), np.int32(0)), (np.int32(1), np.int32(0)), (np.int32(2), np.int32(0)), (np.int32(2), np.int32(1)), (np.int32(2), np.int32(2)), (np.int32(2), np.int32(3)), (np.int32(2), np.int32(4)), (np.int32(3), np.int32(4)), (np.int32(4), np.int32(4))]\n",
            "Now, based on all of the attemps, reason about the environment from start to goal and draw a 5x5 grid map using '0', '1', and '?', where '0' repreents a wall, '1' a path cell, and '?' a cell you are uncertain.\n"
          ]
        }
      ],
      "source": [
        "def create_ask_for_map_prompt(result):\n",
        "    x, y = result.position_history[-1].astype(int)\n",
        "    return (\n",
        "        f\"{result.status}: reached ({x}, {y}), traversed cells: {[tuple(np.round(x_, 1)) for x_ in result.position_history]}\"\n",
        "        + f\"\\nNow, based on all of the attemps, reason about the environment from start to goal and draw a 5x5 grid map using '0', '1', and '?', where '0' repreents a wall, '1' a path cell, and '?' a cell you are uncertain.\"\n",
        "    )\n",
        "\n",
        "\n",
        "print(create_ask_for_map_prompt(result))"
      ]
    },
    {
      "cell_type": "code",
      "execution_count": 22,
      "metadata": {
        "id": "K3eaMgA6bRhR"
      },
      "outputs": [],
      "source": [
        "response = llm_navigator.chat.send_message([create_ask_for_map_prompt(result)])"
      ]
    },
    {
      "cell_type": "code",
      "execution_count": 23,
      "metadata": {
        "colab": {
          "base_uri": "https://localhost:8080/"
        },
        "id": "dOO2uupx1DsE",
        "outputId": "fe9e1ab3-b12f-42fa-e208-bdb3b7d9d4eb"
      },
      "outputs": [
        {
          "output_type": "stream",
          "name": "stdout",
          "text": [
            "```\n",
            "? ? 1 1 1\n",
            "? ? 1 ? 0\n",
            "? ? 1 1 1\n",
            "? ? 1 0 ?\n",
            "1 1 1 0 ?\n",
            "```\n"
          ]
        }
      ],
      "source": [
        "print(response.text)\n",
        "# this does not always match the explored cells of the robot"
      ]
    },
    {
      "cell_type": "markdown",
      "metadata": {
        "id": "fkMnf-lW5ls_"
      },
      "source": [
        "And ask LLM to plan more paths to epxlore the entire map"
      ]
    },
    {
      "cell_type": "code",
      "execution_count": 24,
      "metadata": {
        "id": "jjUK88ri1Duc"
      },
      "outputs": [],
      "source": [
        "response = llm_navigator.chat.send_message([\"Suggest 5 more paths in order for you to fill the unknow cells\"])"
      ]
    },
    {
      "cell_type": "code",
      "execution_count": 25,
      "metadata": {
        "colab": {
          "base_uri": "https://localhost:8080/"
        },
        "id": "nhcLCvXWbRj6",
        "outputId": "8686e9e2-f084-408c-8dc5-49c19967db09"
      },
      "outputs": [
        {
          "output_type": "stream",
          "name": "stdout",
          "text": [
            "```\n",
            "[(0,0), (0,1), (1,1), (2,1)]\n",
            "```\n",
            "```\n",
            "[(0,0), (0,2), (1,2), (2,2)]\n",
            "```\n",
            "```\n",
            "[(0,0), (0,4), (1,4), (2,4)]\n",
            "```\n",
            "```\n",
            "[(0,0), (2,0), (2,2), (3,2), (3,3), (3,4)]\n",
            "```\n",
            "```\n",
            "[(0,0), (2,0), (2,2), (4,2), (4,0)]\n",
            "```\n"
          ]
        }
      ],
      "source": [
        "print(response.text)"
      ]
    },
    {
      "cell_type": "code",
      "execution_count": null,
      "metadata": {
        "id": "Yi3fsxXZbRmm"
      },
      "outputs": [],
      "source": []
    }
  ],
  "metadata": {
    "colab": {
      "provenance": []
    },
    "kernelspec": {
      "display_name": "Python 3",
      "name": "python3"
    },
    "language_info": {
      "codemirror_mode": {
        "name": "ipython",
        "version": 3
      },
      "file_extension": ".py",
      "mimetype": "text/x-python",
      "name": "python",
      "nbconvert_exporter": "python",
      "pygments_lexer": "ipython3",
      "version": "3.12.3"
    }
  },
  "nbformat": 4,
  "nbformat_minor": 0
}