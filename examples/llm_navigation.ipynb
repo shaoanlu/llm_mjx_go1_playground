{
 "cells": [
  {
   "cell_type": "markdown",
   "metadata": {
    "id": "FPsnZakTrFGS"
   },
   "source": [
    "# LLM-Guided Quadruped Robot Navigation\n",
    "\n",
    "This notebook demonstrates how to use a large language model (Gemini) to guide a quadruped robot (Unitree Go1) through a partially known maze environment. The LLM acts as a path planner that suggests waypoints based on the robot's feedback from failed navigation attempts.\n",
    "\n",
    "## Overview\n",
    "- The environment is a 5x5 grid maze with some untraversable cells\n",
    "- The robot starts at (0,0) and needs to reach (4,4)\n",
    "- The LLM receives feedback from failed attempts to refine its path planning\n",
    "- The simulation uses MuJoCo physics engine with JAX acceleration\n",
    "\n",
    "## Installation and Setup\n",
    "First, let's install the required packages:"
   ]
  },
  {
   "cell_type": "code",
   "execution_count": 1,
   "metadata": {
    "cellView": "form",
    "id": "Xqo7pyX-n72M"
   },
   "outputs": [],
   "source": [
    "%%capture\n",
    "!pip install mujoco mujoco_mjx brax playground\n",
    "!command -v ffmpeg >/dev/null || (apt update && apt install -y ffmpeg)\n",
    "!pip install -q mediapy\n",
    "!apt-get update\n",
    "!apt-get install -y libosmesa6-dev libgl1-mesa-glx libglfw3 patchelf"
   ]
  },
  {
   "cell_type": "code",
   "execution_count": 2,
   "metadata": {
    "id": "gvmLOXS7FWou"
   },
   "outputs": [],
   "source": [
    "%pip install -q -U 'google-generativeai>=0.8.3'"
   ]
  },
  {
   "cell_type": "code",
   "execution_count": 1,
   "metadata": {
    "id": "T5f4w3Kq2X14"
   },
   "outputs": [],
   "source": [
    "import jax\n",
    "import numpy as np\n",
    "import mediapy\n",
    "import os\n",
    "from tqdm import tqdm\n",
    "from matplotlib import pyplot as plt\n",
    "\n",
    "os.environ[\"MUJOCO_GL\"] = \"egl\"\n",
    "\n",
    "# More legible printing from numpy.\n",
    "np.set_printoptions(precision=3, suppress=True, linewidth=100)"
   ]
  },
  {
   "cell_type": "code",
   "execution_count": 1,
   "metadata": {
    "id": "ZcNqx9YUejAy"
   },
   "outputs": [],
   "source": []
  },
  {
   "cell_type": "markdown",
   "metadata": {
    "id": "hssKFDcnrFGW"
   },
   "source": [
    "## Clone the Repository\n",
    "Clone the repository containing the simulation environment and navigation code:"
   ]
  },
  {
   "cell_type": "code",
   "execution_count": 2,
   "metadata": {
    "colab": {
     "base_uri": "https://localhost:8080/"
    },
    "id": "2ZnNqQU0TQvb",
    "outputId": "dd1677af-d387-4aba-e788-578c7cb567aa"
   },
   "outputs": [
    {
     "name": "stdout",
     "output_type": "stream",
     "text": [
      "fatal: destination path 'llm_mjx_go1_playground' already exists and is not an empty directory.\n"
     ]
    }
   ],
   "source": [
    "!git clone https://github.com/shaoanlu/llm_mjx_go1_playground.git"
   ]
  },
  {
   "cell_type": "code",
   "execution_count": 3,
   "metadata": {
    "colab": {
     "base_uri": "https://localhost:8080/"
    },
    "id": "pQXZu_W7ExY6",
    "outputId": "e5908149-fff1-46fe-ce08-508b4850b840"
   },
   "outputs": [
    {
     "name": "stdout",
     "output_type": "stream",
     "text": [
      "/content/llm_mjx_go1_playground\n"
     ]
    }
   ],
   "source": [
    "%cd llm_mjx_go1_playground"
   ]
  },
  {
   "cell_type": "markdown",
   "metadata": {
    "id": "1OeVHTE3rFGX"
   },
   "source": [
    "## Simulation Environment Setup\n",
    "\n",
    "### Generate Random Maze\n",
    "We generate a random maze environment with walls and visualize it:\n",
    "- White cells are traversable\n",
    "- Black cells are walls/obstacles\n",
    "- Green dot marks the start position\n",
    "- Red dot marks the goal position"
   ]
  },
  {
   "cell_type": "code",
   "execution_count": 4,
   "metadata": {
    "id": "prshF602X_UN"
   },
   "outputs": [],
   "source": [
    "from src.environment.generate_maze_scene_xml import generate_maze_xml"
   ]
  },
  {
   "cell_type": "code",
   "execution_count": 17,
   "metadata": {
    "colab": {
     "base_uri": "https://localhost:8080/",
     "height": 452
    },
    "id": "dTxlfa0OYVbX",
    "outputId": "73d8e7d9-b6ff-4cec-eef3-84cbc99ea023"
   },
   "outputs": [
    {
     "data": {
      "image/png": "[encoded data removed]",
      "text/plain": [
       "<Figure size 640x480 with 1 Axes>"
      ]
     },
     "metadata": {},
     "output_type": "display_data"
    }
   ],
   "source": [
    "grid, random_maze_xml = generate_maze_xml()\n",
    "\n",
    "# flips to have origin at bottom-left and goal top-right\n",
    "im = (np.stack((grid.T[::-1, :],) * 3, axis=-1) * 255).astype(np.uint8)\n",
    "plt.title(\"Generated maze\")\n",
    "plt.imshow(im)\n",
    "plt.plot(0.0, 4.0, \"go\", markersize=10, label=\"Start\")\n",
    "plt.plot(4, 0, \"ro\", markersize=10, label=\"Goal\")\n",
    "plt.legend(loc=\"upper left\")\n",
    "plt.show()\n",
    "\n",
    "!rm -rf scene_mjx_maze_flat_terrain.xml\n",
    "f = open(\"scene_mjx_maze_flat_terrain.xml\", \"a\")\n",
    "f.write(random_maze_xml)\n",
    "f.close()"
   ]
  },
  {
   "cell_type": "markdown",
   "metadata": {
    "id": "7_Hh0oZe0fej"
   },
   "source": [
    "### ========== !!!!! BEWARE !!!!! ==========\n",
    "The following `mv` command overwrites the xml file installed in the mujoco_playground. The modified xml has wall objects added into the scene."
   ]
  },
  {
   "cell_type": "code",
   "execution_count": 18,
   "metadata": {
    "id": "D1d59S-g4EdE"
   },
   "outputs": [],
   "source": [
    "!mv scene_mjx_maze_flat_terrain.xml /usr/local/lib/python3.11/dist-packages/mujoco_playground/_src/locomotion/go1/xmls/scene_mjx_feetonly_flat_terrain.xml"
   ]
  },
  {
   "cell_type": "markdown",
   "metadata": {
    "id": "qR3mX130Y3jf"
   },
   "source": [
    "### ========== !!!!! BEWARE !!!!! =========="
   ]
  },
  {
   "cell_type": "code",
   "execution_count": 18,
   "metadata": {
    "id": "SIFpgsUsMP_1"
   },
   "outputs": [],
   "source": []
  },
  {
   "cell_type": "markdown",
   "metadata": {
    "id": "44atRFgL0fej"
   },
   "source": [
    "### Initialize Simulation\n",
    "Set up the MuJoCo simulation environment:\n",
    "- Instantiate the `Go1Env` (which load the maze scene XML)\n",
    "- Create a traversability map based the random generated maze\n",
    "- Configure mujoco camera parameters and rendering options"
   ]
  },
  {
   "cell_type": "code",
   "execution_count": 19,
   "metadata": {
    "colab": {
     "base_uri": "https://localhost:8080/"
    },
    "id": "vl3ZYexzMP_1",
    "outputId": "119c9a7d-0868-499a-b3f5-5544cdf25b13"
   },
   "outputs": [
    {
     "name": "stderr",
     "output_type": "stream",
     "text": [
      "/usr/local/lib/python3.11/dist-packages/pydantic/_internal/_generate_schema.py:502: UserWarning: <built-in function any> is not a Python type (it may be an instance of an object), Pydantic will allow any object with no validation since we cannot even enforce that the input is an instance of the given type. To get rid of this error wrap the type with `pydantic.SkipValidation`.\n",
      "  warn(\n"
     ]
    }
   ],
   "source": [
    "# import mujoco after setting MUJOCO_GL to prevent errors in video rendering\n",
    "import mujoco\n",
    "from mujoco_playground._src import mjx_env\n",
    "from typing import List\n",
    "\n",
    "from src.environment.env_wrapper import Go1Env\n",
    "from src.environment.traversability_map import TraversabilityMap, TraversabilityMapConfig\n",
    "from src.control.controller_factory import ControllerFactory\n",
    "from src.control.position_controller import PositionController, PositionCommand\n",
    "from src.control.algorithms.mlp import MLPPolicy, MLPPolicyParams\n",
    "from src.mission_executer import EpisodeResult, MissionConfig, MissionExecuter\n",
    "from src.control.position_controller import (\n",
    "    create_position_controller,\n",
    "    PositionControllerParams,\n",
    "    SequentialControllerParams,\n",
    "    PolarCoordinateControllerParams,\n",
    ")\n",
    "from src.utils import load_yaml_with_jinja"
   ]
  },
  {
   "cell_type": "code",
   "execution_count": 20,
   "metadata": {
    "colab": {
     "base_uri": "https://localhost:8080/"
    },
    "id": "eLMxtDgDbdL9",
    "outputId": "1f5d9624-775c-4de1-fc3d-c2ab0824e4bb"
   },
   "outputs": [
    {
     "data": {
      "text/plain": [
       "{'mission': {'goal': [4, 4],\n",
       "  'max_sim_steps': 1000,\n",
       "  'retry_delay_sec': 5,\n",
       "  'max_attempts': 20},\n",
       " 'control': {'position_controller': {'algorithm_type': 'position_controller',\n",
       "   'command_dim': 3,\n",
       "   'arrival_threshold': 0.1,\n",
       "   'max_linear_velocity': 1.5,\n",
       "   'max_angular_velocity': 1.57,\n",
       "   'primary_controller': {'algorithm_type': 'seq_controller',\n",
       "    'yaw_control_threshold': 0.175,\n",
       "    'yaw_control_gain': 7.0,\n",
       "    'linear_control_gain': 2.0},\n",
       "   'fallback_controller': {'algorithm_type': 'seq_controller',\n",
       "    'yaw_control_threshold': 0.175,\n",
       "    'yaw_control_gain': 7.0,\n",
       "    'linear_control_gain': 2.0}},\n",
       "  'locomotion_controller': {'algorithm_type': 'mlp',\n",
       "   'nn_num_layers': 4,\n",
       "   'npy_path': 'src/control/nn_params/Go1JoystickFlatTerrain'}},\n",
       " 'environment': {'mujoco_playground': {'name': 'Go1JoystickFlatTerrain',\n",
       "   'random_key': 0},\n",
       "  'map': {'grid_size': [5, 5], 'image_size': 50, 'threshold': 125}},\n",
       " 'planning': {'llm_navigator': {'model_name': 'gemini-2.0-flash-thinking-exp'}}}"
      ]
     },
     "execution_count": 20,
     "metadata": {},
     "output_type": "execute_result"
    }
   ],
   "source": [
    "system_config = load_yaml_with_jinja(\"examples/configs/llm_navigation.yaml\")\n",
    "system_config"
   ]
  },
  {
   "cell_type": "code",
   "execution_count": 21,
   "metadata": {
    "colab": {
     "base_uri": "https://localhost:8080/"
    },
    "id": "XcBqDs8e0fek",
    "outputId": "f355ad22-12c1-4903-a8f1-52ca75418722"
   },
   "outputs": [
    {
     "data": {
      "text/plain": [
       "array([[1, 1, 1, 1, 1],\n",
       "       [0, 0, 1, 0, 0],\n",
       "       [1, 1, 1, 1, 1],\n",
       "       [1, 0, 0, 0, 0],\n",
       "       [1, 1, 1, 1, 1]], dtype=int32)"
      ]
     },
     "execution_count": 21,
     "metadata": {},
     "output_type": "execute_result"
    }
   ],
   "source": [
    "# instantiate mujoco Env\n",
    "env_name = system_config[\"environment\"][\"mujoco_playground\"][\"name\"]\n",
    "rng = jax.random.PRNGKey(system_config[\"environment\"][\"mujoco_playground\"][\"random_key\"])\n",
    "env = Go1Env(env_name=env_name)\n",
    "\n",
    "# create traversability map\n",
    "trav_map_config = TraversabilityMapConfig.from_dict(system_config[\"environment\"][\"map\"])\n",
    "trav_map = TraversabilityMap(trav_map_config)\n",
    "trav_map.load_from_grid(grid)  # or trav_map.load_grid(\"assets/floor1.jpg\")"
   ]
  },
  {
   "cell_type": "code",
   "execution_count": 22,
   "metadata": {
    "id": "WFhzEtJfFTwP"
   },
   "outputs": [],
   "source": [
    "def modify_scn_fn(scene):\n",
    "    \"\"\"Modify the rendering scene to change lighting.\"\"\"\n",
    "    light_id = 0  # Adjust this if you have multiple lights\n",
    "    scene.lights[light_id].ambient = [0.0, 0.0, 0.0]\n",
    "    scene.lights[light_id].diffuse = [0.1, 0.1, 0.1]  # Change color\n",
    "    scene.lights[light_id].specular = [0.0, 0.0, 0.0]\n",
    "\n",
    "    light_id = 1  # Adjust this if you have multiple lights\n",
    "    scene.lights[light_id].ambient = [0.0, 0.0, 0.0]\n",
    "    scene.lights[light_id].exponent = 50.0  # Strong falloff at edges\n",
    "    scene.lights[light_id].cutoff = 65.0  # Spotlight effect\n",
    "    scene.lights[light_id].diffuse = [1.0, 1.0, 1.0]  # Change color\n",
    "    scene.lights[light_id].specular = [0.0, 0.0, 0.0]\n",
    "\n",
    "\n",
    "# Set up the camera\n",
    "camera = mujoco.MjvCamera()\n",
    "mujoco.mjv_defaultCamera(camera)\n",
    "\n",
    "# Object is centered at (0,0,1.5) with size 15m x 15m x 3m\n",
    "camera.lookat[:] = np.array([2.0, 1.5, 1.5])  # Center of object\n",
    "\n",
    "# Calculate distance using a safe margin\n",
    "object_size = 6  # Maximum size in X or Y\n",
    "fov = 45  # Default MuJoCo camera FOV\n",
    "safe_margin = 1  # Factor to ensure entire object is in view\n",
    "\n",
    "# Compute required distance using field of view\n",
    "camera.distance = (object_size / 2) / np.tan(np.radians(fov / 2)) * safe_margin\n",
    "\n",
    "# Look directly down\n",
    "camera.azimuth = 90  # No horizontal rotation\n",
    "camera.elevation = -70  # Directly downward\n",
    "\n",
    "scene_option = mujoco.MjvOption()\n",
    "scene_option.geomgroup[2] = True\n",
    "scene_option.geomgroup[3] = False\n",
    "scene_option.flags[mujoco.mjtVisFlag.mjVIS_CONTACTPOINT] = True\n",
    "scene_option.flags[mujoco.mjtVisFlag.mjVIS_CONTACTFORCE] = False\n",
    "scene_option.flags[mujoco.mjtVisFlag.mjVIS_TRANSPARENT] = False"
   ]
  },
  {
   "cell_type": "markdown",
   "metadata": {
    "id": "gt34bGwSDJDS"
   },
   "source": [
    "###  Define Helper Functions"
   ]
  },
  {
   "cell_type": "code",
   "execution_count": 23,
   "metadata": {
    "id": "GB5NorWvGRYp"
   },
   "outputs": [],
   "source": [
    "velocity_kick_range = [0.0, 0.0]  # Disable velocity kick.\n",
    "kick_duration_range = [0.05, 0.2]\n",
    "\n",
    "\n",
    "def sample_pert(rng, env, state):\n",
    "    \"\"\"\n",
    "    Random purterbation to the robot\n",
    "    \"\"\"\n",
    "    rng, key1, key2 = jax.random.split(rng, 3)\n",
    "    pert_mag = jax.random.uniform(key1, minval=velocity_kick_range[0], maxval=velocity_kick_range[1])\n",
    "    duration_seconds = jax.random.uniform(key2, minval=kick_duration_range[0], maxval=kick_duration_range[1])\n",
    "    duration_steps = jax.numpy.round(duration_seconds / env.dt).astype(jax.numpy.int32)\n",
    "    state.info[\"pert_mag\"] = pert_mag\n",
    "    state.info[\"pert_duration\"] = duration_steps\n",
    "    state.info[\"pert_duration_seconds\"] = duration_seconds\n",
    "    return rng\n",
    "\n",
    "\n",
    "def update_position_history(position_history, current_position):\n",
    "    # Only update position_history is the robot enters a new cell (by comparing position in integer)\n",
    "    if len(position_history) == 0:\n",
    "        position_history.append(current_position.astype(np.int32))\n",
    "        return position_history\n",
    "    if np.array_equal(position_history[-1].astype(np.int32), current_position.astype(np.int32)):\n",
    "        return position_history\n",
    "    else:\n",
    "        position_history.append(current_position.astype(np.int32))\n",
    "    return position_history\n",
    "\n",
    "\n",
    "def run_one_episode(\n",
    "    env: Go1Env,\n",
    "    command_generator: PositionController,\n",
    "    # instead of using base class Controller, we use subclass MLPPolicy as this method is very customized\n",
    "    command_follower: MLPPolicy,\n",
    "    traversability_map: TraversabilityMap,\n",
    "    waypoints: List[np.ndarray],\n",
    "    max_sim_steps: int,\n",
    "    rng: jax.Array,\n",
    ") -> EpisodeResult:\n",
    "    rollout: List[mjx_env.State] = []\n",
    "    position_history: List[np.ndarray] = []\n",
    "    waypoint_idx: int = 0\n",
    "\n",
    "    _, rng = jax.random.split(rng)\n",
    "    state = env.reset(rng)\n",
    "\n",
    "    # start closed-loop sim\n",
    "    for i in tqdm(range(max_sim_steps)):\n",
    "        _, rng = jax.random.split(rng)  # this will randomize perturbation\n",
    "        rng = sample_pert(rng, env, state)\n",
    "\n",
    "        # calculate control command\n",
    "        cell_center_offset = 0.5\n",
    "        target_position = waypoints[waypoint_idx] + cell_center_offset\n",
    "        pos_command: PositionCommand = command_generator.compute_command(state, target_position)\n",
    "        state.info[\"command\"] = pos_command.command\n",
    "\n",
    "        ctrl = command_follower.control(state.obs[\"state\"])  # controller step\n",
    "        state = env.step(state, ctrl)  # simulator step\n",
    "\n",
    "        # record\n",
    "        rollout.append(state)\n",
    "        position_history = update_position_history(position_history, pos_command.info.pos[:2])\n",
    "\n",
    "        # check failure\n",
    "        if not traversability_map.is_valid_position(pos_command.info.pos[:2]):\n",
    "            return EpisodeResult(status=\"Stop\", position_history=position_history, rollout=rollout)\n",
    "\n",
    "        # check arrival at current waypoint\n",
    "        if pos_command.info.is_arrived:\n",
    "            waypoint_idx = min(waypoint_idx + 1, len(waypoints))  # proceed to next waypoint\n",
    "\n",
    "            # Check if the arrived at the last waypoint\n",
    "            if waypoint_idx == len(waypoints):\n",
    "                return EpisodeResult(status=\"Success\", position_history=position_history, rollout=rollout)\n",
    "\n",
    "    return EpisodeResult(status=\"Timeout\", position_history=position_history, rollout=rollout)"
   ]
  },
  {
   "cell_type": "markdown",
   "metadata": {
    "id": "FKA1AJnXrn0O"
   },
   "source": [
    "## Demo: Nagivating a go1 quadruped through a maze with Gemini-thinking Model\n",
    "**The main navigation loop:**\n",
    "1. Get waypoints from LLM planner\n",
    "2. Execute waypoints using controllers\n",
    "3. Provide feedback to LLM if attempt fails\n",
    "4. Repeat until goal is reached or max attempts exceeded\n",
    "\n",
    "The following picture illustrates the flowchart of the navigation task.\n",
    "![](https://github.com/shaoanlu/llm_mjx_go1_playground/raw/main/assets/llm_go1_navigation.png)\n"
   ]
  },
  {
   "cell_type": "markdown",
   "metadata": {
    "id": "0sAeW2U5aC7z"
   },
   "source": [
    "### LLM Path Planner\n",
    "A free tier Google API key is required to instantiate the `LLMNavigator` class. You can obtain one from [AU Studio](https://aistudio.google.com/app/apikey) with detailed instructions in [this docs](https://ai.google.dev/gemini-api/docs/api-key).\n",
    "\n",
    "We use the LLM as the path planner:\n",
    "- Takes the current state and failed attempts as input\n",
    "- Outputs a sequence of waypoints for the robot to follow\n",
    "- Adapts the plan based on feedback from failed attempts"
   ]
  },
  {
   "cell_type": "code",
   "execution_count": 24,
   "metadata": {
    "id": "tju8A1hp0fel"
   },
   "outputs": [],
   "source": [
    "from google import genai\n",
    "from google.colab import userdata\n",
    "from src.planning.llm_nagivator import GeminiThinkingNavigator\n",
    "\n",
    "\n",
    "client = genai.Client(api_key=userdata.get(\"GOOGLE_API_KEY\"), http_options={\"api_version\": \"v1alpha\"})\n",
    "llm_navigator = GeminiThinkingNavigator(client, model_name=system_config[\"planning\"][\"llm_navigator\"][\"model_name\"])"
   ]
  },
  {
   "cell_type": "markdown",
   "metadata": {
    "id": "FY5IPFW0aYRd"
   },
   "source": [
    "### Robot Controller\n",
    "We use two levels of control:\n",
    "1. High-level position controller that follows waypoints\n",
    "2. Low-level MLP policy that controls individual joint movements"
   ]
  },
  {
   "cell_type": "code",
   "execution_count": 25,
   "metadata": {
    "colab": {
     "base_uri": "https://localhost:8080/"
    },
    "id": "eSBEmVijUCLG",
    "outputId": "fdab45ea-8d2f-4072-ecc8-a532b44212c0"
   },
   "outputs": [
    {
     "data": {
      "text/plain": [
       "MissionConfig(goal=[4, 4], max_sim_steps=1000, retry_delay_sec=5, max_attempts=20)"
      ]
     },
     "execution_count": 25,
     "metadata": {},
     "output_type": "execute_result"
    }
   ],
   "source": [
    "# Instantiate controller based on env_name\n",
    "factory = ControllerFactory()\n",
    "mlp_params = MLPPolicyParams.from_dict(system_config[\"control\"][\"locomotion_controller\"])\n",
    "command_follower = factory.build(params=mlp_params)\n",
    "\n",
    "pc_config = system_config[\"control\"][\"position_controller\"]\n",
    "pc_config = PositionControllerParams(\n",
    "    # PolarCoordinateControllerParams() is faster but can deviate from the straight path\n",
    "    primary_controller=SequentialControllerParams.from_dict(pc_config[\"primary_controller\"]),\n",
    "    fallback_controller=SequentialControllerParams.from_dict(pc_config[\"fallback_controller\"]),\n",
    "    command_dim=pc_config[\"command_dim\"],\n",
    "    arrival_threshold=pc_config[\"arrival_threshold\"],\n",
    "    max_linear_velocity=pc_config[\"max_linear_velocity\"],\n",
    "    max_angular_velocity=pc_config[\"max_angular_velocity\"],\n",
    "    algorithm_type=pc_config[\"algorithm_type\"],\n",
    ")\n",
    "command_generator = create_position_controller(controller_factory=factory, config=pc_config)\n",
    "\n",
    "# Instantiate the ochestrator for mission execution\n",
    "instruction = open(\"examples/prompt.txt\", \"r\").read()\n",
    "mission_config = MissionConfig.from_dict(system_config[\"mission\"])\n",
    "# mission_config.max_attempts = 20\n",
    "# mission_config.max_sim_steps = 1000\n",
    "mission_executer = MissionExecuter(config=mission_config, instruction_prompt=instruction)"
   ]
  },
  {
   "cell_type": "markdown",
   "metadata": {
    "id": "FNrwp58g0fem"
   },
   "source": [
    "### Create a partially applied function with fixed arguments for closed-loop simulation"
   ]
  },
  {
   "cell_type": "code",
   "execution_count": 26,
   "metadata": {
    "id": "guN8dElQMP_3"
   },
   "outputs": [],
   "source": [
    "from functools import partial\n",
    "\n",
    "run_one_episode_func = partial(\n",
    "    run_one_episode,\n",
    "    env=env,\n",
    "    command_generator=command_generator,\n",
    "    command_follower=command_follower,\n",
    "    traversability_map=trav_map,\n",
    ")"
   ]
  },
  {
   "cell_type": "markdown",
   "metadata": {
    "id": "Cwjnm0U7Ujcz"
   },
   "source": [
    "## Start Navigation\n",
    "\n",
    "I takes some time for the first simulation step. During simulation, the intermediate reuslt of attemps will be printed out, including the prompt, the waypoints suggested by LLM, and the result."
   ]
  },
  {
   "cell_type": "code",
   "execution_count": 27,
   "metadata": {
    "colab": {
     "base_uri": "https://localhost:8080/"
    },
    "id": "4Wt_009nF5xy",
    "outputId": "44ef5a0d-1f10-4d0a-a1b7-d240dd2ca476"
   },
   "outputs": [
    {
     "name": "stderr",
     "output_type": "stream",
     "text": [
      " 20%|█▉        | 197/1000 [01:12<04:55,  2.71it/s]\n"
     ]
    },
    {
     "name": "stdout",
     "output_type": "stream",
     "text": [
      "[Trial 1]\n",
      "prompt='You are a path planner for a quadruped robot navigating in a partially known 5x5 grid environment. Your task is to guide the robot from the start position (0,0) to the goal position (4,4).\\n\\nEnvironment specifications:\\n- Grid size: 5x5\\n- Start position: (0,0)\\n- Goal position: (4,4)\\n- Some cells are not traversable, but their status is only revealed when the robot attempts to traverse them\\n\\nPath planning constraints:\\n1. Maximum 10 waypoints allowed per path\\n2. Consecutive waypoints moving in the same direction must be simplified\\n   Example: [(0,0), (1,0), (2,0), (2,1)] should be simplified to [(0,0), (2,0), (2,1)]\\n\\nExpected output format:\\nProvide only a list of coordinates in the format:\\n[(x0,y0), (x1,y1), ..., (xn,yn)]\\n\\nPossible execution outcomes:\\n1. Success: Robot reaches the goal\\n2. Failed (Obstacle): \"Failed: stop at (X,Y), traversed cells: [(x0,y0), (x1,y1), ...]\"\\n   - Episode terminates when hitting an untraversable cell\\n   - Remaining waypoints are discarded\\n3. Failed (Timeout): \"Failed: timeout at (X,Y), traversed cells: [(x0,y0), (x1,y1), ...]\"\\n\\nPlanning strategy:\\n- Use the feedback from failed attempts to refine subsequent path planning\\n- Adapt the path based on discovered untraversable cells\\n- Consider alternative routes when previous attempts fail\\n\\nImportant notes:\\n- Respond ONLY with the waypoint list\\n- No additional text or explanations\\n- Each new attempt should incorporate information from previous failures\\n\\nStart. you are at somwwhere near (0, 0).'\n",
      "waypoints=[array([0, 0]), array([1, 1]), array([2, 2]), array([3, 3]), array([4, 4])]\n",
      "result.status='Stop'(1, 1) \tresult.position_history=[array([0, 0], dtype=int32), array([0, 1], dtype=int32), array([1, 1], dtype=int32)]\n",
      "\n"
     ]
    },
    {
     "name": "stderr",
     "output_type": "stream",
     "text": [
      " 12%|█▏        | 123/1000 [00:01<00:13, 64.01it/s]\n"
     ]
    },
    {
     "name": "stdout",
     "output_type": "stream",
     "text": [
      "[Trial 2]\n",
      "prompt='Failed: Stop at (1, 1), traversed cells: [(0, 0), (0, 1), (1, 1)]'\n",
      "waypoints=[array([0, 0]), array([2, 0]), array([2, 1]), array([4, 1]), array([4, 4])]\n",
      "result.status='Stop'(1, 0) \tresult.position_history=[array([0, 0], dtype=int32), array([1, 0], dtype=int32)]\n",
      "\n"
     ]
    },
    {
     "name": "stderr",
     "output_type": "stream",
     "text": [
      " 15%|█▌        | 151/1000 [00:03<00:17, 48.45it/s]\n"
     ]
    },
    {
     "name": "stdout",
     "output_type": "stream",
     "text": [
      "[Trial 3]\n",
      "prompt='Failed: Stop at (1, 0), traversed cells: [(0, 0), (1, 0)]'\n",
      "waypoints=[array([0, 0]), array([2, 0]), array([2, 2]), array([4, 2]), array([4, 4])]\n",
      "result.status='Stop'(1, 0) \tresult.position_history=[array([0, 0], dtype=int32), array([1, 0], dtype=int32)]\n",
      "\n"
     ]
    },
    {
     "name": "stderr",
     "output_type": "stream",
     "text": [
      " 26%|██▋       | 265/1000 [00:04<00:13, 55.38it/s]\n"
     ]
    },
    {
     "name": "stdout",
     "output_type": "stream",
     "text": [
      "[Trial 4]\n",
      "prompt='Failed: Stop at (1, 0), traversed cells: [(0, 0), (1, 0)]'\n",
      "waypoints=[array([0, 0]), array([0, 3]), array([2, 3]), array([4, 3]), array([4, 4])]\n",
      "result.status='Stop'(1, 3) \tresult.position_history=[array([0, 0], dtype=int32), array([0, 1], dtype=int32), array([0, 2], dtype=int32), array([0, 3], dtype=int32), array([1, 3], dtype=int32)]\n",
      "\n"
     ]
    },
    {
     "name": "stderr",
     "output_type": "stream",
     "text": [
      " 35%|███▌      | 350/1000 [00:05<00:09, 68.78it/s]\n"
     ]
    },
    {
     "name": "stdout",
     "output_type": "stream",
     "text": [
      "[Trial 5]\n",
      "prompt='Failed: Stop at (1, 3), traversed cells: [(0, 0), (0, 1), (0, 2), (0, 3), (1, 3)]'\n",
      "waypoints=[array([0, 0]), array([0, 4]), array([2, 4]), array([4, 4])]\n",
      "result.status='Stop'(1, 4) \tresult.position_history=[array([0, 0], dtype=int32), array([0, 1], dtype=int32), array([0, 2], dtype=int32), array([0, 3], dtype=int32), array([0, 4], dtype=int32), array([1, 4], dtype=int32)]\n",
      "\n"
     ]
    },
    {
     "name": "stderr",
     "output_type": "stream",
     "text": [
      " 38%|███▊      | 381/1000 [00:07<00:11, 52.28it/s]\n"
     ]
    },
    {
     "name": "stdout",
     "output_type": "stream",
     "text": [
      "[Trial 6]\n",
      "prompt='Failed: Stop at (1, 4), traversed cells: [(0, 0), (0, 1), (0, 2), (0, 3), (0, 4), (1, 4)]'\n",
      "waypoints=[array([0, 0]), array([0, 2]), array([2, 2]), array([4, 2]), array([4, 4])]\n",
      "result.status='Stop'(3, 2) \tresult.position_history=[array([0, 0], dtype=int32), array([0, 1], dtype=int32), array([0, 2], dtype=int32), array([1, 2], dtype=int32), array([2, 2], dtype=int32), array([3, 2], dtype=int32)]\n",
      "\n"
     ]
    },
    {
     "name": "stderr",
     "output_type": "stream",
     "text": [
      " 50%|████▉     | 498/1000 [00:08<00:08, 56.15it/s]\n"
     ]
    },
    {
     "name": "stdout",
     "output_type": "stream",
     "text": [
      "[Trial 7]\n",
      "prompt='Failed: Stop at (3, 2), traversed cells: [(0, 0), (0, 1), (0, 2), (1, 2), (2, 2), (3, 2)]'\n",
      "waypoints=[array([0, 0]), array([0, 2]), array([2, 2]), array([2, 4]), array([4, 4])]\n",
      "result.status='Stop'(3, 4) \tresult.position_history=[array([0, 0], dtype=int32), array([0, 1], dtype=int32), array([0, 2], dtype=int32), array([1, 2], dtype=int32), array([2, 2], dtype=int32), array([2, 3], dtype=int32), array([2, 4], dtype=int32), array([3, 4], dtype=int32)]\n",
      "\n"
     ]
    },
    {
     "name": "stderr",
     "output_type": "stream",
     "text": [
      " 49%|████▉     | 493/1000 [00:09<00:09, 53.70it/s]\n"
     ]
    },
    {
     "name": "stdout",
     "output_type": "stream",
     "text": [
      "[Trial 8]\n",
      "prompt='Failed: Stop at (3, 4), traversed cells: [(0, 0), (0, 1), (0, 2), (1, 2), (2, 2), (2, 3), (2, 4), (3, 4)]'\n",
      "waypoints=[array([0, 0]), array([0, 2]), array([2, 2]), array([2, 3]), array([4, 3]), array([4, 4])]\n",
      "result.status='Stop'(3, 3) \tresult.position_history=[array([0, 0], dtype=int32), array([0, 1], dtype=int32), array([0, 2], dtype=int32), array([1, 2], dtype=int32), array([2, 2], dtype=int32), array([2, 3], dtype=int32), array([3, 3], dtype=int32)]\n",
      "\n"
     ]
    },
    {
     "name": "stderr",
     "output_type": "stream",
     "text": [
      " 59%|█████▉    | 588/1000 [00:12<00:08, 47.71it/s]\n"
     ]
    },
    {
     "name": "stdout",
     "output_type": "stream",
     "text": [
      "[Trial 9]\n",
      "prompt='Failed: Stop at (3, 3), traversed cells: [(0, 0), (0, 1), (0, 2), (1, 2), (2, 2), (2, 3), (3, 3)]'\n",
      "waypoints=[array([0, 0]), array([0, 2]), array([2, 2]), array([2, 1]), array([4, 1]), array([4, 4])]\n",
      "result.status='Stop'(3, 1) \tresult.position_history=[array([0, 0], dtype=int32), array([0, 1], dtype=int32), array([0, 2], dtype=int32), array([1, 2], dtype=int32), array([2, 2], dtype=int32), array([2, 1], dtype=int32), array([3, 1], dtype=int32)]\n",
      "\n"
     ]
    },
    {
     "name": "stderr",
     "output_type": "stream",
     "text": [
      " 88%|████████▊ | 881/1000 [00:16<00:02, 54.27it/s]"
     ]
    },
    {
     "name": "stdout",
     "output_type": "stream",
     "text": [
      "[Trial 10]\n",
      "prompt='Failed: Stop at (3, 1), traversed cells: [(0, 0), (0, 1), (0, 2), (1, 2), (2, 2), (2, 1), (3, 1)]'\n",
      "waypoints=[array([0, 0]), array([0, 2]), array([2, 2]), array([2, 0]), array([4, 0]), array([4, 4])]\n",
      "result.status='Success'(4, 4) \tresult.position_history=[array([0, 0], dtype=int32), array([0, 1], dtype=int32), array([0, 2], dtype=int32), array([1, 2], dtype=int32), array([2, 2], dtype=int32), array([2, 1], dtype=int32), array([2, 0], dtype=int32), array([3, 0], dtype=int32), array([4, 0], dtype=int32), array([4, 1], dtype=int32), array([4, 2], dtype=int32), array([4, 3], dtype=int32), array([4, 4], dtype=int32)]\n",
      "\n"
     ]
    },
    {
     "name": "stderr",
     "output_type": "stream",
     "text": [
      "\n"
     ]
    }
   ],
   "source": [
    "result = mission_executer.execute_mission(planner=llm_navigator, execute_single_attempt=run_one_episode_func, rng=rng)"
   ]
  },
  {
   "cell_type": "code",
   "execution_count": 27,
   "metadata": {
    "id": "Rvkst6KSSfUI"
   },
   "outputs": [],
   "source": []
  },
  {
   "cell_type": "markdown",
   "metadata": {
    "id": "GK4I7B0p0fem"
   },
   "source": [
    "## Results Visualization\n",
    "\n",
    "### Render Navigation Video\n",
    "Visualize the successful navigation attempt:\n",
    "- Shows the robot's movement through the maze\n",
    "- Includes fog of war effect to highlight explored areas\n",
    "- Demonstrates how the robot avoids discovered obstacles"
   ]
  },
  {
   "cell_type": "code",
   "execution_count": 29,
   "metadata": {
    "colab": {
     "base_uri": "https://localhost:8080/"
    },
    "id": "kcE9T8r2bgFr",
    "outputId": "7df95a46-35e0-407a-ab6c-979a8fefc7dc"
   },
   "outputs": [
    {
     "name": "stderr",
     "output_type": "stream",
     "text": [
      "100%|██████████| 394/394 [05:07<00:00,  1.28it/s]\n"
     ]
    }
   ],
   "source": [
    "render_every = 10\n",
    "fps = 3.0 / env.dt / render_every  # 3x realtime\n",
    "traj = result.rollouts[::render_every]\n",
    "\n",
    "\n",
    "frames = env.render(\n",
    "    traj, camera=camera, scene_option=scene_option, height=480, width=640, modify_scene_fns=[modify_scn_fn] * len(traj)\n",
    ")"
   ]
  },
  {
   "cell_type": "code",
   "execution_count": null,
   "metadata": {
    "id": "kiwJRp1FkAdI"
   },
   "outputs": [],
   "source": [
    "from src.visualization import apply_fog_of_war\n",
    "\n",
    "# mediapy.show_video(frames, fps=fps, loop=False)\n",
    "mediapy.show_video(apply_fog_of_war(frames, alpha=0.7, gamma=1.1), fps=fps, loop=False)"
   ]
  },
  {
   "cell_type": "code",
   "execution_count": 30,
   "metadata": {
    "colab": {
     "base_uri": "https://localhost:8080/",
     "height": 520
    },
    "id": "7TKK_h53cKJT",
    "outputId": "987558d3-c39f-4426-d5ac-c7ef82643c18"
   },
   "outputs": [
    {
     "data": {
      "text/html": [
       "<style>\n",
       "      .ndarray_repr .ndarray_raw_data {\n",
       "        display: none;\n",
       "      }\n",
       "      .ndarray_repr.show_array .ndarray_raw_data {\n",
       "        display: block;\n",
       "      }\n",
       "      .ndarray_repr.show_array .ndarray_image_preview {\n",
       "        display: none;\n",
       "      }\n",
       "      </style>\n",
       "      <div id=\"id-5fb7f8d4-4ae2-47ae-bc7b-3b3bd064418f\" class=\"ndarray_repr\"><pre>ndarray (480, 640, 3) <button style=\"padding: 0 2px;\">show data</button></pre><img src=\"data:image/png;base64,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\" class=\"ndarray_image_preview\" /><pre class=\"ndarray_raw_data\">array([[[23, 23, 23],\n",
       "        [23, 23, 23],\n",
       "        [23, 23, 23],\n",
       "        ...,\n",
       "        [23, 23, 23],\n",
       "        [23, 23, 23],\n",
       "        [23, 23, 23]],\n",
       "\n",
       "       [[23, 23, 23],\n",
       "        [23, 23, 23],\n",
       "        [23, 23, 23],\n",
       "        ...,\n",
       "        [23, 23, 23],\n",
       "        [23, 23, 23],\n",
       "        [23, 23, 23]],\n",
       "\n",
       "       [[23, 23, 23],\n",
       "        [23, 23, 23],\n",
       "        [23, 23, 23],\n",
       "        ...,\n",
       "        [23, 23, 23],\n",
       "        [23, 23, 23],\n",
       "        [23, 23, 23]],\n",
       "\n",
       "       ...,\n",
       "\n",
       "       [[45, 45, 45],\n",
       "        [46, 46, 46],\n",
       "        [45, 45, 45],\n",
       "        ...,\n",
       "        [23, 23, 23],\n",
       "        [24, 24, 24],\n",
       "        [24, 24, 24]],\n",
       "\n",
       "       [[45, 45, 45],\n",
       "        [45, 45, 45],\n",
       "        [44, 44, 44],\n",
       "        ...,\n",
       "        [23, 23, 23],\n",
       "        [24, 24, 24],\n",
       "        [24, 24, 24]],\n",
       "\n",
       "       [[45, 45, 45],\n",
       "        [45, 45, 45],\n",
       "        [42, 42, 42],\n",
       "        ...,\n",
       "        [22, 22, 22],\n",
       "        [24, 24, 24],\n",
       "        [24, 24, 24]]], dtype=uint8)</pre></div><script>\n",
       "      (() => {\n",
       "      const titles = ['show data', 'hide data'];\n",
       "      let index = 0\n",
       "      document.querySelector('#id-5fb7f8d4-4ae2-47ae-bc7b-3b3bd064418f button').onclick = (e) => {\n",
       "        document.querySelector('#id-5fb7f8d4-4ae2-47ae-bc7b-3b3bd064418f').classList.toggle('show_array');\n",
       "        index = (++index) % 2;\n",
       "        document.querySelector('#id-5fb7f8d4-4ae2-47ae-bc7b-3b3bd064418f button').textContent = titles[index];\n",
       "        e.preventDefault();\n",
       "        e.stopPropagation();\n",
       "      }\n",
       "      })();\n",
       "    </script>"
      ],
      "text/plain": [
       "array([[[23, 23, 23],\n",
       "        [23, 23, 23],\n",
       "        [23, 23, 23],\n",
       "        ...,\n",
       "        [23, 23, 23],\n",
       "        [23, 23, 23],\n",
       "        [23, 23, 23]],\n",
       "\n",
       "       [[23, 23, 23],\n",
       "        [23, 23, 23],\n",
       "        [23, 23, 23],\n",
       "        ...,\n",
       "        [23, 23, 23],\n",
       "        [23, 23, 23],\n",
       "        [23, 23, 23]],\n",
       "\n",
       "       [[23, 23, 23],\n",
       "        [23, 23, 23],\n",
       "        [23, 23, 23],\n",
       "        ...,\n",
       "        [23, 23, 23],\n",
       "        [23, 23, 23],\n",
       "        [23, 23, 23]],\n",
       "\n",
       "       ...,\n",
       "\n",
       "       [[45, 45, 45],\n",
       "        [46, 46, 46],\n",
       "        [45, 45, 45],\n",
       "        ...,\n",
       "        [23, 23, 23],\n",
       "        [24, 24, 24],\n",
       "        [24, 24, 24]],\n",
       "\n",
       "       [[45, 45, 45],\n",
       "        [45, 45, 45],\n",
       "        [44, 44, 44],\n",
       "        ...,\n",
       "        [23, 23, 23],\n",
       "        [24, 24, 24],\n",
       "        [24, 24, 24]],\n",
       "\n",
       "       [[45, 45, 45],\n",
       "        [45, 45, 45],\n",
       "        [42, 42, 42],\n",
       "        ...,\n",
       "        [22, 22, 22],\n",
       "        [24, 24, 24],\n",
       "        [24, 24, 24]]], dtype=uint8)"
      ]
     },
     "execution_count": 30,
     "metadata": {},
     "output_type": "execute_result"
    }
   ],
   "source": [
    "frames[0]"
   ]
  },
  {
   "cell_type": "code",
   "execution_count": null,
   "metadata": {
    "id": "Loey4Y_SOxhM"
   },
   "outputs": [],
   "source": []
  },
  {
   "cell_type": "markdown",
   "metadata": {
    "id": "tr6GDI3E5Y7M"
   },
   "source": [
    "## Extra: Ask LLM to infer the map with uncertainty"
   ]
  },
  {
   "cell_type": "code",
   "execution_count": 36,
   "metadata": {
    "colab": {
     "base_uri": "https://localhost:8080/"
    },
    "id": "kRaJ3XfV3Sqe",
    "outputId": "582a540c-7023-4080-aa9a-28d07b331e3b"
   },
   "outputs": [
    {
     "name": "stdout",
     "output_type": "stream",
     "text": [
      "Success: reached (4, 4), traversed cells: [(0, 0), (0, 1), (0, 2), (1, 2), (2, 2), (2, 1), (2, 0), (3, 0), (4, 0), (4, 1), (4, 2), (4, 3), (4, 4)]\n",
      "Now, based on all of the attemps, reason about the environment from start to goal and draw a 5x5 grid map using '0', '1', and '?', where '0' repreents a wall, '1' a path cell, and '?' a cell you are uncertain.\n"
     ]
    }
   ],
   "source": [
    "def create_ask_for_map_prompt(result):\n",
    "    x, y = result.position_history[-1].astype(int)\n",
    "    return (\n",
    "        f\"{result.status}: reached ({x}, {y}), traversed cells: {[tuple(np.round(x_, 1)) for x_ in result.position_history]}\"\n",
    "        + f\"\\nNow, based on all of the attemps, reason about the environment from start to goal and draw a 5x5 grid map using '0', '1', and '?', where '0' repreents a wall, '1' a path cell, and '?' a cell you are uncertain.\"\n",
    "    )\n",
    "\n",
    "\n",
    "print(create_ask_for_map_prompt(result))"
   ]
  },
  {
   "cell_type": "code",
   "execution_count": 37,
   "metadata": {
    "id": "K3eaMgA6bRhR"
   },
   "outputs": [],
   "source": [
    "response = llm_navigator.chat.send_message([create_ask_for_map_prompt(result)])"
   ]
  },
  {
   "cell_type": "code",
   "execution_count": 38,
   "metadata": {
    "colab": {
     "base_uri": "https://localhost:8080/"
    },
    "id": "dOO2uupx1DsE",
    "outputId": "b52e2f8c-0751-4994-dbd6-fde89ae1e904"
   },
   "outputs": [
    {
     "name": "stdout",
     "output_type": "stream",
     "text": [
      "```\n",
      "11111\n",
      "00100\n",
      "11111\n",
      "10000\n",
      "11111\n",
      "```\n"
     ]
    }
   ],
   "source": [
    "print(response.text)\n",
    "# this does not exactly match the explored cells of the robot"
   ]
  },
  {
   "cell_type": "markdown",
   "metadata": {
    "id": "fkMnf-lW5ls_"
   },
   "source": [
    "And ask LLM to plan more paths to epxlore the entire map"
   ]
  },
  {
   "cell_type": "code",
   "execution_count": 39,
   "metadata": {
    "id": "jjUK88ri1Duc"
   },
   "outputs": [],
   "source": [
    "response = llm_navigator.chat.send_message([\"Suggest 5 more paths in order for you to fill the unknow cells\"])\n",
    "# these paths are not the most effective ones though (many of them lead to hitting the wall immediately)"
   ]
  },
  {
   "cell_type": "code",
   "execution_count": 41,
   "metadata": {
    "colab": {
     "base_uri": "https://localhost:8080/"
    },
    "id": "nhcLCvXWbRj6",
    "outputId": "ebb57483-3a13-4e22-f0fa-fb6020147142"
   },
   "outputs": [
    {
     "name": "stdout",
     "output_type": "stream",
     "text": [
      "```\n",
      "[(0,0), (4,0), (4,1), (4,2), (4,3), (4,4)]\n",
      "[(0,0), (0,2), (1,2), (2,2), (3,2), (4,2), (4,4)]\n",
      "[(0,0), (0,1), (0,2), (0,3), (0,4), (2,4), (4,4)]\n",
      "[(0,0), (2,0), (4,0), (4,2), (4,4)]\n",
      "[(0,0), (0,2), (2,2), (4,2), (4,3), (4,4)]\n",
      "```\n"
     ]
    }
   ],
   "source": [
    "print(response.text)"
   ]
  },
  {
   "cell_type": "code",
   "execution_count": null,
   "metadata": {
    "id": "Yi3fsxXZbRmm"
   },
   "outputs": [],
   "source": []
  }
 ],
 "metadata": {
  "colab": {
   "provenance": []
  },
  "kernelspec": {
   "display_name": "Python 3",
   "name": "python3"
  },
  "language_info": {
   "codemirror_mode": {
    "name": "ipython",
    "version": 3
   },
   "file_extension": ".py",
   "mimetype": "text/x-python",
   "name": "python",
   "nbconvert_exporter": "python",
   "pygments_lexer": "ipython3",
   "version": "3.12.3"
  }
 },
 "nbformat": 4,
 "nbformat_minor": 0
}