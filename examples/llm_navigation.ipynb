{
 "cells": [
  {
   "cell_type": "markdown",
   "metadata": {
    "id": "FPsnZakTrFGS"
   },
   "source": [
    "# LLM-Guided Quadruped Robot Navigation\n",
    "\n",
    "This notebook demonstrates how to use a large language model (Gemini) to guide a quadruped robot (Unitree Go1) through a partially known maze environment. The LLM acts as a path planner that suggests waypoints based on the robot's feedback from failed navigation attempts.\n",
    "\n",
    "## Overview\n",
    "- The environment is a 5x5 grid maze with some untraversable cells\n",
    "- The robot starts at (0,0) and needs to reach (4,4)\n",
    "- The LLM receives feedback from failed attempts to refine its path planning\n",
    "- The simulation uses MuJoCo physics engine with JAX acceleration\n",
    "\n",
    "## Installation and Setup\n",
    "First, let's install the required packages:"
   ]
  },
  {
   "cell_type": "code",
   "execution_count": 1,
   "metadata": {
    "cellView": "form",
    "id": "Xqo7pyX-n72M"
   },
   "outputs": [],
   "source": [
    "%%capture\n",
    "!pip install mujoco mujoco_mjx brax playground\n",
    "!command -v ffmpeg >/dev/null || (apt update && apt install -y ffmpeg)\n",
    "!pip install -q mediapy\n",
    "!apt-get update\n",
    "!apt-get install -y libosmesa6-dev libgl1-mesa-glx libglfw3 patchelf"
   ]
  },
  {
   "cell_type": "code",
   "execution_count": 2,
   "metadata": {
    "id": "gvmLOXS7FWou"
   },
   "outputs": [],
   "source": [
    "%pip install -q -U 'google-generativeai>=0.8.3'"
   ]
  },
  {
   "cell_type": "code",
   "execution_count": 1,
   "metadata": {
    "id": "T5f4w3Kq2X14"
   },
   "outputs": [],
   "source": [
    "import jax\n",
    "import numpy as np\n",
    "import mediapy\n",
    "import os\n",
    "from tqdm import tqdm\n",
    "from matplotlib import pyplot as plt\n",
    "\n",
    "os.environ[\"MUJOCO_GL\"] = \"egl\"\n",
    "\n",
    "# More legible printing from numpy.\n",
    "np.set_printoptions(precision=3, suppress=True, linewidth=100)"
   ]
  },
  {
   "cell_type": "code",
   "execution_count": 1,
   "metadata": {
    "id": "ZcNqx9YUejAy"
   },
   "outputs": [],
   "source": []
  },
  {
   "cell_type": "markdown",
   "metadata": {
    "id": "hssKFDcnrFGW"
   },
   "source": [
    "## Clone the Repository\n",
    "Clone the repository containing the simulation environment and navigation code:"
   ]
  },
  {
   "cell_type": "code",
   "execution_count": 2,
   "metadata": {
    "colab": {
     "base_uri": "https://localhost:8080/"
    },
    "id": "2ZnNqQU0TQvb",
    "outputId": "bf16646b-b7d8-414c-dd82-e619a6c0920d"
   },
   "outputs": [
    {
     "name": "stdout",
     "output_type": "stream",
     "text": [
      "fatal: destination path 'llm_mjx_go1_playground' already exists and is not an empty directory.\n"
     ]
    }
   ],
   "source": [
    "!git clone https://github.com/shaoanlu/llm_mjx_go1_playground.git"
   ]
  },
  {
   "cell_type": "code",
   "execution_count": 3,
   "metadata": {
    "colab": {
     "base_uri": "https://localhost:8080/"
    },
    "id": "pQXZu_W7ExY6",
    "outputId": "f405fa6a-793b-4c69-a9cd-e9a4b7e37de7"
   },
   "outputs": [
    {
     "name": "stdout",
     "output_type": "stream",
     "text": [
      "/content/llm_mjx_go1_playground\n"
     ]
    }
   ],
   "source": [
    "%cd llm_mjx_go1_playground"
   ]
  },
  {
   "cell_type": "markdown",
   "metadata": {
    "id": "1OeVHTE3rFGX"
   },
   "source": [
    "## Simulation Environment Setup\n",
    "\n",
    "### Generate Random Maze\n",
    "We generate a random maze environment with walls and visualize it:\n",
    "- White cells are traversable\n",
    "- Black cells are walls/obstacles\n",
    "- Green dot marks the start position\n",
    "- Red dot marks the goal position"
   ]
  },
  {
   "cell_type": "code",
   "execution_count": 4,
   "metadata": {
    "id": "prshF602X_UN"
   },
   "outputs": [],
   "source": [
    "from src.environment.generate_maze_scene_xml import generate_maze_xml"
   ]
  },
  {
   "cell_type": "code",
   "execution_count": 5,
   "metadata": {
    "colab": {
     "base_uri": "https://localhost:8080/",
     "height": 452
    },
    "id": "dTxlfa0OYVbX",
    "outputId": "b2a3c26c-58dd-48a1-e170-4a785f03e9eb"
   },
   "outputs": [
    {
     "data": {
      "image/png": "[encoded data removed]",
      "text/plain": [
       "<Figure size 640x480 with 1 Axes>"
      ]
     },
     "metadata": {},
     "output_type": "display_data"
    }
   ],
   "source": [
    "grid, random_maze_xml = generate_maze_xml()\n",
    "\n",
    "# flips to have origin at bottom-left and goal top-right\n",
    "im = (np.stack((grid.T[::-1, :],) * 3, axis=-1) * 255).astype(np.uint8)\n",
    "plt.title(\"Generated maze\")\n",
    "plt.imshow(im)\n",
    "plt.plot(0.0, 4.0, \"go\", markersize=10, label=\"Start\")\n",
    "plt.plot(4, 0, \"ro\", markersize=10, label=\"Goal\")\n",
    "plt.legend(loc=\"upper left\")\n",
    "plt.show()\n",
    "\n",
    "!rm -rf scene_mjx_maze_flat_terrain.xml\n",
    "f = open(\"scene_mjx_maze_flat_terrain.xml\", \"a\")\n",
    "f.write(random_maze_xml)\n",
    "f.close()"
   ]
  },
  {
   "cell_type": "markdown",
   "metadata": {
    "id": "7_Hh0oZe0fej"
   },
   "source": [
    "### ========== !!!!! BEWARE !!!!! ==========\n",
    "The following `mv` command overwrites the xml file installed in the mujoco_playground. The modified xml has wall objects added into the scene."
   ]
  },
  {
   "cell_type": "code",
   "execution_count": 6,
   "metadata": {
    "id": "D1d59S-g4EdE"
   },
   "outputs": [],
   "source": [
    "!mv scene_mjx_maze_flat_terrain.xml /usr/local/lib/python3.11/dist-packages/mujoco_playground/_src/locomotion/go1/xmls/scene_mjx_feetonly_flat_terrain.xml"
   ]
  },
  {
   "cell_type": "markdown",
   "metadata": {
    "id": "qR3mX130Y3jf"
   },
   "source": [
    "### ========== !!!!! BEWARE !!!!! =========="
   ]
  },
  {
   "cell_type": "code",
   "execution_count": 6,
   "metadata": {
    "id": "SIFpgsUsMP_1"
   },
   "outputs": [],
   "source": []
  },
  {
   "cell_type": "markdown",
   "metadata": {
    "id": "44atRFgL0fej"
   },
   "source": [
    "### Initialize Simulation\n",
    "Set up the MuJoCo simulation environment:\n",
    "- Instantiate the `Go1Env` (which load the maze scene XML)\n",
    "- Create a traversability map based the random generated maze\n",
    "- Configure mujoco camera parameters and rendering options"
   ]
  },
  {
   "cell_type": "code",
   "execution_count": 7,
   "metadata": {
    "colab": {
     "base_uri": "https://localhost:8080/"
    },
    "id": "vl3ZYexzMP_1",
    "outputId": "d42c441c-6a6d-4ed9-a578-6c938b8c330c"
   },
   "outputs": [
    {
     "name": "stderr",
     "output_type": "stream",
     "text": [
      "/usr/local/lib/python3.11/dist-packages/pydantic/_internal/_generate_schema.py:502: UserWarning: <built-in function any> is not a Python type (it may be an instance of an object), Pydantic will allow any object with no validation since we cannot even enforce that the input is an instance of the given type. To get rid of this error wrap the type with `pydantic.SkipValidation`.\n",
      "  warn(\n"
     ]
    }
   ],
   "source": [
    "# import mujoco after setting MUJOCO_GL to prevent errors in video rendering\n",
    "import mujoco\n",
    "from mujoco_playground._src import mjx_env\n",
    "from typing import List\n",
    "\n",
    "from src.environment.env_wrapper import Go1Env\n",
    "from src.environment.traversability_map import TraversabilityMap, TraversabilityMapConfig\n",
    "from src.control.controller_factory import ControllerFactory\n",
    "from src.control.position_controller import PositionController, PositionCommand\n",
    "from src.control.algorithms.mlp import MLPPolicy, MLPPolicyParams\n",
    "from src.mission_executer import EpisodeResult, MissionConfig, MissionExecuter\n",
    "from src.control.position_controller import (\n",
    "    create_position_controller,\n",
    "    PositionControllerParams,\n",
    "    SequentialControllerParams,\n",
    "    PolarCoordinateControllerParams,\n",
    ")"
   ]
  },
  {
   "cell_type": "code",
   "execution_count": 8,
   "metadata": {
    "colab": {
     "base_uri": "https://localhost:8080/"
    },
    "id": "XcBqDs8e0fek",
    "outputId": "b54ca2fb-8717-4850-c3c9-a0128d7c3206"
   },
   "outputs": [
    {
     "data": {
      "text/plain": [
       "array([[1, 1, 1, 1, 1],\n",
       "       [0, 0, 0, 0, 1],\n",
       "       [1, 0, 1, 1, 1],\n",
       "       [1, 0, 0, 0, 1],\n",
       "       [1, 1, 1, 1, 1]], dtype=int32)"
      ]
     },
     "execution_count": 8,
     "metadata": {},
     "output_type": "execute_result"
    }
   ],
   "source": [
    "# instantiate mujoco Env\n",
    "env_name = \"Go1JoystickFlatTerrain\"\n",
    "rng = jax.random.PRNGKey(0)\n",
    "env = Go1Env(env_name=env_name)\n",
    "\n",
    "# create traversability map\n",
    "trav_map_config = TraversabilityMapConfig()\n",
    "trav_map = TraversabilityMap(trav_map_config)\n",
    "trav_map.load_from_grid(grid)  # or trav_map.load_grid(\"assets/floor1.jpg\")"
   ]
  },
  {
   "cell_type": "code",
   "execution_count": 9,
   "metadata": {
    "id": "WFhzEtJfFTwP"
   },
   "outputs": [],
   "source": [
    "def modify_scn_fn(scene):\n",
    "    \"\"\"Modify the rendering scene to change lighting.\"\"\"\n",
    "    light_id = 0  # Adjust this if you have multiple lights\n",
    "    scene.lights[light_id].ambient = [0.0, 0.0, 0.0]\n",
    "    scene.lights[light_id].diffuse = [0.1, 0.1, 0.1]  # Change color\n",
    "    scene.lights[light_id].specular = [0.0, 0.0, 0.0]\n",
    "\n",
    "    light_id = 1  # Adjust this if you have multiple lights\n",
    "    scene.lights[light_id].ambient = [0.0, 0.0, 0.0]\n",
    "    scene.lights[light_id].exponent = 50.0  # Strong falloff at edges\n",
    "    scene.lights[light_id].cutoff = 65.0  # Spotlight effect\n",
    "    scene.lights[light_id].diffuse = [1.0, 1.0, 1.0]  # Change color\n",
    "    scene.lights[light_id].specular = [0.0, 0.0, 0.0]\n",
    "\n",
    "\n",
    "# Set up the camera\n",
    "camera = mujoco.MjvCamera()\n",
    "mujoco.mjv_defaultCamera(camera)\n",
    "\n",
    "# Object is centered at (0,0,1.5) with size 15m x 15m x 3m\n",
    "camera.lookat[:] = np.array([2.0, 1.5, 1.5])  # Center of object\n",
    "\n",
    "# Calculate distance using a safe margin\n",
    "object_size = 6  # Maximum size in X or Y\n",
    "fov = 45  # Default MuJoCo camera FOV\n",
    "safe_margin = 1  # Factor to ensure entire object is in view\n",
    "\n",
    "# Compute required distance using field of view\n",
    "camera.distance = (object_size / 2) / np.tan(np.radians(fov / 2)) * safe_margin\n",
    "\n",
    "# Look directly down\n",
    "camera.azimuth = 90  # No horizontal rotation\n",
    "camera.elevation = -70  # Directly downward\n",
    "\n",
    "scene_option = mujoco.MjvOption()\n",
    "scene_option.geomgroup[2] = True\n",
    "scene_option.geomgroup[3] = False\n",
    "scene_option.flags[mujoco.mjtVisFlag.mjVIS_CONTACTPOINT] = True\n",
    "scene_option.flags[mujoco.mjtVisFlag.mjVIS_CONTACTFORCE] = False\n",
    "scene_option.flags[mujoco.mjtVisFlag.mjVIS_TRANSPARENT] = False"
   ]
  },
  {
   "cell_type": "markdown",
   "metadata": {
    "id": "gt34bGwSDJDS"
   },
   "source": [
    "###  Define Helper Functions"
   ]
  },
  {
   "cell_type": "code",
   "execution_count": 10,
   "metadata": {
    "id": "GB5NorWvGRYp"
   },
   "outputs": [],
   "source": [
    "velocity_kick_range = [0.0, 0.0]  # Disable velocity kick.\n",
    "kick_duration_range = [0.05, 0.2]\n",
    "\n",
    "\n",
    "def sample_pert(rng, env, state):\n",
    "    \"\"\"\n",
    "    Random purterbation to the robot\n",
    "    \"\"\"\n",
    "    rng, key1, key2 = jax.random.split(rng, 3)\n",
    "    pert_mag = jax.random.uniform(key1, minval=velocity_kick_range[0], maxval=velocity_kick_range[1])\n",
    "    duration_seconds = jax.random.uniform(key2, minval=kick_duration_range[0], maxval=kick_duration_range[1])\n",
    "    duration_steps = jax.numpy.round(duration_seconds / env.dt).astype(jax.numpy.int32)\n",
    "    state.info[\"pert_mag\"] = pert_mag\n",
    "    state.info[\"pert_duration\"] = duration_steps\n",
    "    state.info[\"pert_duration_seconds\"] = duration_seconds\n",
    "    return rng\n",
    "\n",
    "\n",
    "def update_position_history(position_history, current_position):\n",
    "    # Only update position_history is the robot enters a new cell (by comparing position in integer)\n",
    "    if len(position_history) == 0:\n",
    "        position_history.append(current_position.astype(np.int32))\n",
    "        return position_history\n",
    "    if np.array_equal(position_history[-1].astype(np.int32), current_position.astype(np.int32)):\n",
    "        return position_history\n",
    "    else:\n",
    "        position_history.append(current_position.astype(np.int32))\n",
    "    return position_history\n",
    "\n",
    "\n",
    "def run_one_episode(\n",
    "    env: Go1Env,\n",
    "    command_generator: PositionController,\n",
    "    # instead of using base class Controller, we use subclass MLPPolicy as this method is very customized\n",
    "    command_follower: MLPPolicy,\n",
    "    traversability_map: TraversabilityMap,\n",
    "    waypoints: List[np.ndarray],\n",
    "    max_sim_steps: int,\n",
    "    rng: jax.Array,\n",
    ") -> EpisodeResult:\n",
    "    rollout: List[mjx_env.State] = []\n",
    "    position_history: List[np.ndarray] = []\n",
    "    waypoint_idx: int = 0\n",
    "\n",
    "    _, rng = jax.random.split(rng)\n",
    "    state = env.reset(rng)\n",
    "\n",
    "    # start closed-loop sim\n",
    "    for i in tqdm(range(max_sim_steps)):\n",
    "        _, rng = jax.random.split(rng)  # this will randomize perturbation\n",
    "        rng = sample_pert(rng, env, state)\n",
    "\n",
    "        # calculate control command\n",
    "        cell_center_offset = 0.5\n",
    "        target_position = waypoints[waypoint_idx] + cell_center_offset\n",
    "        pos_command: PositionCommand = command_generator.compute_command(state, target_position)\n",
    "        state.info[\"command\"] = pos_command.command\n",
    "\n",
    "        ctrl = command_follower.control(state.obs[\"state\"])  # controller step\n",
    "        state = env.step(state, ctrl)  # simulator step\n",
    "\n",
    "        # record\n",
    "        rollout.append(state)\n",
    "        position_history = update_position_history(position_history, pos_command.info.pos[:2])\n",
    "\n",
    "        # check failure\n",
    "        if not traversability_map.is_valid_position(pos_command.info.pos[:2]):\n",
    "            return EpisodeResult(status=\"Stop\", position_history=position_history, rollout=rollout)\n",
    "\n",
    "        # check arrival at current waypoint\n",
    "        if pos_command.info.is_arrived:\n",
    "            waypoint_idx = min(waypoint_idx + 1, len(waypoints))  # proceed to next waypoint\n",
    "\n",
    "            # Check if the arrived at the last waypoint\n",
    "            if waypoint_idx == len(waypoints):\n",
    "                return EpisodeResult(status=\"Success\", position_history=position_history, rollout=rollout)\n",
    "\n",
    "    return EpisodeResult(status=\"Timeout\", position_history=position_history, rollout=rollout)"
   ]
  },
  {
   "cell_type": "markdown",
   "metadata": {
    "id": "FKA1AJnXrn0O"
   },
   "source": [
    "## Demo: Nagivating a go1 quadruped through a maze with Gemini-thinking Model\n",
    "**The main navigation loop:**\n",
    "1. Get waypoints from LLM planner\n",
    "2. Execute waypoints using controllers\n",
    "3. Provide feedback to LLM if attempt fails\n",
    "4. Repeat until goal is reached or max attempts exceeded\n",
    "\n",
    "The following picture illustrates the flowchart of the navigation task.\n",
    "![](https://github.com/shaoanlu/llm_mjx_go1_playground/raw/main/assets/llm_go1_navigation.png)\n"
   ]
  },
  {
   "cell_type": "markdown",
   "metadata": {
    "id": "0sAeW2U5aC7z"
   },
   "source": [
    "### LLM Path Planner\n",
    "A free tier Google API key is required to instantiate the `LLMNavigator` class. You can obtain one from [AU Studio](https://aistudio.google.com/app/apikey) with detailed instructions in [this docs](https://ai.google.dev/gemini-api/docs/api-key).\n",
    "\n",
    "We use the LLM as the path planner:\n",
    "- Takes the current state and failed attempts as input\n",
    "- Outputs a sequence of waypoints for the robot to follow\n",
    "- Adapts the plan based on feedback from failed attempts"
   ]
  },
  {
   "cell_type": "code",
   "execution_count": 23,
   "metadata": {
    "id": "tju8A1hp0fel"
   },
   "outputs": [],
   "source": [
    "from google import genai\n",
    "from google.colab import userdata\n",
    "from src.planning.llm_nagivator import GeminiThinkingNavigator\n",
    "\n",
    "\n",
    "client = genai.Client(api_key=userdata.get(\"GOOGLE_API_KEY\"), http_options={\"api_version\": \"v1alpha\"})\n",
    "llm_navigator = GeminiThinkingNavigator(client, model_name=\"gemini-2.0-flash-thinking-exp\")"
   ]
  },
  {
   "cell_type": "markdown",
   "metadata": {
    "id": "FY5IPFW0aYRd"
   },
   "source": [
    "### Robot Controller\n",
    "We use two levels of control:\n",
    "1. High-level position controller that follows waypoints\n",
    "2. Low-level MLP policy that controls individual joint movements"
   ]
  },
  {
   "cell_type": "code",
   "execution_count": 12,
   "metadata": {
    "colab": {
     "base_uri": "https://localhost:8080/"
    },
    "id": "eSBEmVijUCLG",
    "outputId": "a495162b-a3f5-4673-8f8e-922ba6686b0c"
   },
   "outputs": [
    {
     "data": {
      "text/plain": [
       "MissionConfig(goal=(4, 4), max_sim_steps=1000, retry_delay_sec=5, max_attempts=20)"
      ]
     },
     "execution_count": 12,
     "metadata": {},
     "output_type": "execute_result"
    }
   ],
   "source": [
    "# Instantiate controller based on env_name\n",
    "factory = ControllerFactory()\n",
    "controller_config = {\"algorithm_type\": \"mlp\", \"npy_path\": f\"src/control/nn_params/{env_name}\"}\n",
    "mlp_params = MLPPolicyParams.from_dict(controller_config)\n",
    "command_follower = factory.build(params=mlp_params)\n",
    "\n",
    "pc_config = PositionControllerParams(\n",
    "    # PolarCoordinateControllerParams() is faster but can deviate from the straight path\n",
    "    primary_controller=SequentialControllerParams(),\n",
    "    fallback_controller=SequentialControllerParams(),\n",
    ")\n",
    "command_generator = create_position_controller(controller_factory=factory, config=pc_config)\n",
    "\n",
    "# Instantiate the ochestrator for mission execution\n",
    "instruction = open(\"examples/prompt.txt\", \"r\").read()\n",
    "mission_config = MissionConfig()\n",
    "mission_config.max_attempts = 20\n",
    "mission_config.max_sim_steps = 1000\n",
    "mission_executer = MissionExecuter(config=mission_config, instruction_prompt=instruction)\n",
    "mission_config"
   ]
  },
  {
   "cell_type": "markdown",
   "metadata": {
    "id": "FNrwp58g0fem"
   },
   "source": [
    "### Create a partially applied function with fixed arguments for closed-loop simulation"
   ]
  },
  {
   "cell_type": "code",
   "execution_count": 13,
   "metadata": {
    "id": "guN8dElQMP_3"
   },
   "outputs": [],
   "source": [
    "from functools import partial\n",
    "\n",
    "run_one_episode_func = partial(\n",
    "    run_one_episode,\n",
    "    env=env,\n",
    "    command_generator=command_generator,\n",
    "    command_follower=command_follower,\n",
    "    traversability_map=trav_map,\n",
    ")"
   ]
  },
  {
   "cell_type": "markdown",
   "metadata": {
    "id": "Cwjnm0U7Ujcz"
   },
   "source": [
    "## Start Navigation\n",
    "\n",
    "I takes some time for the first simulation step. During simulation, the intermediate reuslt of attemps will be printed out, including the prompt, the waypoints suggested by LLM, and the result."
   ]
  },
  {
   "cell_type": "code",
   "execution_count": 24,
   "metadata": {
    "colab": {
     "base_uri": "https://localhost:8080/"
    },
    "id": "4Wt_009nF5xy",
    "outputId": "b8ba61eb-8d71-4aec-d333-33cbf8240c76"
   },
   "outputs": [
    {
     "name": "stderr",
     "output_type": "stream",
     "text": [
      " 20%|██        | 204/1000 [00:03<00:15, 51.62it/s]\n"
     ]
    },
    {
     "name": "stdout",
     "output_type": "stream",
     "text": [
      "[Trial 1]\n",
      "prompt='You are a path planner for a quadruped robot navigating in a partially known 5x5 grid environment. Your task is to guide the robot from the start position (0,0) to the goal position (4,4).\\n\\nEnvironment specifications:\\n- Grid size: 5x5\\n- Start position: (0,0)\\n- Goal position: (4,4)\\n- Some cells are not traversable, but their status is only revealed when the robot attempts to traverse them\\n\\nPath planning constraints:\\n1. Maximum 10 waypoints allowed per path\\n2. Consecutive waypoints moving in the same direction must be simplified\\n   Example: [(0,0), (1,0), (2,0), (2,1)] should be simplified to [(0,0), (2,0), (2,1)]\\n\\nExpected output format:\\nProvide only a list of coordinates in the format:\\n[(x0,y0), (x1,y1), ..., (xn,yn)]\\n\\nPossible execution outcomes:\\n1. Success: Robot reaches the goal\\n2. Failed (Obstacle): \"Failed: stop at (X,Y), traversed cells: [(x0,y0), (x1,y1), ...]\"\\n   - Episode terminates when hitting an untraversable cell\\n   - Remaining waypoints are discarded\\n3. Failed (Timeout): \"Failed: timeout at (X,Y), traversed cells: [(x0,y0), (x1,y1), ...]\"\\n\\nPlanning strategy:\\n- Use the feedback from failed attempts to refine subsequent path planning\\n- Adapt the path based on discovered untraversable cells\\n- Consider alternative routes when previous attempts fail\\n\\nImportant notes:\\n- Respond ONLY with the waypoint list\\n- No additional text or explanations\\n- Each new attempt should incorporate information from previous failures\\n\\nStart. you are at somwwhere near (0, 0).'\n",
      "waypoints=[array([0, 0]), array([4, 4])]\n",
      "result.status='Stop'(1, 1) \tresult.position_history=[array([0, 0], dtype=int32), array([0, 1], dtype=int32), array([1, 1], dtype=int32)]\n",
      "\n"
     ]
    },
    {
     "name": "stderr",
     "output_type": "stream",
     "text": [
      " 12%|█▏        | 119/1000 [00:01<00:13, 67.26it/s]\n"
     ]
    },
    {
     "name": "stdout",
     "output_type": "stream",
     "text": [
      "[Trial 2]\n",
      "prompt='Failed: Stop at (1, 1), traversed cells: [(0, 0), (0, 1), (1, 1)]'\n",
      "waypoints=[array([0, 0]), array([4, 0]), array([4, 4])]\n",
      "result.status='Stop'(1, 0) \tresult.position_history=[array([0, 0], dtype=int32), array([1, 0], dtype=int32)]\n",
      "\n"
     ]
    },
    {
     "name": "stderr",
     "output_type": "stream",
     "text": [
      " 26%|██▌       | 257/1000 [00:03<00:10, 71.95it/s]\n"
     ]
    },
    {
     "name": "stdout",
     "output_type": "stream",
     "text": [
      "[Trial 3]\n",
      "prompt='Failed: Stop at (1, 0), traversed cells: [(0, 0), (1, 0)]'\n",
      "waypoints=[array([0, 0]), array([0, 2]), array([4, 2]), array([4, 4])]\n",
      "result.status='Stop'(1, 2) \tresult.position_history=[array([0, 0], dtype=int32), array([0, 1], dtype=int32), array([0, 2], dtype=int32), array([1, 2], dtype=int32)]\n",
      "\n"
     ]
    },
    {
     "name": "stderr",
     "output_type": "stream",
     "text": [
      " 13%|█▎        | 128/1000 [00:01<00:13, 65.26it/s]\n"
     ]
    },
    {
     "name": "stdout",
     "output_type": "stream",
     "text": [
      "[Trial 4]\n",
      "prompt='Failed: Stop at (1, 2), traversed cells: [(0, 0), (0, 1), (0, 2), (1, 2)]'\n",
      "waypoints=[array([0, 0]), array([2, 0]), array([2, 4]), array([4, 4])]\n",
      "result.status='Stop'(1, 0) \tresult.position_history=[array([0, 0], dtype=int32), array([1, 0], dtype=int32)]\n",
      "\n"
     ]
    },
    {
     "name": "stderr",
     "output_type": "stream",
     "text": [
      " 32%|███▏      | 324/1000 [00:07<00:15, 44.21it/s]\n"
     ]
    },
    {
     "name": "stdout",
     "output_type": "stream",
     "text": [
      "[Trial 5]\n",
      "prompt='Failed: Stop at (1, 0), traversed cells: [(0, 0), (1, 0)]'\n",
      "waypoints=[array([0, 0]), array([0, 3]), array([4, 3]), array([4, 4])]\n",
      "result.status='Stop'(1, 3) \tresult.position_history=[array([0, 0], dtype=int32), array([0, 1], dtype=int32), array([0, 2], dtype=int32), array([0, 3], dtype=int32), array([1, 3], dtype=int32)]\n",
      "\n"
     ]
    },
    {
     "name": "stderr",
     "output_type": "stream",
     "text": [
      " 52%|█████▏    | 523/1000 [00:11<00:10, 47.33it/s]"
     ]
    },
    {
     "name": "stdout",
     "output_type": "stream",
     "text": [
      "[Trial 6]\n",
      "prompt='Failed: Stop at (1, 3), traversed cells: [(0, 0), (0, 1), (0, 2), (0, 3), (1, 3)]'\n",
      "waypoints=[array([0, 0]), array([0, 4]), array([4, 4])]\n",
      "result.status='Success'(4, 4) \tresult.position_history=[array([0, 0], dtype=int32), array([0, 1], dtype=int32), array([0, 2], dtype=int32), array([0, 3], dtype=int32), array([0, 4], dtype=int32), array([1, 4], dtype=int32), array([2, 4], dtype=int32), array([3, 4], dtype=int32), array([4, 4], dtype=int32)]\n",
      "\n"
     ]
    },
    {
     "name": "stderr",
     "output_type": "stream",
     "text": [
      "\n"
     ]
    }
   ],
   "source": [
    "result = mission_executer.execute_mission(planner=llm_navigator, execute_single_attempt=run_one_episode_func, rng=rng)"
   ]
  },
  {
   "cell_type": "code",
   "execution_count": 14,
   "metadata": {
    "id": "Rvkst6KSSfUI"
   },
   "outputs": [],
   "source": []
  },
  {
   "cell_type": "markdown",
   "metadata": {
    "id": "GK4I7B0p0fem"
   },
   "source": [
    "## Results Visualization\n",
    "\n",
    "### Render Navigation Video\n",
    "Visualize the successful navigation attempt:\n",
    "- Shows the robot's movement through the maze\n",
    "- Includes fog of war effect to highlight explored areas\n",
    "- Demonstrates how the robot avoids discovered obstacles"
   ]
  },
  {
   "cell_type": "code",
   "execution_count": 15,
   "metadata": {
    "colab": {
     "base_uri": "https://localhost:8080/"
    },
    "id": "kcE9T8r2bgFr",
    "outputId": "60b640eb-0865-40ec-d9ea-5126248df287"
   },
   "outputs": [
    {
     "name": "stderr",
     "output_type": "stream",
     "text": [
      "100%|██████████| 135/135 [01:39<00:00,  1.36it/s]\n"
     ]
    }
   ],
   "source": [
    "render_every = 10\n",
    "fps = 3.0 / env.dt / render_every  # 3x realtime\n",
    "traj = result.rollouts[::render_every]\n",
    "\n",
    "\n",
    "frames = env.render(\n",
    "    traj, camera=camera, scene_option=scene_option, height=480, width=640, modify_scene_fns=[modify_scn_fn] * len(traj)\n",
    ")"
   ]
  },
  {
   "cell_type": "code",
   "execution_count": null,
   "metadata": {
    "id": "0jExn9pp5XdY"
   },
   "outputs": [],
   "source": [
    "from src.visualization import apply_fog_of_war\n",
    "\n",
    "# mediapy.show_video(frames, fps=fps, loop=False)\n",
    "mediapy.show_video(apply_fog_of_war(frames, alpha=0.7, gamma=1.1), fps=fps, loop=False)"
   ]
  },
  {
   "cell_type": "code",
   "execution_count": 19,
   "metadata": {
    "colab": {
     "base_uri": "https://localhost:8080/",
     "height": 520
    },
    "id": "7TKK_h53cKJT",
    "outputId": "a979a791-d3a6-4ece-c1f1-292684fdb148"
   },
   "outputs": [
    {
     "data": {
      "text/html": [
       "<style>\n",
       "      .ndarray_repr .ndarray_raw_data {\n",
       "        display: none;\n",
       "      }\n",
       "      .ndarray_repr.show_array .ndarray_raw_data {\n",
       "        display: block;\n",
       "      }\n",
       "      .ndarray_repr.show_array .ndarray_image_preview {\n",
       "        display: none;\n",
       "      }\n",
       "      </style>\n",
       "      <div id=\"id-e7100229-0784-4ba3-bd71-038c0148aa23\" class=\"ndarray_repr\"><pre>ndarray (480, 640, 3) <button style=\"padding: 0 2px;\">show data</button></pre><img src=\"data:image/png;base64,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\" class=\"ndarray_image_preview\" /><pre class=\"ndarray_raw_data\">array([[[23, 23, 23],\n",
       "        [23, 23, 23],\n",
       "        [23, 23, 23],\n",
       "        ...,\n",
       "        [23, 23, 23],\n",
       "        [23, 23, 23],\n",
       "        [23, 23, 23]],\n",
       "\n",
       "       [[23, 23, 23],\n",
       "        [23, 23, 23],\n",
       "        [23, 23, 23],\n",
       "        ...,\n",
       "        [23, 23, 23],\n",
       "        [23, 23, 23],\n",
       "        [23, 23, 23]],\n",
       "\n",
       "       [[23, 23, 23],\n",
       "        [23, 23, 23],\n",
       "        [23, 23, 23],\n",
       "        ...,\n",
       "        [23, 23, 23],\n",
       "        [23, 23, 23],\n",
       "        [23, 23, 23]],\n",
       "\n",
       "       ...,\n",
       "\n",
       "       [[45, 45, 45],\n",
       "        [46, 46, 46],\n",
       "        [45, 45, 45],\n",
       "        ...,\n",
       "        [23, 23, 23],\n",
       "        [24, 24, 24],\n",
       "        [24, 24, 24]],\n",
       "\n",
       "       [[45, 45, 45],\n",
       "        [45, 45, 45],\n",
       "        [44, 44, 44],\n",
       "        ...,\n",
       "        [23, 23, 23],\n",
       "        [24, 24, 24],\n",
       "        [24, 24, 24]],\n",
       "\n",
       "       [[45, 45, 45],\n",
       "        [45, 45, 45],\n",
       "        [42, 42, 42],\n",
       "        ...,\n",
       "        [22, 22, 22],\n",
       "        [24, 24, 24],\n",
       "        [24, 24, 24]]], dtype=uint8)</pre></div><script>\n",
       "      (() => {\n",
       "      const titles = ['show data', 'hide data'];\n",
       "      let index = 0\n",
       "      document.querySelector('#id-e7100229-0784-4ba3-bd71-038c0148aa23 button').onclick = (e) => {\n",
       "        document.querySelector('#id-e7100229-0784-4ba3-bd71-038c0148aa23').classList.toggle('show_array');\n",
       "        index = (++index) % 2;\n",
       "        document.querySelector('#id-e7100229-0784-4ba3-bd71-038c0148aa23 button').textContent = titles[index];\n",
       "        e.preventDefault();\n",
       "        e.stopPropagation();\n",
       "      }\n",
       "      })();\n",
       "    </script>"
      ],
      "text/plain": [
       "array([[[23, 23, 23],\n",
       "        [23, 23, 23],\n",
       "        [23, 23, 23],\n",
       "        ...,\n",
       "        [23, 23, 23],\n",
       "        [23, 23, 23],\n",
       "        [23, 23, 23]],\n",
       "\n",
       "       [[23, 23, 23],\n",
       "        [23, 23, 23],\n",
       "        [23, 23, 23],\n",
       "        ...,\n",
       "        [23, 23, 23],\n",
       "        [23, 23, 23],\n",
       "        [23, 23, 23]],\n",
       "\n",
       "       [[23, 23, 23],\n",
       "        [23, 23, 23],\n",
       "        [23, 23, 23],\n",
       "        ...,\n",
       "        [23, 23, 23],\n",
       "        [23, 23, 23],\n",
       "        [23, 23, 23]],\n",
       "\n",
       "       ...,\n",
       "\n",
       "       [[45, 45, 45],\n",
       "        [46, 46, 46],\n",
       "        [45, 45, 45],\n",
       "        ...,\n",
       "        [23, 23, 23],\n",
       "        [24, 24, 24],\n",
       "        [24, 24, 24]],\n",
       "\n",
       "       [[45, 45, 45],\n",
       "        [45, 45, 45],\n",
       "        [44, 44, 44],\n",
       "        ...,\n",
       "        [23, 23, 23],\n",
       "        [24, 24, 24],\n",
       "        [24, 24, 24]],\n",
       "\n",
       "       [[45, 45, 45],\n",
       "        [45, 45, 45],\n",
       "        [42, 42, 42],\n",
       "        ...,\n",
       "        [22, 22, 22],\n",
       "        [24, 24, 24],\n",
       "        [24, 24, 24]]], dtype=uint8)"
      ]
     },
     "execution_count": 19,
     "metadata": {},
     "output_type": "execute_result"
    }
   ],
   "source": [
    "frames[0]"
   ]
  },
  {
   "cell_type": "code",
   "execution_count": null,
   "metadata": {
    "id": "Loey4Y_SOxhM"
   },
   "outputs": [],
   "source": []
  },
  {
   "cell_type": "markdown",
   "metadata": {
    "id": "tr6GDI3E5Y7M"
   },
   "source": [
    "## Extra: Ask LLM to infer the map with uncertainty"
   ]
  },
  {
   "cell_type": "code",
   "execution_count": 26,
   "metadata": {
    "colab": {
     "base_uri": "https://localhost:8080/",
     "height": 35
    },
    "id": "kRaJ3XfV3Sqe",
    "outputId": "c0748b9c-a2da-4f61-afa5-75ce5a5a3fa2"
   },
   "outputs": [
    {
     "data": {
      "application/vnd.google.colaboratory.intrinsic+json": {
       "type": "string"
      },
      "text/plain": [
       "'Success: reached (4, 4), traversed cells: [(0, 0), (0, 1), (0, 2), (0, 3), (0, 4), (1, 4), (2, 4), (3, 4), (4, 4)]'"
      ]
     },
     "execution_count": 26,
     "metadata": {},
     "output_type": "execute_result"
    }
   ],
   "source": [
    "def create_ask_for_map_prompt(result):\n",
    "    x, y = result.position_history[-1].astype(int)\n",
    "    return (\n",
    "        f\"Success: reached ({x}, {y}), traversed cells: {[tuple(np.round(x_, 1)) for x_ in result.position_history]}\"\n",
    "    )\n",
    "\n",
    "\n",
    "create_ask_for_map_prompt(result)"
   ]
  },
  {
   "cell_type": "code",
   "execution_count": 29,
   "metadata": {
    "id": "K3eaMgA6bRhR"
   },
   "outputs": [],
   "source": [
    "response = llm_navigator.chat.send_message(\n",
    "    [\n",
    "        create_ask_for_map_prompt(result)\n",
    "        + f\"Now, based on all of the attemps, reason about the environment from start to goal and draw a 5x5 grid map using '0', '1', and '?', where '0' repreents a wall, '1' a path cell, and '?' a cell you are uncertain.\"\n",
    "    ]\n",
    ")"
   ]
  },
  {
   "cell_type": "code",
   "execution_count": 30,
   "metadata": {
    "colab": {
     "base_uri": "https://localhost:8080/"
    },
    "id": "dOO2uupx1DsE",
    "outputId": "9ee8491d-c9ab-4bfb-8b79-bbafbaaab85e"
   },
   "outputs": [
    {
     "name": "stdout",
     "output_type": "stream",
     "text": [
      "```\n",
      "1 1 1 1 1\n",
      "0 0 0 0 1\n",
      "? ? ? ? 1\n",
      "? ? ? ? 1\n",
      "? ? ? ? 1\n",
      "```\n"
     ]
    }
   ],
   "source": [
    "print(response.text)\n",
    "# this actually match the explored cell of the robot"
   ]
  },
  {
   "cell_type": "markdown",
   "metadata": {
    "id": "fkMnf-lW5ls_"
   },
   "source": [
    "And ask LLM to plan more paths to epxlore the entire map"
   ]
  },
  {
   "cell_type": "code",
   "execution_count": 31,
   "metadata": {
    "colab": {
     "base_uri": "https://localhost:8080/",
     "height": 53
    },
    "id": "jjUK88ri1Duc",
    "outputId": "2ee4ec86-329a-4142-a54c-8cfed57e50ad"
   },
   "outputs": [
    {
     "data": {
      "application/vnd.google.colaboratory.intrinsic+json": {
       "type": "string"
      },
      "text/plain": [
       "'[(0,0), (2,0), (2,1), (2,2), (2,3), (2,4)]\\n[(0,0), (3,0), (3,1), (3,2), (3,3), (3,4)]\\n[(0,0), (4,0), (4,1), (4,2), (4,3)]\\n[(0,0), (0,4), (4,4), (4,0), (3,0), (2,0)]\\n[(0,0), (0,4), (4,4), (4,2), (3,2), (2,2)]'"
      ]
     },
     "execution_count": 31,
     "metadata": {},
     "output_type": "execute_result"
    }
   ],
   "source": [
    "llm_navigator.chat.send_message([\"Suggest 5 more paths in order for you to fill the unknow cells\"]).text\n",
    "# these paths are not the most effective ones though (many of them lead to hitting the wall immediately)"
   ]
  },
  {
   "cell_type": "code",
   "execution_count": null,
   "metadata": {
    "id": "nhcLCvXWbRj6"
   },
   "outputs": [],
   "source": []
  },
  {
   "cell_type": "code",
   "execution_count": null,
   "metadata": {
    "id": "Yi3fsxXZbRmm"
   },
   "outputs": [],
   "source": []
  }
 ],
 "metadata": {
  "colab": {
   "provenance": []
  },
  "kernelspec": {
   "display_name": "Python 3",
   "name": "python3"
  },
  "language_info": {
   "codemirror_mode": {
    "name": "ipython",
    "version": 3
   },
   "file_extension": ".py",
   "mimetype": "text/x-python",
   "name": "python",
   "nbconvert_exporter": "python",
   "pygments_lexer": "ipython3",
   "version": "3.12.3"
  }
 },
 "nbformat": 4,
 "nbformat_minor": 0
}
