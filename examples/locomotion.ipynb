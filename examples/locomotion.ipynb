{
 "cells": [
  {
   "cell_type": "markdown",
   "metadata": {
    "id": "FPsnZakTrFGS"
   },
   "source": [
    "# Installations and Imports"
   ]
  },
  {
   "cell_type": "code",
   "execution_count": 1,
   "metadata": {
    "cellView": "form",
    "id": "Xqo7pyX-n72M"
   },
   "outputs": [],
   "source": [
    "%%capture\n",
    "!pip install mujoco mujoco_mjx brax playground\n",
    "!command -v ffmpeg >/dev/null || (apt update && apt install -y ffmpeg)\n",
    "!pip install -q mediapy\n",
    "!apt-get update\n",
    "!apt-get install -y libosmesa6-dev libgl1-mesa-glx libglfw3 patchelf"
   ]
  },
  {
   "cell_type": "code",
   "execution_count": 2,
   "metadata": {
    "id": "T5f4w3Kq2X14"
   },
   "outputs": [],
   "source": [
    "import jax\n",
    "import numpy as np\n",
    "import matplotlib.pyplot as plt\n",
    "import mediapy\n",
    "import os\n",
    "from tqdm import tqdm\n",
    "\n",
    "os.environ[\"MUJOCO_GL\"] = \"egl\"\n",
    "\n",
    "# More legible printing from numpy.\n",
    "np.set_printoptions(precision=3, suppress=True, linewidth=100)"
   ]
  },
  {
   "cell_type": "code",
   "execution_count": 3,
   "metadata": {
    "id": "yrRlA4wZafLO"
   },
   "outputs": [],
   "source": [
    "# import mujoco after setting MUJOCO_GL to prevent errors in video rendering\n",
    "import mujoco"
   ]
  },
  {
   "cell_type": "markdown",
   "metadata": {
    "id": "hssKFDcnrFGW"
   },
   "source": [
    "# Clone Repository"
   ]
  },
  {
   "cell_type": "code",
   "execution_count": 4,
   "metadata": {
    "colab": {
     "base_uri": "https://localhost:8080/"
    },
    "id": "2ZnNqQU0TQvb",
    "outputId": "3cbdc91c-8cd3-4316-e3d7-dcd3afa7aa8f"
   },
   "outputs": [
    {
     "name": "stdout",
     "output_type": "stream",
     "text": [
      "Cloning into 'llm_mjx_go1_playground'...\n",
      "remote: Enumerating objects: 414, done.\u001b[K\n",
      "remote: Counting objects: 100% (414/414), done.\u001b[K\n",
      "remote: Compressing objects: 100% (291/291), done.\u001b[K\n",
      "remote: Total 414 (delta 201), reused 289 (delta 107), pack-reused 0 (from 0)\u001b[K\n",
      "Receiving objects: 100% (414/414), 6.56 MiB | 11.51 MiB/s, done.\n",
      "Resolving deltas: 100% (201/201), done.\n"
     ]
    }
   ],
   "source": [
    "!git clone https://github.com/shaoanlu/llm_mjx_go1_playground.git"
   ]
  },
  {
   "cell_type": "code",
   "execution_count": 5,
   "metadata": {
    "colab": {
     "base_uri": "https://localhost:8080/"
    },
    "id": "pQXZu_W7ExY6",
    "outputId": "608339c2-8ebd-48fc-8438-3d84103ac4e7"
   },
   "outputs": [
    {
     "name": "stdout",
     "output_type": "stream",
     "text": [
      "/content/llm_mjx_go1_playground\n"
     ]
    }
   ],
   "source": [
    "%cd llm_mjx_go1_playground"
   ]
  },
  {
   "cell_type": "code",
   "execution_count": 6,
   "metadata": {
    "colab": {
     "base_uri": "https://localhost:8080/"
    },
    "id": "ec1V41OyRtfw",
    "outputId": "bfc987b3-8ee8-451b-8ac4-950c88fc825d"
   },
   "outputs": [
    {
     "name": "stdout",
     "output_type": "stream",
     "text": [
      "/content/llm_mjx_go1_playground\n"
     ]
    }
   ],
   "source": [
    "!pwd"
   ]
  },
  {
   "cell_type": "markdown",
   "metadata": {
    "id": "1OeVHTE3rFGX"
   },
   "source": [
    "# Run simulation"
   ]
  },
  {
   "cell_type": "code",
   "execution_count": 7,
   "metadata": {
    "colab": {
     "base_uri": "https://localhost:8080/"
    },
    "id": "Wz09ayKFrg6k",
    "outputId": "3e8b2d1d-0978-442e-b39f-547c18f810d2"
   },
   "outputs": [
    {
     "name": "stdout",
     "output_type": "stream",
     "text": [
      "mujoco_menagerie not found. Downloading...\n"
     ]
    },
    {
     "name": "stderr",
     "output_type": "stream",
     "text": [
      "Cloning mujoco_menagerie: ██████████| 100/100 [00:34<00:00]\n"
     ]
    },
    {
     "name": "stdout",
     "output_type": "stream",
     "text": [
      "Checking out commit 5e6af47a49bf8ae27581615b54045107b20ce584\n",
      "Successfully downloaded mujoco_menagerie\n"
     ]
    }
   ],
   "source": [
    "from src.environment.env_wrapper import Go1Env\n",
    "from src.control.algorithms.mlp import MLPPolicy, MLPPolicyParams\n",
    "from src.control.controller_factory import ConfigFactory, ControllerFactory"
   ]
  },
  {
   "cell_type": "code",
   "execution_count": 8,
   "metadata": {
    "id": "M_a4c1bbHSGi"
   },
   "outputs": [],
   "source": [
    "velocity_kick_range = [0.0, 0.0]  # Disable velocity kick.\n",
    "kick_duration_range = [0.05, 0.2]\n",
    "\n",
    "\n",
    "def sample_pert(rng, env, state):\n",
    "    \"\"\"\n",
    "    Random purterbation to the robot\n",
    "    \"\"\"\n",
    "    rng, key1, key2 = jax.random.split(rng, 3)\n",
    "    pert_mag = jax.random.uniform(key1, minval=velocity_kick_range[0], maxval=velocity_kick_range[1])\n",
    "    duration_seconds = jax.random.uniform(key2, minval=kick_duration_range[0], maxval=kick_duration_range[1])\n",
    "    duration_steps = jax.numpy.round(duration_seconds / env.dt).astype(jax.numpy.int32)\n",
    "    state.info[\"pert_mag\"] = pert_mag\n",
    "    state.info[\"pert_duration\"] = duration_steps\n",
    "    state.info[\"pert_duration_seconds\"] = duration_seconds\n",
    "    return rng"
   ]
  },
  {
   "cell_type": "markdown",
   "metadata": {
    "id": "FKA1AJnXrn0O"
   },
   "source": [
    "## Demo 1: Yaw Command Control With The Factory Pattern\n",
    "### Instantiate simulator and controller\n",
    "Choose `env_name` between `Go1Handstand` and `Go1JoystickFlatTerrain`. This parameter determines the type of controller created by the factory."
   ]
  },
  {
   "cell_type": "code",
   "execution_count": 9,
   "metadata": {
    "id": "CPAZ-oMZrFGY"
   },
   "outputs": [],
   "source": [
    "# instantiate mujoco Env\n",
    "env_name = \"Go1JoystickFlatTerrain\"  # Choose between Go1Handstand and Go1JoystickFlatTerrain\n",
    "rng = jax.random.PRNGKey(0)\n",
    "env = Go1Env(env_name=env_name)\n",
    "\n",
    "# Instantiate controller based on env_name\n",
    "factory = ControllerFactory()\n",
    "factory.register_controller(MLPPolicy, MLPPolicy)\n",
    "controller_config = {\"npy_path\": f\"src/control/nn_params/{env_name}\"}\n",
    "mlp_params = MLPPolicyParams.from_dict(controller_config)\n",
    "controller = factory.build(params=mlp_params)"
   ]
  },
  {
   "cell_type": "code",
   "execution_count": 10,
   "metadata": {
    "colab": {
     "base_uri": "https://localhost:8080/"
    },
    "id": "uo9ezDahrFGY",
    "outputId": "82caa140-5393-4fb1-e34e-b30f317c6cde"
   },
   "outputs": [
    {
     "name": "stderr",
     "output_type": "stream",
     "text": [
      "100%|██████████| 1000/1000 [00:58<00:00, 17.21it/s]\n"
     ]
    }
   ],
   "source": [
    "rollout = []\n",
    "modify_scene_fns = []\n",
    "swing_peak = []\n",
    "linvel = []\n",
    "angvel = []\n",
    "ref_commands = []\n",
    "\n",
    "# Play around the controller by modifying command during runtime\n",
    "cmd_yaw = np.pi\n",
    "command = jax.numpy.array([0, 0, cmd_yaw])\n",
    "\n",
    "# start closed-loop sim\n",
    "state = env.reset(rng)\n",
    "for i in tqdm(range(env.env_cfg.episode_length)):\n",
    "    # halve target yaw velocity every 250 steps\n",
    "    if (env_name == \"Go1JoystickFlatTerrain\") and (i % 250 == 0):\n",
    "        cmd_yaw /= 2\n",
    "        command = jax.numpy.array([0, 0, cmd_yaw])\n",
    "        state.info[\"command\"] = command\n",
    "    try:\n",
    "        if state.info[\"steps_since_last_pert\"] < state.info[\"steps_until_next_pert\"]:\n",
    "            rng = sample_pert(rng, env, state)\n",
    "    except:\n",
    "        pass\n",
    "    _, rng = jax.random.split(rng)  # this will randomize perturbation\n",
    "\n",
    "    ctrl = controller.control(state.obs[\"state\"])  # controller step\n",
    "    state = env.step(state, ctrl)  # simulator step\n",
    "\n",
    "    # record\n",
    "    rollout.append(state)\n",
    "    ref_commands.append(command)\n",
    "    linvel.append(env.get_global_linvel(state.data))\n",
    "    angvel.append(env.get_gyro(state.data))\n",
    "    if env_name == \"Go1JoystickFlatTerrain\":\n",
    "        swing_peak.append(state.info[\"swing_peak\"])"
   ]
  },
  {
   "cell_type": "markdown",
   "metadata": {
    "id": "IlZMaOWxrFGY"
   },
   "source": [
    "### Visualize Simulation Result"
   ]
  },
  {
   "cell_type": "code",
   "execution_count": 11,
   "metadata": {
    "colab": {
     "base_uri": "https://localhost:8080/",
     "height": 877
    },
    "id": "IJMbsfITB5SE",
    "outputId": "f7ed3ccf-6fce-43f9-be7c-62b552b7735d"
   },
   "outputs": [
    {
     "data": {
      "image/png": "[encoded data removed]",
      "text/plain": [
       "<Figure size 640x480 with 4 Axes>"
      ]
     },
     "metadata": {},
     "output_type": "display_data"
    },
    {
     "data": {
      "image/png": "[encoded data removed]",
      "text/plain": [
       "<Figure size 800x400 with 3 Axes>"
      ]
     },
     "metadata": {},
     "output_type": "display_data"
    }
   ],
   "source": [
    "# visualization\n",
    "# Plot each foot in a 2x2 grid.\n",
    "if env_name == \"Go1JoystickFlatTerrain\":\n",
    "    swing_peak = jax.numpy.array(swing_peak)\n",
    "    names = [\"FR\", \"FL\", \"RR\", \"RL\"]\n",
    "    colors = [\"r\", \"g\", \"b\", \"y\"]\n",
    "    fig, axs = plt.subplots(2, 2)\n",
    "    for i, ax in enumerate(axs.flat):\n",
    "        ax.plot(swing_peak[:, i], color=colors[i])\n",
    "        ax.set_ylim([0, env.env_cfg.reward_config.max_foot_height * 1.25])\n",
    "        ax.axhline(env.env_cfg.reward_config.max_foot_height, color=\"k\", linestyle=\"--\")\n",
    "        ax.set_title(names[i])\n",
    "        ax.set_xlabel(\"time\")\n",
    "        ax.set_ylabel(\"height\")\n",
    "    plt.tight_layout()\n",
    "    plt.show()\n",
    "\n",
    "    linvel_x = jax.numpy.array(linvel)[:, 0]\n",
    "    linvel_y = jax.numpy.array(linvel)[:, 1]\n",
    "    angvel_yaw = jax.numpy.array(angvel)[:, 2]\n",
    "\n",
    "    # Plot whether velocity is within the command range.\n",
    "    linvel_x = jax.numpy.convolve(linvel_x, jax.numpy.ones(10) / 10, mode=\"same\")\n",
    "    linvel_y = jax.numpy.convolve(linvel_y, jax.numpy.ones(10) / 10, mode=\"same\")\n",
    "    angvel_yaw = jax.numpy.convolve(angvel_yaw, jax.numpy.ones(10) / 10, mode=\"same\")\n",
    "\n",
    "    fig, axes = plt.subplots(3, 1, figsize=(8, 4))\n",
    "    axes[0].plot(linvel_x)\n",
    "    axes[1].plot(linvel_y)\n",
    "    axes[2].plot(angvel_yaw)\n",
    "\n",
    "    axes[0].set_ylim(-env.env_cfg.command_config.a[0], env.env_cfg.command_config.a[0])\n",
    "    axes[1].set_ylim(-env.env_cfg.command_config.a[1], env.env_cfg.command_config.a[1])\n",
    "    axes[2].set_ylim(-env.env_cfg.command_config.a[2], env.env_cfg.command_config.a[2] * 2)\n",
    "\n",
    "    ref_cmd = jax.numpy.vstack(ref_commands)\n",
    "    for i, ax in enumerate(axes):\n",
    "        ax.plot(ref_cmd[:, i], color=\"red\", linestyle=\"--\")\n",
    "\n",
    "    labels = [\"dx\", \"dy\", \"dyaw\"]\n",
    "    for i, ax in enumerate(axes):\n",
    "        ax.set_ylabel(labels[i])\n",
    "    fig.suptitle(\"Command tracking\")\n",
    "else:\n",
    "    print(\"No signal plots for Go1Handstand\")"
   ]
  },
  {
   "cell_type": "markdown",
   "metadata": {
    "id": "2SpXIKSFafLT"
   },
   "source": [
    "### Video rendering"
   ]
  },
  {
   "cell_type": "code",
   "execution_count": null,
   "metadata": {
    "id": "v4rbVf7GY-Yd"
   },
   "outputs": [],
   "source": [
    "render_every = 2\n",
    "fps = 1.0 / env.dt / render_every\n",
    "traj = rollout[::render_every]\n",
    "\n",
    "scene_option = mujoco.MjvOption()\n",
    "scene_option.geomgroup[2] = True\n",
    "scene_option.geomgroup[3] = False\n",
    "scene_option.flags[mujoco.mjtVisFlag.mjVIS_CONTACTPOINT] = True\n",
    "scene_option.flags[mujoco.mjtVisFlag.mjVIS_CONTACTFORCE] = False\n",
    "scene_option.flags[mujoco.mjtVisFlag.mjVIS_TRANSPARENT] = False\n",
    "\n",
    "frames = env.render(traj, camera=\"track\", scene_option=scene_option, height=480, width=640)\n",
    "mediapy.show_video(frames, fps=fps, loop=False)"
   ]
  },
  {
   "cell_type": "code",
   "execution_count": 12,
   "metadata": {
    "id": "IiGRZP5HoFkC"
   },
   "outputs": [],
   "source": []
  },
  {
   "cell_type": "markdown",
   "metadata": {
    "id": "DkEhFXdxazfb"
   },
   "source": [
    "## Demo 2: Acrobatic movement With The Strategy Pattern\n",
    "This demo demonstrates the usage of strategy pattern to manage switching controller at runtime.\n",
    "\n",
    "The controller is able to perform 4 tasks, and achieves acrobatic movement uninterrupted.\n",
    "- Handstand\n",
    "- Footstand\n",
    "- Yaw command tracking\n",
    "- recovery from failures"
   ]
  },
  {
   "cell_type": "code",
   "execution_count": 16,
   "metadata": {
    "id": "yiNCJbt8ay33"
   },
   "outputs": [],
   "source": [
    "from typing import Dict\n",
    "\n",
    "from src.control.acrobat_controller import create_acrobat_controller_manager, Go1ControllerManagerParams\n",
    "from src.control.acrobat_controller import Go1ControllerType\n",
    "from src.recovery_checker import RecoverState"
   ]
  },
  {
   "cell_type": "code",
   "execution_count": 14,
   "metadata": {
    "id": "bs0gYs5Lay6S"
   },
   "outputs": [],
   "source": [
    "# instantiate mujoco Env\n",
    "env_name = \"Go1Handstand\"  # Fixed to Go1Handstand\n",
    "rng = jax.random.PRNGKey(42)\n",
    "env = Go1Env(env_name=env_name)"
   ]
  },
  {
   "cell_type": "markdown",
   "metadata": {
    "id": "dWwC--XkubhK"
   },
   "source": [
    "There are three polocies available for Go1 env and are defined in `Go1ControllerType` as below\n",
    "```python\n",
    "class Go1ControllerType(Enum):\n",
    "    JOYSTICK = auto()\n",
    "    HANDSTAND = auto()\n",
    "    FOOTSTAND = auto()\n",
    "    GETUP = auto()\n",
    "```"
   ]
  },
  {
   "cell_type": "code",
   "execution_count": 18,
   "metadata": {
    "id": "O8h6yq-Gay8k"
   },
   "outputs": [],
   "source": [
    "def print_switch_controller(\n",
    "    prev_controller_type: Go1ControllerType, current_controller_type: Go1ControllerType, step: int\n",
    "):\n",
    "    \"\"\"Helper function to print active controller type\"\"\"\n",
    "    if current_controller_type != prev_controller_type:\n",
    "        print(f\"\\n[Step {i}] Switch from {prev_controller_type} to {current_controller_type}\\n\")\n",
    "\n",
    "\n",
    "# Create controller manager configuration\n",
    "config = Go1ControllerManagerParams(\n",
    "    controllers={\n",
    "        Go1ControllerType.JOYSTICK: MLPPolicyParams.from_dict(\n",
    "            {\"npy_path\": \"src/control/nn_params/Go1JoystickFlatTerrain\"}\n",
    "        ),\n",
    "        Go1ControllerType.FOOTSTAND: MLPPolicyParams.from_dict({\"npy_path\": \"src/control/nn_params/Go1Footstand\"}),\n",
    "        Go1ControllerType.HANDSTAND: MLPPolicyParams.from_dict({\"npy_path\": \"src/control/nn_params/Go1Handstand\"}),\n",
    "        Go1ControllerType.GETUP: MLPPolicyParams.from_dict({\"npy_path\": \"src/control/nn_params/Go1Getup\"}),\n",
    "    },\n",
    "    default_controller_type=Go1ControllerType.FOOTSTAND,\n",
    "    command_dim=3,\n",
    ")\n",
    "\n",
    "# Create controller manager, this class provides a switch_controller() method for changing controller at runtime\n",
    "controller_manager = create_acrobat_controller_manager(controller_factory=ControllerFactory(), config=config)"
   ]
  },
  {
   "cell_type": "markdown",
   "metadata": {
    "id": "lWyRN4Dvktl6"
   },
   "source": [
    "### Run closed-loop simulation"
   ]
  },
  {
   "cell_type": "code",
   "execution_count": 19,
   "metadata": {
    "colab": {
     "base_uri": "https://localhost:8080/"
    },
    "id": "AAu79FSjkrY9",
    "outputId": "b734b73a-0f77-4696-c979-96f941132aef"
   },
   "outputs": [
    {
     "name": "stderr",
     "output_type": "stream",
     "text": [
      "\r  0%|          | 0/750 [00:00<?, ?it/s]"
     ]
    },
    {
     "name": "stdout",
     "output_type": "stream",
     "text": [
      "\n",
      "[Step 0] Switch from Go1ControllerType.FOOTSTAND to Go1ControllerType.HANDSTAND\n",
      "\n"
     ]
    },
    {
     "name": "stderr",
     "output_type": "stream",
     "text": [
      " 34%|███▎      | 252/750 [01:00<00:08, 61.24it/s]"
     ]
    },
    {
     "name": "stdout",
     "output_type": "stream",
     "text": [
      "\n",
      "[Step 251] Switch from Go1ControllerType.HANDSTAND to Go1ControllerType.JOYSTICK\n",
      "\n"
     ]
    },
    {
     "name": "stderr",
     "output_type": "stream",
     "text": [
      "/content/llm_mjx_go1_playground/src/control/algorithms/mlp.py:80: RuntimeWarning: overflow encountered in exp\n",
      "  x = x / (1 + np.exp(-1 * x))  # brax PPO training defaults to swish as the activation func\n",
      " 37%|███▋      | 278/750 [01:01<00:07, 60.39it/s]"
     ]
    },
    {
     "name": "stdout",
     "output_type": "stream",
     "text": [
      "\n",
      "[Step 277] Switch from Go1ControllerType.JOYSTICK to Go1ControllerType.GETUP\n",
      "\n"
     ]
    },
    {
     "name": "stderr",
     "output_type": "stream",
     "text": [
      " 46%|████▌     | 346/750 [01:02<00:07, 57.19it/s]"
     ]
    },
    {
     "name": "stdout",
     "output_type": "stream",
     "text": [
      "\n",
      "[Step 340] Switch from Go1ControllerType.GETUP to Go1ControllerType.JOYSTICK\n",
      "\n"
     ]
    },
    {
     "name": "stderr",
     "output_type": "stream",
     "text": [
      " 68%|██████▊   | 510/750 [01:05<00:03, 62.47it/s]"
     ]
    },
    {
     "name": "stdout",
     "output_type": "stream",
     "text": [
      "\n",
      "[Step 501] Switch from Go1ControllerType.JOYSTICK to Go1ControllerType.FOOTSTAND\n",
      "\n"
     ]
    },
    {
     "name": "stderr",
     "output_type": "stream",
     "text": [
      "100%|██████████| 750/750 [01:08<00:00, 10.88it/s]\n"
     ]
    }
   ],
   "source": [
    "rollout = []\n",
    "\n",
    "# Play around the controller by modifying command during runtime\n",
    "joystick_command = jax.numpy.array([0, 0, np.pi / 2])\n",
    "controller_manager.set_command(joystick_command)\n",
    "prev_controller_type = controller_manager._active_type\n",
    "\n",
    "# recover stae machine\n",
    "recover_state = RecoverState(env)\n",
    "\n",
    "# start closed-loop sim\n",
    "state = env.reset(rng)\n",
    "sim_steps = int(env.env_cfg.episode_length * 1.5)\n",
    "for i in tqdm(range(sim_steps)):\n",
    "    state.info[\"command\"] = joystick_command\n",
    "    try:\n",
    "        if state.info[\"steps_since_last_pert\"] < state.info[\"steps_until_next_pert\"]:\n",
    "            rng = sample_pert(rng, env, state)\n",
    "    except:\n",
    "        pass\n",
    "    _, rng = jax.random.split(rng)  # this will randomize perturbation\n",
    "\n",
    "    # Switch controllers based on timestep\n",
    "    if i <= sim_steps // 3:\n",
    "        controller_manager.switch_controller(Go1ControllerType.HANDSTAND)\n",
    "    elif i > 2 * sim_steps // 3:\n",
    "        controller_manager.switch_controller(Go1ControllerType.FOOTSTAND)\n",
    "    else:\n",
    "        controller_manager.switch_controller(Go1ControllerType.JOYSTICK)\n",
    "\n",
    "    # switch to recover controller if robot falls down\n",
    "    if recover_state.check(state=state, step=i):\n",
    "        controller_manager.switch_controller(Go1ControllerType.GETUP)\n",
    "\n",
    "    # print out controller switch if detected\n",
    "    print_switch_controller(prev_controller_type, controller_manager._active_type, i)\n",
    "    prev_controller_type = controller_manager._active_type\n",
    "\n",
    "    # controller & simulator step\n",
    "    # note that the controll manager take the state as input instead of state.obs[\"state\"]\n",
    "    ctrl = controller_manager.control(state)\n",
    "    state = env.step(state, ctrl)\n",
    "\n",
    "    # record\n",
    "    rollout.append(state)"
   ]
  },
  {
   "cell_type": "markdown",
   "metadata": {
    "id": "a8nmb8BMk26S"
   },
   "source": [
    "### Video rendering"
   ]
  },
  {
   "cell_type": "code",
   "execution_count": null,
   "metadata": {
    "id": "kFWMV0x9ZAu-"
   },
   "outputs": [],
   "source": [
    "render_every = 2  # render every 2 steps\n",
    "fps = 1.0 / env.dt / render_every\n",
    "traj = rollout[::render_every]\n",
    "\n",
    "scene_option = mujoco.MjvOption()\n",
    "scene_option.geomgroup[2] = True\n",
    "scene_option.geomgroup[3] = False  # set True to visualize collision geom of legs and body (assume rgba defined in xml)\n",
    "scene_option.flags[mujoco.mjtVisFlag.mjVIS_CONTACTPOINT] = True\n",
    "scene_option.flags[mujoco.mjtVisFlag.mjVIS_CONTACTFORCE] = False\n",
    "scene_option.flags[mujoco.mjtVisFlag.mjVIS_TRANSPARENT] = False\n",
    "# scene_option.flags[mujoco.mjtVisFlag.mjVIS_CONVEXHULL] = True\n",
    "\n",
    "frames = env.render(traj, camera=\"track\", scene_option=scene_option, height=480, width=640)\n",
    "mediapy.show_video(frames, fps=fps, loop=False)"
   ]
  },
  {
   "cell_type": "code",
   "execution_count": null,
   "metadata": {
    "id": "PHx93hPkOtFU"
   },
   "outputs": [],
   "source": [
    "mediapy.write_video(\"tmp.mp4\", frames, fps=fps)"
   ]
  },
  {
   "cell_type": "code",
   "execution_count": null,
   "metadata": {
    "id": "edwQI3VVQOtB"
   },
   "outputs": [],
   "source": []
  }
 ],
 "metadata": {
  "colab": {
   "provenance": []
  },
  "kernelspec": {
   "display_name": "Python 3",
   "name": "python3"
  },
  "language_info": {
   "codemirror_mode": {
    "name": "ipython",
    "version": 3
   },
   "file_extension": ".py",
   "mimetype": "text/x-python",
   "name": "python",
   "nbconvert_exporter": "python",
   "pygments_lexer": "ipython3",
   "version": "3.12.3"
  }
 },
 "nbformat": 4,
 "nbformat_minor": 0
}