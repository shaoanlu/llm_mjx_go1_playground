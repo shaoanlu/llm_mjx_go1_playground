{
 "cells": [
  {
   "cell_type": "markdown",
   "metadata": {
    "id": "FPsnZakTrFGS"
   },
   "source": [
    "# Quadruped Robot Collision Avoidance\n",
    "\n",
    "This notebook demonstrates using control barrier function (CBF) as a safety filter for collision avoidance of a quadruped.\n",
    "\n",
    "## Installation and Setup\n",
    "First, let's install the required packages:"
   ]
  },
  {
   "cell_type": "code",
   "execution_count": 1,
   "metadata": {
    "cellView": "form",
    "id": "Xqo7pyX-n72M"
   },
   "outputs": [],
   "source": [
    "%%capture\n",
    "!pip install proxsuite==0.6.7\n",
    "!pip install mujoco mujoco_mjx brax playground\n",
    "!command -v ffmpeg >/dev/null || (apt update && apt install -y ffmpeg)\n",
    "!pip install -q mediapy\n",
    "!apt-get update\n",
    "!apt-get install -y libosmesa6-dev libgl1-mesa-glx libglfw3 patchelf"
   ]
  },
  {
   "cell_type": "markdown",
   "metadata": {
    "id": "4pdGUdyj1LDI"
   },
   "source": [
    "## === If using Colab, please restart kernel so that proxsuite cab be imported properly==="
   ]
  },
  {
   "cell_type": "code",
   "execution_count": 1,
   "metadata": {
    "id": "T5f4w3Kq2X14"
   },
   "outputs": [],
   "source": [
    "%load_ext autoreload\n",
    "%autoreload 2\n",
    "\n",
    "import jax\n",
    "import numpy as np\n",
    "import mediapy\n",
    "import os\n",
    "from tqdm import tqdm\n",
    "from matplotlib import pyplot as plt\n",
    "\n",
    "os.environ[\"MUJOCO_GL\"] = \"egl\"\n",
    "\n",
    "# More legible printing from numpy.\n",
    "np.set_printoptions(precision=3, suppress=True, linewidth=100)"
   ]
  },
  {
   "cell_type": "code",
   "execution_count": 1,
   "metadata": {
    "id": "ZcNqx9YUejAy"
   },
   "outputs": [],
   "source": []
  },
  {
   "cell_type": "markdown",
   "metadata": {
    "id": "hssKFDcnrFGW"
   },
   "source": [
    "## Clone the Repository\n",
    "Clone the repository containing the simulation environment and navigation code:"
   ]
  },
  {
   "cell_type": "code",
   "execution_count": 2,
   "metadata": {
    "colab": {
     "base_uri": "https://localhost:8080/"
    },
    "id": "2ZnNqQU0TQvb",
    "outputId": "5ae3b632-89c3-451a-d891-79e83defdabd"
   },
   "outputs": [
    {
     "name": "stdout",
     "output_type": "stream",
     "text": [
      "Cloning into 'llm_mjx_go1_playground'...\n",
      "remote: Enumerating objects: 831, done.\u001b[K\n",
      "remote: Counting objects: 100% (344/344), done.\u001b[K\n",
      "remote: Compressing objects: 100% (232/232), done.\u001b[K\n",
      "remote: Total 831 (delta 213), reused 205 (delta 109), pack-reused 487 (from 1)\u001b[K\n",
      "Receiving objects: 100% (831/831), 10.13 MiB | 37.06 MiB/s, done.\n",
      "Resolving deltas: 100% (484/484), done.\n"
     ]
    }
   ],
   "source": [
    "!git clone https://github.com/shaoanlu/llm_mjx_go1_playground.git"
   ]
  },
  {
   "cell_type": "code",
   "execution_count": 3,
   "metadata": {
    "colab": {
     "base_uri": "https://localhost:8080/"
    },
    "id": "pQXZu_W7ExY6",
    "outputId": "0d14a788-c4e0-48a0-c531-136b5e2ccb36"
   },
   "outputs": [
    {
     "name": "stdout",
     "output_type": "stream",
     "text": [
      "/content/llm_mjx_go1_playground\n"
     ]
    }
   ],
   "source": [
    "%cd llm_mjx_go1_playground"
   ]
  },
  {
   "cell_type": "code",
   "execution_count": null,
   "metadata": {
    "id": "3pkg5cSQyezg"
   },
   "outputs": [],
   "source": []
  },
  {
   "cell_type": "markdown",
   "metadata": {
    "id": "44atRFgL0fej"
   },
   "source": [
    "### Initialize Simulation\n",
    "Set up the MuJoCo simulation environment:\n",
    "- Instantiate the `Go1Env` (which load the maze scene XML)\n",
    "- Configure mujoco camera parameters and rendering options"
   ]
  },
  {
   "cell_type": "code",
   "execution_count": null,
   "metadata": {
    "colab": {
     "base_uri": "https://localhost:8080/"
    },
    "id": "vl3ZYexzMP_1",
    "outputId": "c5b3116b-e905-4fba-f15c-3d2ae27c453f"
   },
   "outputs": [
    {
     "name": "stdout",
     "output_type": "stream",
     "text": [
      "mujoco_menagerie not found. Downloading...\n"
     ]
    },
    {
     "name": "stderr",
     "output_type": "stream",
     "text": [
      "Cloning mujoco_menagerie: ██████████| 100/100 [00:26<00:00]\n"
     ]
    },
    {
     "name": "stdout",
     "output_type": "stream",
     "text": [
      "Checking out commit 5e6af47a49bf8ae27581615b54045107b20ce584\n",
      "Successfully downloaded mujoco_menagerie\n"
     ]
    }
   ],
   "source": [
    "# import mujoco after setting MUJOCO_GL to prevent errors in video rendering\n",
    "import mujoco\n",
    "from mujoco_playground._src import mjx_env\n",
    "from typing import List\n",
    "\n",
    "from src.environment.custom_go1_env import CustomGo1JoystickEnv\n",
    "from src.environment.env_wrapper import Go1Env\n",
    "from src.control.controller_factory import ControllerFactory\n",
    "from src.control.position_controller import PositionController, PositionCommand, PositionControllerParams\n",
    "from src.control.algorithms.polar_coord_control import PolarCoordinateControllerParams\n",
    "from src.control.algorithms.seq_pos_control import SequentialControllerParams\n",
    "from src.control.algorithms.mlp import MLPPolicy, MLPPolicyParams\n",
    "from src.control.algorithms.base import HighLevelCommand\n",
    "\n",
    "from src.control.models import Simple2DRobot\n",
    "from src.control.models.simple_robot import Simple2DRobotParams\n",
    "from src.control.safety_filter import SafeCommand, SafetyFilter, SafetyFilterParams\n",
    "from src.planning.base import FixedWaypointsPlanner\n",
    "from src.control.state import Go1State"
   ]
  },
  {
   "cell_type": "code",
   "execution_count": 5,
   "metadata": {
    "id": "A25aSR1fLJU9"
   },
   "outputs": [],
   "source": [
    "# Set up the camera\n",
    "camera = mujoco.MjvCamera()\n",
    "mujoco.mjv_defaultCamera(camera)\n",
    "camera.lookat[:] = np.array([5.0, 1.5, 1.5])  # Center of object\n",
    "\n",
    "# Calculate distance using a safe margin\n",
    "object_size = 10  # Maximum size in X or Y\n",
    "fov = 45  # Default MuJoCo camera FOV\n",
    "safe_margin = 1  # Factor to ensure entire object is in view\n",
    "\n",
    "# Compute required distance using field of view\n",
    "camera.distance = (object_size / 2) / np.tan(np.radians(fov / 2)) * safe_margin\n",
    "\n",
    "# Look directly down\n",
    "camera.azimuth = 90  # No horizontal rotation\n",
    "camera.elevation = -70  # Downward\n",
    "\n",
    "scene_option = mujoco.MjvOption()\n",
    "scene_option.flags[mujoco.mjtVisFlag.mjVIS_RANGEFINDER] = True"
   ]
  },
  {
   "cell_type": "code",
   "execution_count": 18,
   "metadata": {
    "id": "XcBqDs8e0fek"
   },
   "outputs": [],
   "source": [
    "# instantiate mujoco Env\n",
    "rng = jax.random.PRNGKey(0)\n",
    "mpenv = CustomGo1JoystickEnv(xml_path=\"xmls/go1_mjx_obstacles_scene.xml\")\n",
    "env = Go1Env(env=mpenv, env_cfg=mpenv.env_cfg)"
   ]
  },
  {
   "cell_type": "markdown",
   "metadata": {
    "id": "gt34bGwSDJDS"
   },
   "source": [
    "###  Define Helper Functions"
   ]
  },
  {
   "cell_type": "code",
   "execution_count": null,
   "metadata": {
    "id": "GB5NorWvGRYp"
   },
   "outputs": [],
   "source": [
    "def sample_pert(rng, env, state, velocity_kick_range=[0.0, 0.0], kick_duration_range=[0.05, 0.2]):\n",
    "    \"\"\"\n",
    "    Random purterbation to the robot\n",
    "    \"\"\"\n",
    "    rng, key1, key2 = jax.random.split(rng, 3)\n",
    "    pert_mag = jax.random.uniform(key1, minval=velocity_kick_range[0], maxval=velocity_kick_range[1])\n",
    "    duration_seconds = jax.random.uniform(key2, minval=kick_duration_range[0], maxval=kick_duration_range[1])\n",
    "    duration_steps = jax.numpy.round(duration_seconds / env.dt).astype(jax.numpy.int32)\n",
    "    state.info[\"pert_mag\"] = pert_mag\n",
    "    state.info[\"pert_duration\"] = duration_steps\n",
    "    state.info[\"pert_duration_seconds\"] = duration_seconds\n",
    "    return rng\n",
    "\n",
    "\n",
    "def detect_obstacles(state, lidar_range=list(range(-60, 61, 1))):\n",
    "    # Read rangefinder sensor data and convert to XY position\n",
    "    det_points = []\n",
    "    num_lidar_pnts = len(lidar_range)\n",
    "    for d, ang in zip(np.array(state.data.sensordata[-num_lidar_pnts:]), lidar_range):\n",
    "        if d == -1 or abs(d) >= 10:\n",
    "            continue\n",
    "        det_points.append((float(d * np.cos(np.deg2rad(ang))), float(d * np.sin(np.deg2rad(ang)))))\n",
    "    return np.array(det_points)\n",
    "\n",
    "\n",
    "def preprocess_input_for_safety_filter(state, pos_command, safety_filter):\n",
    "    # Convert to Go1State and extract XY vel command\n",
    "    # note that position returned by rangefinder has origin of current robot position\n",
    "    state_rel_to_sensor = Go1State.from_mjx_state(state)\n",
    "    state_rel_to_sensor.position = np.array([0.0, 0.0, state_rel_to_sensor.position[2]])\n",
    "    return state_rel_to_sensor, pos_command.value[:2]\n",
    "\n",
    "\n",
    "# def post_process_safe_command(safe_command, pos_command):\n",
    "#     # Combine safe XY command and raw yaw command\n",
    "#     return np.concatenate([safe_command.value, pos_command.value[-1:]])\n",
    "\n",
    "\n",
    "def plot_detected_obstacles(state, lidar_range=list(range(-60, 61, 1))):\n",
    "    det_points = []\n",
    "    det_angles = []\n",
    "\n",
    "    plt.gca().set_aspect(\"equal\")\n",
    "    for d, ang in zip(np.array(state.data.sensordata[-len(lidar_range) :]), lidar_range):\n",
    "        if d == -1 or abs(d) >= 10:\n",
    "            continue\n",
    "        # if ang > 90:\n",
    "        #   continue\n",
    "        plt.plot([0, float(d * np.cos(np.deg2rad(ang)))], [0, float(d * np.sin(np.deg2rad(ang)))], \"-\", color=\"b\")\n",
    "        det_points.append((float(d * np.cos(np.deg2rad(ang))), float(d * np.sin(np.deg2rad(ang)))))\n",
    "        det_angles.append(ang)\n",
    "    plt.scatter(np.array(det_points)[:, 0], np.array(det_points)[:, 1], color=\"g\")\n",
    "    plt.scatter(0, 0, color=\"r\")\n",
    "    plt.xlim(-5, 5)\n",
    "    plt.ylim(-5, 5)\n",
    "    plt.xlabel(\"X\")\n",
    "    plt.ylabel(\"Y\")\n",
    "    plt.show()"
   ]
  },
  {
   "cell_type": "markdown",
   "metadata": {
    "id": "FKA1AJnXrn0O"
   },
   "source": [
    "## Demo: Nagivating a go1 quadruped with safety filter for collision avoidance\n"
   ]
  },
  {
   "cell_type": "markdown",
   "metadata": {
    "id": "FY5IPFW0aYRd"
   },
   "source": [
    "### Robot Controllers\n",
    "1. Waypoint generator\n",
    "2. High-level position controller that follows waypoints\n",
    "3. Low-level MLP policy that controls individual joint movements\n",
    "4. Safety filter that modifies high-level controller's command before feeding it to mlp policy"
   ]
  },
  {
   "cell_type": "code",
   "execution_count": 26,
   "metadata": {
    "id": "eSBEmVijUCLG"
   },
   "outputs": [],
   "source": [
    "# Waypoint planner\n",
    "planner = FixedWaypointsPlanner(waypoints=[np.array([4, 4]), np.array([9, 0])])\n",
    "\n",
    "# Low-level MLP\n",
    "factory = ControllerFactory()\n",
    "mlp_params = MLPPolicyParams(npy_path=\"src/control/nn_params/Go1JoystickFlatTerrain\")\n",
    "command_follower = factory.build(params=mlp_params)\n",
    "\n",
    "# High-level command generator\n",
    "pc_config = PositionControllerParams(\n",
    "    primary_controller=SequentialControllerParams(),\n",
    "    fallback_controller=SequentialControllerParams(),\n",
    ")\n",
    "command_generator = PositionController(factory=factory, config=pc_config)\n",
    "\n",
    "# safety filter\n",
    "safety_filter = SafetyFilter(\n",
    "    config=SafetyFilterParams(\n",
    "        model=Simple2DRobot(Simple2DRobotParams(a=0.41, b=0.27)),\n",
    "        max_output=(1.5, 0.8),\n",
    "        min_output=(-1.5, -0.8),\n",
    "        cbf_alpha=10.0,\n",
    "        cbf_kappa=10.0,\n",
    "        cbf_slack_penalty=1e7,\n",
    "    )\n",
    ")"
   ]
  },
  {
   "cell_type": "code",
   "execution_count": 26,
   "metadata": {
    "id": "TuHmcfANlUQ3"
   },
   "outputs": [],
   "source": []
  },
  {
   "cell_type": "markdown",
   "metadata": {
    "id": "VryFlToulU4R"
   },
   "source": [
    "## Start Simulation\n",
    "\n",
    "### Limitation\n",
    "Since the CBF uses a simple model that has direct control in XY direction. There are gap in terms of\n",
    "1. Yaw angle control of high-level control not presented in cbf\n",
    "2. The MLP policy does not track command well in low velocity region (similar to a deadzone)\n",
    "3. obstacle points are detected in robot coord instead of world coord\n",
    "\n",
    "Such gaps can lead to deadlock ini some cases where the robot stuck in front of the obstacle.\n"
   ]
  },
  {
   "cell_type": "code",
   "execution_count": null,
   "metadata": {
    "id": "39f7sGTaBUrO"
   },
   "outputs": [],
   "source": [
    "rollout: List[mjx_env.State] = []\n",
    "command_pairs = []\n",
    "sf_reuslt = []  # for debugging\n",
    "waypoint_idx: int = 0\n",
    "\n",
    "_, rng = jax.random.split(rng)\n",
    "state = env.reset(rng)\n",
    "waypoints = planner.plan().waypoints\n",
    "print(f\"{waypoints=}\")\n",
    "\n",
    "# start closed-loop sim\n",
    "for i in tqdm(range(1000)):\n",
    "    _, rng = jax.random.split(rng)  # this will randomize perturbation\n",
    "    rng = sample_pert(rng, env, state)\n",
    "\n",
    "    # calculate control command\n",
    "    cell_center_offset = 0.5\n",
    "    target_position = waypoints[waypoint_idx] + cell_center_offset\n",
    "    pos_command: HighLevelCommand = command_generator.compute_command(state, target_position)\n",
    "\n",
    "    # detect obstacle points using rangefinder sensor data\n",
    "    obstacle_positions = detect_obstacles(state)\n",
    "\n",
    "    # calculate safe command\n",
    "    # safe_command = pos_command.value\n",
    "    inp_state, inp_command = preprocess_input_for_safety_filter(state, pos_command, safety_filter)\n",
    "    safe_command: HighLevelCommand = safety_filter.compute_command(\n",
    "        state=inp_state, command=inp_command, obstacle_positions=obstacle_positions\n",
    "    )\n",
    "    state.info[\"command\"] = safe_command.value\n",
    "\n",
    "    # low-level control\n",
    "    ctrl = command_follower.control(state.obs[\"state\"])\n",
    "\n",
    "    # simulator step\n",
    "    state = env.step(state, ctrl)\n",
    "\n",
    "    # record\n",
    "    rollout.append(state)\n",
    "    command_pairs.append((pos_command.value, safe_command.value))\n",
    "    sf_reuslt.append(safe_command)\n",
    "\n",
    "    # check arrival at current waypoint\n",
    "    if pos_command.info.is_arrived:\n",
    "        waypoint_idx = min(waypoint_idx + 1, len(waypoints))  # proceed to next waypoint\n",
    "\n",
    "        # Check if the arrived at the last waypoint\n",
    "        if waypoint_idx == len(waypoints):\n",
    "            print(\"\\nRobot arrives at goal position.\")\n",
    "            break"
   ]
  },
  {
   "cell_type": "code",
   "execution_count": null,
   "metadata": {
    "id": "hNyHBwWEBHvx"
   },
   "outputs": [],
   "source": []
  },
  {
   "cell_type": "markdown",
   "metadata": {
    "id": "GK4I7B0p0fem"
   },
   "source": [
    "## Results Visualization"
   ]
  },
  {
   "cell_type": "code",
   "execution_count": null,
   "metadata": {
    "id": "_tj3WRkrBabQ"
   },
   "outputs": [],
   "source": [
    "render_every = 5\n",
    "fps = 3.0 / env.dt / render_every  # 3x realtime\n",
    "traj = rollout[::render_every]\n",
    "\n",
    "frames = env.render(traj, camera=camera, scene_option=scene_option, height=480, width=640)\n",
    "mediapy.show_video(frames, fps=fps, loop=False)"
   ]
  },
  {
   "cell_type": "code",
   "execution_count": 33,
   "metadata": {
    "colab": {
     "base_uri": "https://localhost:8080/",
     "height": 539
    },
    "id": "K3xrqKqM88dx",
    "outputId": "740aa0fb-b5bf-4595-ff49-f88510ca29e4"
   },
   "outputs": [
    {
     "name": "stderr",
     "output_type": "stream",
     "text": [
      "100%|██████████| 1/1 [00:00<00:00,  1.17it/s]\n"
     ]
    },
    {
     "data": {
      "text/html": [
       "<style>\n",
       "      .ndarray_repr .ndarray_raw_data {\n",
       "        display: none;\n",
       "      }\n",
       "      .ndarray_repr.show_array .ndarray_raw_data {\n",
       "        display: block;\n",
       "      }\n",
       "      .ndarray_repr.show_array .ndarray_image_preview {\n",
       "        display: none;\n",
       "      }\n",
       "      </style>\n",
       "      <div id=\"id-74a61688-bac5-4cec-a856-6b148d408413\" class=\"ndarray_repr\"><pre>ndarray (480, 640, 3) <button style=\"padding: 0 2px;\">show data</button></pre><img src=\"data:image/png;base64,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\" class=\"ndarray_image_preview\" /><pre class=\"ndarray_raw_data\">array([[[219, 219, 219],\n",
       "        [216, 216, 216],\n",
       "        [211, 211, 211],\n",
       "        ...,\n",
       "        [211, 211, 211],\n",
       "        [216, 216, 216],\n",
       "        [219, 219, 219]],\n",
       "\n",
       "       [[219, 219, 219],\n",
       "        [216, 216, 216],\n",
       "        [210, 210, 210],\n",
       "        ...,\n",
       "        [210, 210, 210],\n",
       "        [216, 216, 216],\n",
       "        [219, 219, 219]],\n",
       "\n",
       "       [[217, 217, 217],\n",
       "        [214, 214, 214],\n",
       "        [209, 209, 209],\n",
       "        ...,\n",
       "        [209, 209, 209],\n",
       "        [214, 214, 214],\n",
       "        [217, 217, 217]],\n",
       "\n",
       "       ...,\n",
       "\n",
       "       [[249, 249, 249],\n",
       "        [249, 249, 249],\n",
       "        [249, 249, 249],\n",
       "        ...,\n",
       "        [227, 227, 227],\n",
       "        [227, 227, 227],\n",
       "        [227, 227, 227]],\n",
       "\n",
       "       [[249, 249, 249],\n",
       "        [249, 249, 249],\n",
       "        [249, 249, 249],\n",
       "        ...,\n",
       "        [227, 227, 227],\n",
       "        [227, 227, 227],\n",
       "        [227, 227, 227]],\n",
       "\n",
       "       [[248, 248, 248],\n",
       "        [248, 248, 248],\n",
       "        [248, 248, 248],\n",
       "        ...,\n",
       "        [227, 227, 227],\n",
       "        [227, 227, 227],\n",
       "        [227, 227, 227]]], dtype=uint8)</pre></div><script>\n",
       "      (() => {\n",
       "      const titles = ['show data', 'hide data'];\n",
       "      let index = 0\n",
       "      document.querySelector('#id-74a61688-bac5-4cec-a856-6b148d408413 button').onclick = (e) => {\n",
       "        document.querySelector('#id-74a61688-bac5-4cec-a856-6b148d408413').classList.toggle('show_array');\n",
       "        index = (++index) % 2;\n",
       "        document.querySelector('#id-74a61688-bac5-4cec-a856-6b148d408413 button').textContent = titles[index];\n",
       "        e.preventDefault();\n",
       "        e.stopPropagation();\n",
       "      }\n",
       "      })();\n",
       "    </script>"
      ],
      "text/plain": [
       "array([[[219, 219, 219],\n",
       "        [216, 216, 216],\n",
       "        [211, 211, 211],\n",
       "        ...,\n",
       "        [211, 211, 211],\n",
       "        [216, 216, 216],\n",
       "        [219, 219, 219]],\n",
       "\n",
       "       [[219, 219, 219],\n",
       "        [216, 216, 216],\n",
       "        [210, 210, 210],\n",
       "        ...,\n",
       "        [210, 210, 210],\n",
       "        [216, 216, 216],\n",
       "        [219, 219, 219]],\n",
       "\n",
       "       [[217, 217, 217],\n",
       "        [214, 214, 214],\n",
       "        [209, 209, 209],\n",
       "        ...,\n",
       "        [209, 209, 209],\n",
       "        [214, 214, 214],\n",
       "        [217, 217, 217]],\n",
       "\n",
       "       ...,\n",
       "\n",
       "       [[249, 249, 249],\n",
       "        [249, 249, 249],\n",
       "        [249, 249, 249],\n",
       "        ...,\n",
       "        [227, 227, 227],\n",
       "        [227, 227, 227],\n",
       "        [227, 227, 227]],\n",
       "\n",
       "       [[249, 249, 249],\n",
       "        [249, 249, 249],\n",
       "        [249, 249, 249],\n",
       "        ...,\n",
       "        [227, 227, 227],\n",
       "        [227, 227, 227],\n",
       "        [227, 227, 227]],\n",
       "\n",
       "       [[248, 248, 248],\n",
       "        [248, 248, 248],\n",
       "        [248, 248, 248],\n",
       "        ...,\n",
       "        [227, 227, 227],\n",
       "        [227, 227, 227],\n",
       "        [227, 227, 227]]], dtype=uint8)"
      ]
     },
     "execution_count": 33,
     "metadata": {},
     "output_type": "execute_result"
    }
   ],
   "source": [
    "frames[0]"
   ]
  },
  {
   "cell_type": "code",
   "execution_count": null,
   "metadata": {
    "id": "uTQ4bNDPwMk3"
   },
   "outputs": [],
   "source": []
  },
  {
   "cell_type": "code",
   "execution_count": null,
   "metadata": {
    "id": "_VQtI8JJwMqC"
   },
   "outputs": [],
   "source": []
  },
  {
   "cell_type": "code",
   "execution_count": null,
   "metadata": {
    "id": "Yi3fsxXZbRmm"
   },
   "outputs": [],
   "source": []
  }
 ],
 "metadata": {
  "accelerator": "GPU",
  "colab": {
   "collapsed_sections": [
    "ztsiVLBcfRiR"
   ],
   "gpuType": "T4",
   "provenance": []
  },
  "kernelspec": {
   "display_name": "Python 3",
   "name": "python3"
  },
  "language_info": {
   "codemirror_mode": {
    "name": "ipython",
    "version": 3
   },
   "file_extension": ".py",
   "mimetype": "text/x-python",
   "name": "python",
   "nbconvert_exporter": "python",
   "pygments_lexer": "ipython3",
   "version": "3.12.3"
  }
 },
 "nbformat": 4,
 "nbformat_minor": 0
}
